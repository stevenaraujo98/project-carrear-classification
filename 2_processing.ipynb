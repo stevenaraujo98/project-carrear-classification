{
 "cells": [
  {
   "cell_type": "code",
   "execution_count": 1,
   "id": "c56ebc66",
   "metadata": {},
   "outputs": [],
   "source": [
    "import pandas as pd\n",
    "import re\n",
    "import glob"
   ]
  },
  {
   "cell_type": "code",
   "execution_count": 2,
   "id": "e5ec03e2",
   "metadata": {},
   "outputs": [],
   "source": [
    "pd.set_option('display.max_columns', None)"
   ]
  },
  {
   "cell_type": "code",
   "execution_count": 3,
   "id": "64b14ac5",
   "metadata": {},
   "outputs": [],
   "source": [
    "df = pd.read_csv('data/projects_complete.csv')"
   ]
  },
  {
   "cell_type": "code",
   "execution_count": 5,
   "id": "f269aeda",
   "metadata": {},
   "outputs": [
    {
     "data": {
      "text/plain": [
       "(19422, 6)"
      ]
     },
     "execution_count": 5,
     "metadata": {},
     "output_type": "execute_result"
    }
   ],
   "source": [
    "df.shape"
   ]
  },
  {
   "cell_type": "code",
   "execution_count": 4,
   "id": "43d2e615",
   "metadata": {},
   "outputs": [
    {
     "data": {
      "text/html": [
       "<div>\n",
       "<style scoped>\n",
       "    .dataframe tbody tr th:only-of-type {\n",
       "        vertical-align: middle;\n",
       "    }\n",
       "\n",
       "    .dataframe tbody tr th {\n",
       "        vertical-align: top;\n",
       "    }\n",
       "\n",
       "    .dataframe thead th {\n",
       "        text-align: right;\n",
       "    }\n",
       "</style>\n",
       "<table border=\"1\" class=\"dataframe\">\n",
       "  <thead>\n",
       "    <tr style=\"text-align: right;\">\n",
       "      <th></th>\n",
       "      <th>titulo</th>\n",
       "      <th>FACULTAD</th>\n",
       "      <th>CARRERA</th>\n",
       "      <th>NOMBREPROYEC</th>\n",
       "      <th>counts</th>\n",
       "      <th>URL</th>\n",
       "    </tr>\n",
       "  </thead>\n",
       "  <tbody>\n",
       "    <tr>\n",
       "      <th>0</th>\n",
       "      <td>preparación de nano celulosa y su utilización ...</td>\n",
       "      <td>Facultad de Ciencias Naturales y Matemáticas</td>\n",
       "      <td>Ingeniería Química</td>\n",
       "      <td>Preparación de nano celulosa y su utilización ...</td>\n",
       "      <td>72.0</td>\n",
       "      <td>0</td>\n",
       "    </tr>\n",
       "    <tr>\n",
       "      <th>1</th>\n",
       "      <td>monitoreo no intrusivo de cargas eléctricas en...</td>\n",
       "      <td>Facultad de Ciencias Naturales y Matemáticas</td>\n",
       "      <td>Logistica y Transporte</td>\n",
       "      <td>MONITOREO NO INTRUSIVO DE CARGAS ELÉCTRICAS EN...</td>\n",
       "      <td>71.0</td>\n",
       "      <td>0</td>\n",
       "    </tr>\n",
       "    <tr>\n",
       "      <th>2</th>\n",
       "      <td>difusión del uso de herramientas tecnológicas ...</td>\n",
       "      <td>Facultad de Arte, Diseño y Comunicación Audiov...</td>\n",
       "      <td>Diseño Gráfico</td>\n",
       "      <td>Difusión del uso de herramientas tecnológicas ...</td>\n",
       "      <td>62.0</td>\n",
       "      <td>0</td>\n",
       "    </tr>\n",
       "    <tr>\n",
       "      <th>3</th>\n",
       "      <td>plan de negocios para la venta de snacks salud...</td>\n",
       "      <td>Facultad de Ciencias Sociales y Humanísticas</td>\n",
       "      <td>Ingeniería en Negocios Internacionales</td>\n",
       "      <td>PLAN DE NEGOCIOS PARA LA VENTA DE SNACKS SALUD...</td>\n",
       "      <td>56.0</td>\n",
       "      <td>0</td>\n",
       "    </tr>\n",
       "    <tr>\n",
       "      <th>4</th>\n",
       "      <td>variacion del tiempo de fraguado debido a mixt...</td>\n",
       "      <td>Facultad de Ingeniería en Ciencias de la Tierra</td>\n",
       "      <td>Ingeniería  Civil</td>\n",
       "      <td>Variacion del tiempo de fraguado debido a mixt...</td>\n",
       "      <td>56.0</td>\n",
       "      <td>0</td>\n",
       "    </tr>\n",
       "  </tbody>\n",
       "</table>\n",
       "</div>"
      ],
      "text/plain": [
       "                                              titulo  \\\n",
       "0  preparación de nano celulosa y su utilización ...   \n",
       "1  monitoreo no intrusivo de cargas eléctricas en...   \n",
       "2  difusión del uso de herramientas tecnológicas ...   \n",
       "3  plan de negocios para la venta de snacks salud...   \n",
       "4  variacion del tiempo de fraguado debido a mixt...   \n",
       "\n",
       "                                            FACULTAD  \\\n",
       "0       Facultad de Ciencias Naturales y Matemáticas   \n",
       "1       Facultad de Ciencias Naturales y Matemáticas   \n",
       "2  Facultad de Arte, Diseño y Comunicación Audiov...   \n",
       "3       Facultad de Ciencias Sociales y Humanísticas   \n",
       "4    Facultad de Ingeniería en Ciencias de la Tierra   \n",
       "\n",
       "                                  CARRERA  \\\n",
       "0                      Ingeniería Química   \n",
       "1                  Logistica y Transporte   \n",
       "2                          Diseño Gráfico   \n",
       "3  Ingeniería en Negocios Internacionales   \n",
       "4                       Ingeniería  Civil   \n",
       "\n",
       "                                        NOMBREPROYEC  counts URL  \n",
       "0  Preparación de nano celulosa y su utilización ...    72.0   0  \n",
       "1  MONITOREO NO INTRUSIVO DE CARGAS ELÉCTRICAS EN...    71.0   0  \n",
       "2  Difusión del uso de herramientas tecnológicas ...    62.0   0  \n",
       "3  PLAN DE NEGOCIOS PARA LA VENTA DE SNACKS SALUD...    56.0   0  \n",
       "4  Variacion del tiempo de fraguado debido a mixt...    56.0   0  "
      ]
     },
     "execution_count": 4,
     "metadata": {},
     "output_type": "execute_result"
    }
   ],
   "source": [
    "df.head()"
   ]
  },
  {
   "cell_type": "code",
   "execution_count": 6,
   "id": "1daaac93",
   "metadata": {},
   "outputs": [
    {
     "data": {
      "text/plain": [
       "(18277, 18672, 10, 78)"
      ]
     },
     "execution_count": 6,
     "metadata": {},
     "output_type": "execute_result"
    }
   ],
   "source": [
    "df[\"titulo\"].nunique(), df[\"NOMBREPROYEC\"].nunique(), df[\"FACULTAD\"].nunique(), df[\"CARRERA\"].nunique()"
   ]
  },
  {
   "cell_type": "code",
   "execution_count": 8,
   "id": "5e670504",
   "metadata": {},
   "outputs": [
    {
     "data": {
      "text/plain": [
       "titulo\n",
       "diseño de un equipo para la medición de la biodegradabilidad en películas polimérica y no poliméricas                                                                                                                       6\n",
       "diseño estudio caracterización y evaluación de la factibilidad de uso de un envase innovador para la industria alimentaria en el mercado ecuatoriano                                                                        6\n",
       "diseño de un sistema de riego automatizado mediante el suministro de energías no convencionales para la producción de cabras                                                                                                5\n",
       "determinación de características de las playas de valdivia playa rosada y san pedro para apoyar el manejo de la anidación de tortugas en el país mediante acitividades de turismo responsable                               5\n",
       "prototipo de control automático de calidad de comida usando imágenes hiperespectrales                                                                                                                                       5\n",
       "                                                                                                                                                                                                                           ..\n",
       "plan de negocio servicio para las personas de remision de cancer de mama                                                                                                                                                    2\n",
       "sistematización del proceso de gestión de solicitudes del comité de ética en investigación de la espol fase                                                                                                                 2\n",
       "desarrollo de un prototipo de sistema para el seguimiento de contratos para la espol                                                                                                                                        2\n",
       "estudio de factibilidad para la creación de una empresa de servicios generales en la ciudad de milagro provincia del guayas                                                                                                 2\n",
       "desarrollo de emprendimientos económicamente sostenible de palo santo con énfasis en el rediseño de sistemas de propagación vegetativa y estudio químico del exudado para la mejora del estándar vida de los productores    2\n",
       "Name: count, Length: 1018, dtype: int64"
      ]
     },
     "execution_count": 8,
     "metadata": {},
     "output_type": "execute_result"
    }
   ],
   "source": [
    "df_titulo_count = df[\"titulo\"].value_counts()\n",
    "df_titulo_count = df_titulo_count[df_titulo_count > 1]\n",
    "df_titulo_count"
   ]
  },
  {
   "cell_type": "code",
   "execution_count": 13,
   "id": "4e33a7e3",
   "metadata": {},
   "outputs": [
    {
     "data": {
      "text/html": [
       "<div>\n",
       "<style scoped>\n",
       "    .dataframe tbody tr th:only-of-type {\n",
       "        vertical-align: middle;\n",
       "    }\n",
       "\n",
       "    .dataframe tbody tr th {\n",
       "        vertical-align: top;\n",
       "    }\n",
       "\n",
       "    .dataframe thead th {\n",
       "        text-align: right;\n",
       "    }\n",
       "</style>\n",
       "<table border=\"1\" class=\"dataframe\">\n",
       "  <thead>\n",
       "    <tr style=\"text-align: right;\">\n",
       "      <th></th>\n",
       "      <th>titulo</th>\n",
       "      <th>FACULTAD</th>\n",
       "      <th>CARRERA</th>\n",
       "      <th>NOMBREPROYEC</th>\n",
       "      <th>counts</th>\n",
       "      <th>URL</th>\n",
       "    </tr>\n",
       "  </thead>\n",
       "  <tbody>\n",
       "    <tr>\n",
       "      <th>544</th>\n",
       "      <td>diseño de un equipo para la medición de la bio...</td>\n",
       "      <td>Facultad de Ingeniería en Mecánica y Ciencias ...</td>\n",
       "      <td>Alimentos</td>\n",
       "      <td>DISEÑO DE UN EQUIPO PARA LA MEDICIÓN DE LA BIO...</td>\n",
       "      <td>24.0</td>\n",
       "      <td>0</td>\n",
       "    </tr>\n",
       "    <tr>\n",
       "      <th>574</th>\n",
       "      <td>diseño de un equipo para la medición de la bio...</td>\n",
       "      <td>Facultad de Ingeniería en Mecánica y Ciencias ...</td>\n",
       "      <td>Mecánica</td>\n",
       "      <td>Diseño de un equipo para la medición de la bio...</td>\n",
       "      <td>24.0</td>\n",
       "      <td>0</td>\n",
       "    </tr>\n",
       "    <tr>\n",
       "      <th>2141</th>\n",
       "      <td>diseño de un equipo para la medición de la bio...</td>\n",
       "      <td>Facultad de Ciencias Naturales y Matemáticas</td>\n",
       "      <td>Ingeniería Química</td>\n",
       "      <td>DISEÑO DE UN EQUIPO PARA LA MEDICIÓN DE LA BIO...</td>\n",
       "      <td>16.0</td>\n",
       "      <td>0</td>\n",
       "    </tr>\n",
       "    <tr>\n",
       "      <th>2658</th>\n",
       "      <td>diseño de un equipo para la medición de la bio...</td>\n",
       "      <td>Facultad de Ingeniería en Electricidad y Compu...</td>\n",
       "      <td>Electrónica y Automatización</td>\n",
       "      <td>DISEÑO DE UN EQUIPO PARA LA MEDICIÓN DE LA BIO...</td>\n",
       "      <td>15.0</td>\n",
       "      <td>0</td>\n",
       "    </tr>\n",
       "    <tr>\n",
       "      <th>4264</th>\n",
       "      <td>diseño de un equipo para la medición de la bio...</td>\n",
       "      <td>Facultad de Ciencias de la Vida</td>\n",
       "      <td>Biología</td>\n",
       "      <td>DISEÑO DE UN EQUIPO PARA LA MEDICIÓN DE LA BIO...</td>\n",
       "      <td>11.0</td>\n",
       "      <td>0</td>\n",
       "    </tr>\n",
       "    <tr>\n",
       "      <th>6248</th>\n",
       "      <td>diseño de un equipo para la medición de la bio...</td>\n",
       "      <td>Facultad de Ingeniería en Mecánica y Ciencias ...</td>\n",
       "      <td>Ingeniería Mecánica</td>\n",
       "      <td>Diseño de un equipo para la medición de la bio...</td>\n",
       "      <td>2.0</td>\n",
       "      <td>0</td>\n",
       "    </tr>\n",
       "  </tbody>\n",
       "</table>\n",
       "</div>"
      ],
      "text/plain": [
       "                                                 titulo  \\\n",
       "544   diseño de un equipo para la medición de la bio...   \n",
       "574   diseño de un equipo para la medición de la bio...   \n",
       "2141  diseño de un equipo para la medición de la bio...   \n",
       "2658  diseño de un equipo para la medición de la bio...   \n",
       "4264  diseño de un equipo para la medición de la bio...   \n",
       "6248  diseño de un equipo para la medición de la bio...   \n",
       "\n",
       "                                               FACULTAD  \\\n",
       "544   Facultad de Ingeniería en Mecánica y Ciencias ...   \n",
       "574   Facultad de Ingeniería en Mecánica y Ciencias ...   \n",
       "2141       Facultad de Ciencias Naturales y Matemáticas   \n",
       "2658  Facultad de Ingeniería en Electricidad y Compu...   \n",
       "4264                    Facultad de Ciencias de la Vida   \n",
       "6248  Facultad de Ingeniería en Mecánica y Ciencias ...   \n",
       "\n",
       "                           CARRERA  \\\n",
       "544                      Alimentos   \n",
       "574                       Mecánica   \n",
       "2141            Ingeniería Química   \n",
       "2658  Electrónica y Automatización   \n",
       "4264                      Biología   \n",
       "6248           Ingeniería Mecánica   \n",
       "\n",
       "                                           NOMBREPROYEC  counts URL  \n",
       "544   DISEÑO DE UN EQUIPO PARA LA MEDICIÓN DE LA BIO...    24.0   0  \n",
       "574   Diseño de un equipo para la medición de la bio...    24.0   0  \n",
       "2141  DISEÑO DE UN EQUIPO PARA LA MEDICIÓN DE LA BIO...    16.0   0  \n",
       "2658  DISEÑO DE UN EQUIPO PARA LA MEDICIÓN DE LA BIO...    15.0   0  \n",
       "4264  DISEÑO DE UN EQUIPO PARA LA MEDICIÓN DE LA BIO...    11.0   0  \n",
       "6248  Diseño de un equipo para la medición de la bio...     2.0   0  "
      ]
     },
     "execution_count": 13,
     "metadata": {},
     "output_type": "execute_result"
    }
   ],
   "source": [
    "df[df[\"titulo\"] == df_titulo_count.keys()[0]]"
   ]
  }
 ],
 "metadata": {
  "kernelspec": {
   "display_name": "Python 3",
   "language": "python",
   "name": "python3"
  },
  "language_info": {
   "codemirror_mode": {
    "name": "ipython",
    "version": 3
   },
   "file_extension": ".py",
   "mimetype": "text/x-python",
   "name": "python",
   "nbconvert_exporter": "python",
   "pygments_lexer": "ipython3",
   "version": "3.12.10"
  }
 },
 "nbformat": 4,
 "nbformat_minor": 5
}
