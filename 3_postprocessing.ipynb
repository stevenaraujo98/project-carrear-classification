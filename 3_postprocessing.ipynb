{
 "cells": [
  {
   "cell_type": "code",
   "execution_count": 1,
   "id": "35dddf85",
   "metadata": {},
   "outputs": [],
   "source": [
    "# Mount Google Drive if using Colab\n",
    "try:\n",
    "    from google.colab import drive\n",
    "    drive.mount('/content/drive')\n",
    "    USING_COLAB = True\n",
    "except:\n",
    "    USING_COLAB = False"
   ]
  },
  {
   "cell_type": "code",
   "execution_count": 2,
   "id": "c56ebc66",
   "metadata": {},
   "outputs": [],
   "source": [
    "import pandas as pd\n",
    "from matplotlib import pyplot as plt\n",
    "import seaborn as sns\n",
    "import numpy as np"
   ]
  },
  {
   "cell_type": "code",
   "execution_count": 3,
   "id": "971d3145",
   "metadata": {},
   "outputs": [],
   "source": [
    "import time\n",
    "from datetime import datetime"
   ]
  },
  {
   "cell_type": "code",
   "execution_count": 4,
   "id": "ca33c146",
   "metadata": {},
   "outputs": [],
   "source": [
    "from concurrent.futures import ThreadPoolExecutor\n",
    "from nltk.corpus import stopwords\n",
    "import spacy\n",
    "import nltk\n",
    "import string\n",
    "import threading"
   ]
  },
  {
   "cell_type": "code",
   "execution_count": 5,
   "id": "47555c29",
   "metadata": {},
   "outputs": [],
   "source": [
    "if USING_COLAB:\n",
    "    path_dataset = \"/content/drive/My Drive/GTSI/Codigos_proyectos_carrera/data\"\n",
    "    sufix = \"colab\"\n",
    "else:\n",
    "    path_dataset = \"./data\"\n",
    "    sufix = \"colab\""
   ]
  },
  {
   "cell_type": "code",
   "execution_count": 6,
   "id": "e5ec03e2",
   "metadata": {},
   "outputs": [],
   "source": [
    "pd.set_option('display.max_columns', None)"
   ]
  },
  {
   "cell_type": "code",
   "execution_count": 7,
   "id": "64b14ac5",
   "metadata": {},
   "outputs": [
    {
     "name": "stderr",
     "output_type": "stream",
     "text": [
      "C:\\Users\\saraujo\\AppData\\Local\\Temp\\ipykernel_47788\\2602201521.py:1: DtypeWarning: Columns (5,6) have mixed types. Specify dtype option on import or set low_memory=False.\n",
      "  df = pd.read_csv(path_dataset + \"/projects_augmented_\" + sufix + \".csv\")\n"
     ]
    }
   ],
   "source": [
    "df = pd.read_csv(path_dataset + \"/projects_augmented_\" + sufix + \".csv\")"
   ]
  },
  {
   "cell_type": "code",
   "execution_count": 8,
   "id": "a2ee0512",
   "metadata": {},
   "outputs": [],
   "source": [
    "df = df.iloc[:5000]"
   ]
  },
  {
   "cell_type": "code",
   "execution_count": 9,
   "id": "c1c617a5",
   "metadata": {},
   "outputs": [],
   "source": [
    "df.rename(columns={\"titulo\": \"text\"}, inplace=True)"
   ]
  },
  {
   "cell_type": "code",
   "execution_count": 10,
   "id": "f269aeda",
   "metadata": {},
   "outputs": [
    {
     "data": {
      "text/plain": [
       "(5000, 9)"
      ]
     },
     "execution_count": 10,
     "metadata": {},
     "output_type": "execute_result"
    }
   ],
   "source": [
    "df.shape"
   ]
  },
  {
   "cell_type": "code",
   "execution_count": 11,
   "id": "43d2e615",
   "metadata": {},
   "outputs": [
    {
     "data": {
      "text/html": [
       "<div>\n",
       "<style scoped>\n",
       "    .dataframe tbody tr th:only-of-type {\n",
       "        vertical-align: middle;\n",
       "    }\n",
       "\n",
       "    .dataframe tbody tr th {\n",
       "        vertical-align: top;\n",
       "    }\n",
       "\n",
       "    .dataframe thead th {\n",
       "        text-align: right;\n",
       "    }\n",
       "</style>\n",
       "<table border=\"1\" class=\"dataframe\">\n",
       "  <thead>\n",
       "    <tr style=\"text-align: right;\">\n",
       "      <th></th>\n",
       "      <th>text</th>\n",
       "      <th>FACULTAD</th>\n",
       "      <th>CARRERA</th>\n",
       "      <th>NOMBREPROYEC</th>\n",
       "      <th>counts</th>\n",
       "      <th>URL</th>\n",
       "      <th>ESTADO</th>\n",
       "      <th>gpu_used</th>\n",
       "      <th>batch_id</th>\n",
       "    </tr>\n",
       "  </thead>\n",
       "  <tbody>\n",
       "    <tr>\n",
       "      <th>4990</th>\n",
       "      <td>diseño fabricación y caracterización mecánica ...</td>\n",
       "      <td>Facultad de Ingeniería en Mecánica y Ciencias ...</td>\n",
       "      <td>Mecánica</td>\n",
       "      <td>Diseño, fabricación y caracterización mecánica...</td>\n",
       "      <td>9.0</td>\n",
       "      <td>0</td>\n",
       "      <td>Activa</td>\n",
       "      <td>NaN</td>\n",
       "      <td>NaN</td>\n",
       "    </tr>\n",
       "    <tr>\n",
       "      <th>4991</th>\n",
       "      <td>análisis hidrometeorológico actualizado para e...</td>\n",
       "      <td>Facultad de Ingeniería Marítima y Ciencias del...</td>\n",
       "      <td>Oceanografía</td>\n",
       "      <td>Análisis hidro-meteorológico actualizado para ...</td>\n",
       "      <td>9.0</td>\n",
       "      <td>0</td>\n",
       "      <td>Activa</td>\n",
       "      <td>NaN</td>\n",
       "      <td>NaN</td>\n",
       "    </tr>\n",
       "    <tr>\n",
       "      <th>4992</th>\n",
       "      <td>análisis histórico y aplicación de modelos pre...</td>\n",
       "      <td>Facultad de Ciencias Sociales y Humanísticas</td>\n",
       "      <td>Economía</td>\n",
       "      <td>Análisis Histórico y Aplicación de Modelos Pre...</td>\n",
       "      <td>9.0</td>\n",
       "      <td>https://dspace.espol.edu.ec/handle/123456789/6...</td>\n",
       "      <td>Activa</td>\n",
       "      <td>NaN</td>\n",
       "      <td>NaN</td>\n",
       "    </tr>\n",
       "    <tr>\n",
       "      <th>4993</th>\n",
       "      <td>estudio y diseño de edificación de propiedad d...</td>\n",
       "      <td>Facultad de Ingeniería en Ciencias de la Tierra</td>\n",
       "      <td>Ingeniería  Civil</td>\n",
       "      <td>Estudio y diseño de Edificación de propiedad d...</td>\n",
       "      <td>9.0</td>\n",
       "      <td>0</td>\n",
       "      <td>Activa</td>\n",
       "      <td>NaN</td>\n",
       "      <td>NaN</td>\n",
       "    </tr>\n",
       "    <tr>\n",
       "      <th>4994</th>\n",
       "      <td>análisis del consumo energético generado en el...</td>\n",
       "      <td>Facultad de Ingeniería en Ciencias de la Tierra</td>\n",
       "      <td>Minas</td>\n",
       "      <td>Análisis del consumo energético generado en el...</td>\n",
       "      <td>9.0</td>\n",
       "      <td>0</td>\n",
       "      <td>Activa</td>\n",
       "      <td>NaN</td>\n",
       "      <td>NaN</td>\n",
       "    </tr>\n",
       "    <tr>\n",
       "      <th>4995</th>\n",
       "      <td>repositorio de patrones visuales basados en la...</td>\n",
       "      <td>Facultad de Arte, Diseño y Comunicación Audiov...</td>\n",
       "      <td>Diseño Gráfico</td>\n",
       "      <td>Repositorio de patrones visuales basados en la...</td>\n",
       "      <td>9.0</td>\n",
       "      <td>https://dspace.espol.edu.ec/handle/123456789/5...</td>\n",
       "      <td>Activa</td>\n",
       "      <td>NaN</td>\n",
       "      <td>NaN</td>\n",
       "    </tr>\n",
       "    <tr>\n",
       "      <th>4996</th>\n",
       "      <td>diseño de un material a base de cemento y ceni...</td>\n",
       "      <td>Facultad de Ingeniería en Ciencias de la Tierra</td>\n",
       "      <td>Ingeniería  Civil</td>\n",
       "      <td>Diseño de un material a base de cemento y ceni...</td>\n",
       "      <td>9.0</td>\n",
       "      <td>0</td>\n",
       "      <td>Activa</td>\n",
       "      <td>NaN</td>\n",
       "      <td>NaN</td>\n",
       "    </tr>\n",
       "    <tr>\n",
       "      <th>4997</th>\n",
       "      <td>diseño de metodología de cuestionarios para la...</td>\n",
       "      <td>Facultad de Ciencias Sociales y Humanísticas</td>\n",
       "      <td>Turismo</td>\n",
       "      <td>Diseño de metodología de cuestionarios para la...</td>\n",
       "      <td>9.0</td>\n",
       "      <td>0</td>\n",
       "      <td>Activa</td>\n",
       "      <td>NaN</td>\n",
       "      <td>NaN</td>\n",
       "    </tr>\n",
       "    <tr>\n",
       "      <th>4998</th>\n",
       "      <td>desarrollo de la cadena de producción de alime...</td>\n",
       "      <td>Facultad de Ingeniería en Mecánica y Ciencias ...</td>\n",
       "      <td>Alimentos</td>\n",
       "      <td>Desarrollo de la cadena de producción de alime...</td>\n",
       "      <td>9.0</td>\n",
       "      <td>https://dspace.espol.edu.ec/handle/123456789/4...</td>\n",
       "      <td>Activa</td>\n",
       "      <td>NaN</td>\n",
       "      <td>NaN</td>\n",
       "    </tr>\n",
       "    <tr>\n",
       "      <th>4999</th>\n",
       "      <td>reducir el porcentaje de errores en inventario...</td>\n",
       "      <td>Facultad de Ingeniería en Mecánica y Ciencias ...</td>\n",
       "      <td>Ingeniería Industrial</td>\n",
       "      <td>Reducir el porcentaje de errores en inventario...</td>\n",
       "      <td>9.0</td>\n",
       "      <td>0</td>\n",
       "      <td>Activa</td>\n",
       "      <td>NaN</td>\n",
       "      <td>NaN</td>\n",
       "    </tr>\n",
       "  </tbody>\n",
       "</table>\n",
       "</div>"
      ],
      "text/plain": [
       "                                                   text  \\\n",
       "4990  diseño fabricación y caracterización mecánica ...   \n",
       "4991  análisis hidrometeorológico actualizado para e...   \n",
       "4992  análisis histórico y aplicación de modelos pre...   \n",
       "4993  estudio y diseño de edificación de propiedad d...   \n",
       "4994  análisis del consumo energético generado en el...   \n",
       "4995  repositorio de patrones visuales basados en la...   \n",
       "4996  diseño de un material a base de cemento y ceni...   \n",
       "4997  diseño de metodología de cuestionarios para la...   \n",
       "4998  desarrollo de la cadena de producción de alime...   \n",
       "4999  reducir el porcentaje de errores en inventario...   \n",
       "\n",
       "                                               FACULTAD  \\\n",
       "4990  Facultad de Ingeniería en Mecánica y Ciencias ...   \n",
       "4991  Facultad de Ingeniería Marítima y Ciencias del...   \n",
       "4992       Facultad de Ciencias Sociales y Humanísticas   \n",
       "4993    Facultad de Ingeniería en Ciencias de la Tierra   \n",
       "4994    Facultad de Ingeniería en Ciencias de la Tierra   \n",
       "4995  Facultad de Arte, Diseño y Comunicación Audiov...   \n",
       "4996    Facultad de Ingeniería en Ciencias de la Tierra   \n",
       "4997       Facultad de Ciencias Sociales y Humanísticas   \n",
       "4998  Facultad de Ingeniería en Mecánica y Ciencias ...   \n",
       "4999  Facultad de Ingeniería en Mecánica y Ciencias ...   \n",
       "\n",
       "                    CARRERA  \\\n",
       "4990               Mecánica   \n",
       "4991           Oceanografía   \n",
       "4992               Economía   \n",
       "4993      Ingeniería  Civil   \n",
       "4994                  Minas   \n",
       "4995         Diseño Gráfico   \n",
       "4996      Ingeniería  Civil   \n",
       "4997                Turismo   \n",
       "4998              Alimentos   \n",
       "4999  Ingeniería Industrial   \n",
       "\n",
       "                                           NOMBREPROYEC  counts  \\\n",
       "4990  Diseño, fabricación y caracterización mecánica...     9.0   \n",
       "4991  Análisis hidro-meteorológico actualizado para ...     9.0   \n",
       "4992  Análisis Histórico y Aplicación de Modelos Pre...     9.0   \n",
       "4993  Estudio y diseño de Edificación de propiedad d...     9.0   \n",
       "4994  Análisis del consumo energético generado en el...     9.0   \n",
       "4995  Repositorio de patrones visuales basados en la...     9.0   \n",
       "4996  Diseño de un material a base de cemento y ceni...     9.0   \n",
       "4997  Diseño de metodología de cuestionarios para la...     9.0   \n",
       "4998  Desarrollo de la cadena de producción de alime...     9.0   \n",
       "4999  Reducir el porcentaje de errores en inventario...     9.0   \n",
       "\n",
       "                                                    URL  ESTADO  gpu_used  \\\n",
       "4990                                                  0  Activa       NaN   \n",
       "4991                                                  0  Activa       NaN   \n",
       "4992  https://dspace.espol.edu.ec/handle/123456789/6...  Activa       NaN   \n",
       "4993                                                  0  Activa       NaN   \n",
       "4994                                                  0  Activa       NaN   \n",
       "4995  https://dspace.espol.edu.ec/handle/123456789/5...  Activa       NaN   \n",
       "4996                                                  0  Activa       NaN   \n",
       "4997                                                  0  Activa       NaN   \n",
       "4998  https://dspace.espol.edu.ec/handle/123456789/4...  Activa       NaN   \n",
       "4999                                                  0  Activa       NaN   \n",
       "\n",
       "     batch_id  \n",
       "4990      NaN  \n",
       "4991      NaN  \n",
       "4992      NaN  \n",
       "4993      NaN  \n",
       "4994      NaN  \n",
       "4995      NaN  \n",
       "4996      NaN  \n",
       "4997      NaN  \n",
       "4998      NaN  \n",
       "4999      NaN  "
      ]
     },
     "execution_count": 11,
     "metadata": {},
     "output_type": "execute_result"
    }
   ],
   "source": [
    "df.tail(10)"
   ]
  },
  {
   "cell_type": "code",
   "execution_count": 12,
   "id": "1daaac93",
   "metadata": {},
   "outputs": [
    {
     "data": {
      "text/plain": [
       "(4924, 4944, 8, 33)"
      ]
     },
     "execution_count": 12,
     "metadata": {},
     "output_type": "execute_result"
    }
   ],
   "source": [
    "df[\"text\"].nunique(), df[\"NOMBREPROYEC\"].nunique(), df[\"FACULTAD\"].nunique(), df[\"CARRERA\"].nunique()"
   ]
  },
  {
   "cell_type": "code",
   "execution_count": 13,
   "id": "c686a0ec",
   "metadata": {},
   "outputs": [
    {
     "data": {
      "text/plain": [
       "((0,), 33)"
      ]
     },
     "execution_count": 13,
     "metadata": {},
     "output_type": "execute_result"
    }
   ],
   "source": [
    "df_carrera_count = df[\"CARRERA\"].value_counts()\n",
    "df_carrera_count[df_carrera_count == 5000].shape, df[\"CARRERA\"].nunique()"
   ]
  },
  {
   "cell_type": "code",
   "execution_count": 14,
   "id": "3e2db477",
   "metadata": {},
   "outputs": [
    {
     "data": {
      "image/png": "[encoded data removed]",
      "text/plain": [
       "<Figure size 1000x600 with 1 Axes>"
      ]
     },
     "metadata": {},
     "output_type": "display_data"
    }
   ],
   "source": [
    "# diagrama de barras de la columna \"decision\"\n",
    "plt.figure(figsize=(10, 6))\n",
    "sns.countplot(data=df, x='CARRERA', order=df['CARRERA'].value_counts().index)\n",
    "plt.title('Distribución de Decisiones de Patentes')\n",
    "plt.xlabel('Decisión')\n",
    "plt.ylabel('Número de Patentes')\n",
    "plt.xticks(rotation=90)\n",
    "plt.tight_layout()\n",
    "plt.show()"
   ]
  },
  {
   "cell_type": "markdown",
   "id": "b0d7a0b1",
   "metadata": {},
   "source": [
    "## Lematizacion"
   ]
  },
  {
   "cell_type": "code",
   "execution_count": 15,
   "id": "f432acd7",
   "metadata": {},
   "outputs": [],
   "source": [
    "# !python -m spacy download es_core_news_lg"
   ]
  },
  {
   "cell_type": "code",
   "execution_count": 16,
   "id": "f9614c67",
   "metadata": {},
   "outputs": [],
   "source": [
    "nlp = spacy.load(\"es_core_news_lg\")"
   ]
  },
  {
   "cell_type": "code",
   "execution_count": 17,
   "id": "570be724",
   "metadata": {},
   "outputs": [],
   "source": [
    "stopwords_es = set(stopwords.words('spanish'))\n",
    "stopwords_en = set(stopwords.words('english'))\n",
    "stop_words = stopwords_es | stopwords_en"
   ]
  },
  {
   "cell_type": "code",
   "execution_count": 18,
   "id": "7467a225",
   "metadata": {},
   "outputs": [],
   "source": [
    "# Función de limpieza y lematización\n",
    "def procesar_texto(texto):\n",
    "    if pd.isna(texto):\n",
    "        return \"\"\n",
    "    # Unicode, minúsculas, quitar puntuación\n",
    "    texto = texto.lower().translate(str.maketrans('', '', string.punctuation))\n",
    "    # Procesar con spaCy\n",
    "    doc = nlp(texto)\n",
    "    # Lematizar y quitar stopwords\n",
    "    tokens = [token.lemma_ for token in doc if token.lemma_ not in stop_words and not token.is_punct and not token.is_space]\n",
    "    # *************************************** REVISAR *****************************************\n",
    "    # tokens = [token.lemma_ for token in doc if not token.is_stop and not token.is_punct and not token.is_space]\n",
    "    # *****************************************************************************************\n",
    "\n",
    "    return \" \".join(tokens)\n",
    "\n",
    "# Unir columnas y procesar\n",
    "def crear_corpus(row):\n",
    "    return procesar_texto(str(row['text']))"
   ]
  },
  {
   "cell_type": "code",
   "execution_count": 19,
   "id": "86ad36ad",
   "metadata": {},
   "outputs": [],
   "source": [
    "# OPCIÓN 1: Paralelización con ThreadPoolExecutor (más simple)\n",
    "def procesar_corpus_paralelo_threads(df, num_threads=3):\n",
    "    \"\"\"\n",
    "    Paraleliza el procesamiento usando ThreadPoolExecutor\n",
    "    Mejor para I/O bound tasks\n",
    "    \"\"\"\n",
    "    def procesar_batch(batch_df):\n",
    "        \"\"\"Procesa un batch de filas\"\"\"\n",
    "        return batch_df.apply(crear_corpus, axis=1)\n",
    "    \n",
    "    # Dividir el DataFrame en batches\n",
    "    batches = np.array_split(df, num_threads)\n",
    "    \n",
    "    print(f\"Procesando {len(df)} filas en {num_threads} hilos...\")\n",
    "    print(f\"Tamaños de batch: {[len(batch) for batch in batches]}\")\n",
    "    \n",
    "    # Procesar en paralelo\n",
    "    with ThreadPoolExecutor(max_workers=num_threads) as executor:\n",
    "        results = list(executor.map(procesar_batch, batches))\n",
    "    \n",
    "    # Concatenar resultados\n",
    "    corpus_procesado = pd.concat(results, ignore_index=True)\n",
    "    return corpus_procesado\n",
    "\n",
    "\n",
    "# Híbrida - dividir por chunks y usar threads\n",
    "def procesar_corpus_paralelo_chunks(df, num_threads=3, chunk_size=1000):\n",
    "    \"\"\"\n",
    "    Divide el DataFrame en chunks y procesa cada chunk en paralelo\n",
    "    Útil para DataFrames muy grandes\n",
    "    \"\"\"\n",
    "    def procesar_chunk(chunk_data):\n",
    "        chunk_df, chunk_idx = chunk_data\n",
    "        \n",
    "        # Obtener información del hilo actual\n",
    "        thread_id = threading.current_thread().ident\n",
    "        thread_name = threading.current_thread().name\n",
    "        start_time = time.time()\n",
    "        timestamp = datetime.now().strftime(\"%H:%M:%S.%f\")[:-3]\n",
    "        \n",
    "        print(f\"  [{timestamp}] 🚀 Chunk {chunk_idx:2d} ({len(chunk_df):4d} filas) -> {thread_name} (ID: {thread_id})\")\n",
    "\n",
    "        return chunk_df.apply(crear_corpus, axis=1)\n",
    "    \n",
    "    # Dividir en chunks\n",
    "    chunks = []\n",
    "    for i in range(0, len(df), chunk_size):\n",
    "        chunk = df.iloc[i:i+chunk_size]\n",
    "        chunks.append((chunk, i//chunk_size))\n",
    "    \n",
    "    print(f\"📊 Procesando {len(df)} filas en {len(chunks)} chunks usando {num_threads} hilos...\")\n",
    "    print(f\"📦 Tamaños de chunks: {[len(chunk[0]) for chunk in chunks]}\")\n",
    "\n",
    "    start_total = time.time()\n",
    "    \n",
    "    # Procesar chunks en paralelo\n",
    "    with ThreadPoolExecutor(max_workers=num_threads) as executor:\n",
    "        print(f\"\\n🔄 Iniciando procesamiento paralelo...\")\n",
    "        results = list(executor.map(procesar_chunk, chunks))\n",
    "        print(f\"\\n🎉 Procesados {len(results)} chunks\")\n",
    "\n",
    "    end_total = time.time()\n",
    "    total_duration = end_total - start_total\n",
    "    \n",
    "    print(f\"\\n🎉 Todos los chunks procesados en {total_duration:.2f}s\")\n",
    "\n",
    "    # Concatenar resultados\n",
    "    corpus_procesado = pd.concat(results, ignore_index=True)\n",
    "    print(f\"✅ Procesamiento completo. Total de filas procesadas: {len(corpus_procesado)}\")\n",
    "    return corpus_procesado"
   ]
  },
  {
   "cell_type": "code",
   "execution_count": null,
   "id": "f0bb995d",
   "metadata": {},
   "outputs": [
    {
     "name": "stdout",
     "output_type": "stream",
     "text": [
      "Usando chunks con ThreadPoolExecutor:\n",
      "📊 Procesando 5000 filas en 10 chunks usando 12 hilos...\n",
      "📦 Tamaños de chunks: [500, 500, 500, 500, 500, 500, 500, 500, 500, 500]\n",
      "\n",
      "🔄 Iniciando procesamiento paralelo...\n",
      "  [14:20:51.179] 🚀 Chunk  0 ( 500 filas) -> ThreadPoolExecutor-0_0 (ID: 37896)\n",
      "  [14:20:51.184] 🚀 Chunk  1 ( 500 filas) -> ThreadPoolExecutor-0_1 (ID: 41096)\n",
      "  [14:20:51.192] 🚀 Chunk  2 ( 500 filas) -> ThreadPoolExecutor-0_2 (ID: 36916)\n",
      "  [14:20:51.200] 🚀 Chunk  3 ( 500 filas) -> ThreadPoolExecutor-0_3 (ID: 36072)\n",
      "  [14:20:51.209] 🚀 Chunk  4 ( 500 filas) -> ThreadPoolExecutor-0_4 (ID: 26408)\n",
      "  [14:20:51.214] 🚀 Chunk  5 ( 500 filas) -> ThreadPoolExecutor-0_5 (ID: 40948)\n",
      "  [14:20:51.226] 🚀 Chunk  6 ( 500 filas) -> ThreadPoolExecutor-0_6 (ID: 2264)\n",
      "  [14:20:51.254] 🚀 Chunk  7 ( 500 filas) -> ThreadPoolExecutor-0_7 (ID: 15048)\n",
      "  [14:20:51.263] 🚀 Chunk  8 ( 500 filas) -> ThreadPoolExecutor-0_8 (ID: 18644)\n",
      "  [14:20:51.274] 🚀 Chunk  9 ( 500 filas) -> ThreadPoolExecutor-0_9 (ID: 2016)\n",
      "\n",
      "🎉 Procesados 10 chunks\n",
      "\n",
      "🎉 Todos los chunks procesados en 179.23s\n",
      "✅ Procesamiento completo. Total de filas procesadas: 5000\n",
      "Shape del dataframe:  5000\n"
     ]
    }
   ],
   "source": [
    "# Método Chunks con threads\n",
    "print(\"Usando chunks con ThreadPoolExecutor:\")\n",
    "df[\"CORPUS\"] = procesar_corpus_paralelo_chunks(df, num_threads=12, chunk_size=500) # 2 min 59.2s\n",
    "# df[\"CORPUS\"] = procesar_corpus_paralelo_threads(df, num_threads=12) #, 4 min 28.4s\n",
    "\n",
    "print(\"Shape del dataframe: \", df.shape[0])"
   ]
  },
  {
   "cell_type": "code",
   "execution_count": 21,
   "id": "87b96365",
   "metadata": {},
   "outputs": [
    {
     "data": {
      "text/html": [
       "<div>\n",
       "<style scoped>\n",
       "    .dataframe tbody tr th:only-of-type {\n",
       "        vertical-align: middle;\n",
       "    }\n",
       "\n",
       "    .dataframe tbody tr th {\n",
       "        vertical-align: top;\n",
       "    }\n",
       "\n",
       "    .dataframe thead th {\n",
       "        text-align: right;\n",
       "    }\n",
       "</style>\n",
       "<table border=\"1\" class=\"dataframe\">\n",
       "  <thead>\n",
       "    <tr style=\"text-align: right;\">\n",
       "      <th></th>\n",
       "      <th>text</th>\n",
       "      <th>FACULTAD</th>\n",
       "      <th>CARRERA</th>\n",
       "      <th>NOMBREPROYEC</th>\n",
       "      <th>counts</th>\n",
       "      <th>URL</th>\n",
       "      <th>ESTADO</th>\n",
       "      <th>gpu_used</th>\n",
       "      <th>batch_id</th>\n",
       "      <th>CORPUS</th>\n",
       "    </tr>\n",
       "  </thead>\n",
       "  <tbody>\n",
       "    <tr>\n",
       "      <th>0</th>\n",
       "      <td>preparación de nano celulosa y su utilización ...</td>\n",
       "      <td>Facultad de Ciencias Naturales y Matemáticas</td>\n",
       "      <td>Ingeniería Química</td>\n",
       "      <td>Preparación de nano celulosa y su utilización ...</td>\n",
       "      <td>72.0</td>\n",
       "      <td>0</td>\n",
       "      <td>Activa</td>\n",
       "      <td>NaN</td>\n",
       "      <td>NaN</td>\n",
       "      <td>preparación nano celulós utilización material ...</td>\n",
       "    </tr>\n",
       "    <tr>\n",
       "      <th>1</th>\n",
       "      <td>monitoreo no intrusivo de cargas eléctricas en...</td>\n",
       "      <td>Facultad de Ciencias Naturales y Matemáticas</td>\n",
       "      <td>Logistica y Transporte</td>\n",
       "      <td>MONITOREO NO INTRUSIVO DE CARGAS ELÉCTRICAS EN...</td>\n",
       "      <td>71.0</td>\n",
       "      <td>0</td>\n",
       "      <td>Activa</td>\n",
       "      <td>NaN</td>\n",
       "      <td>NaN</td>\n",
       "      <td>monitoreo intrusivo carga eléctrico consumidor...</td>\n",
       "    </tr>\n",
       "    <tr>\n",
       "      <th>2</th>\n",
       "      <td>difusión del uso de herramientas tecnológicas ...</td>\n",
       "      <td>Facultad de Arte, Diseño y Comunicación Audiov...</td>\n",
       "      <td>Diseño Gráfico</td>\n",
       "      <td>Difusión del uso de herramientas tecnológicas ...</td>\n",
       "      <td>62.0</td>\n",
       "      <td>0</td>\n",
       "      <td>Activa</td>\n",
       "      <td>NaN</td>\n",
       "      <td>NaN</td>\n",
       "      <td>difusión uso herramienta tecnológico agricultu...</td>\n",
       "    </tr>\n",
       "    <tr>\n",
       "      <th>3</th>\n",
       "      <td>variacion del tiempo de fraguado debido a mixt...</td>\n",
       "      <td>Facultad de Ingeniería en Ciencias de la Tierra</td>\n",
       "      <td>Ingeniería  Civil</td>\n",
       "      <td>Variacion del tiempo de fraguado debido a mixt...</td>\n",
       "      <td>56.0</td>\n",
       "      <td>0</td>\n",
       "      <td>Activa</td>\n",
       "      <td>NaN</td>\n",
       "      <td>NaN</td>\n",
       "      <td>variacion tiempo fraguado debido mixtura aditivo</td>\n",
       "    </tr>\n",
       "    <tr>\n",
       "      <th>4</th>\n",
       "      <td>tecnologías aplicadas y análisis económico en ...</td>\n",
       "      <td>Facultad de Ciencias Sociales y Humanísticas</td>\n",
       "      <td>Economía</td>\n",
       "      <td>Tecnologías aplicadas y análisis económico en ...</td>\n",
       "      <td>54.0</td>\n",
       "      <td>0</td>\n",
       "      <td>Activa</td>\n",
       "      <td>NaN</td>\n",
       "      <td>NaN</td>\n",
       "      <td>tecnología aplicado análisis económico producc...</td>\n",
       "    </tr>\n",
       "  </tbody>\n",
       "</table>\n",
       "</div>"
      ],
      "text/plain": [
       "                                                text  \\\n",
       "0  preparación de nano celulosa y su utilización ...   \n",
       "1  monitoreo no intrusivo de cargas eléctricas en...   \n",
       "2  difusión del uso de herramientas tecnológicas ...   \n",
       "3  variacion del tiempo de fraguado debido a mixt...   \n",
       "4  tecnologías aplicadas y análisis económico en ...   \n",
       "\n",
       "                                            FACULTAD                 CARRERA  \\\n",
       "0       Facultad de Ciencias Naturales y Matemáticas      Ingeniería Química   \n",
       "1       Facultad de Ciencias Naturales y Matemáticas  Logistica y Transporte   \n",
       "2  Facultad de Arte, Diseño y Comunicación Audiov...          Diseño Gráfico   \n",
       "3    Facultad de Ingeniería en Ciencias de la Tierra       Ingeniería  Civil   \n",
       "4       Facultad de Ciencias Sociales y Humanísticas                Economía   \n",
       "\n",
       "                                        NOMBREPROYEC  counts URL  ESTADO  \\\n",
       "0  Preparación de nano celulosa y su utilización ...    72.0   0  Activa   \n",
       "1  MONITOREO NO INTRUSIVO DE CARGAS ELÉCTRICAS EN...    71.0   0  Activa   \n",
       "2  Difusión del uso de herramientas tecnológicas ...    62.0   0  Activa   \n",
       "3  Variacion del tiempo de fraguado debido a mixt...    56.0   0  Activa   \n",
       "4  Tecnologías aplicadas y análisis económico en ...    54.0   0  Activa   \n",
       "\n",
       "   gpu_used batch_id                                             CORPUS  \n",
       "0       NaN      NaN  preparación nano celulós utilización material ...  \n",
       "1       NaN      NaN  monitoreo intrusivo carga eléctrico consumidor...  \n",
       "2       NaN      NaN  difusión uso herramienta tecnológico agricultu...  \n",
       "3       NaN      NaN   variacion tiempo fraguado debido mixtura aditivo  \n",
       "4       NaN      NaN  tecnología aplicado análisis económico producc...  "
      ]
     },
     "execution_count": 21,
     "metadata": {},
     "output_type": "execute_result"
    }
   ],
   "source": [
    "df.head(5)"
   ]
  },
  {
   "cell_type": "code",
   "execution_count": null,
   "id": "2ed8edc4",
   "metadata": {},
   "outputs": [],
   "source": [
    "df_copy = df.copy()"
   ]
  },
  {
   "cell_type": "code",
   "execution_count": null,
   "id": "e4fd212c",
   "metadata": {},
   "outputs": [
    {
     "name": "stdout",
     "output_type": "stream",
     "text": [
      "Archivo guardado en: ./data/projects_processed_colab.csv\n",
      "¡Procesamiento completado y archivo guardado!\n"
     ]
    }
   ],
   "source": [
    "df_copy.to_csv(path_dataset + \"/projects_processed_\" + sufix + \".csv\", index=False)\n",
    "print(f\"Archivo guardado en: {path_dataset}/projects_processed_{sufix}.csv\")\n",
    "print(\"¡Procesamiento completado y archivo guardado!\")"
   ]
  }
 ],
 "metadata": {
  "kernelspec": {
   "display_name": "Python 3",
   "language": "python",
   "name": "python3"
  },
  "language_info": {
   "codemirror_mode": {
    "name": "ipython",
    "version": 3
   },
   "file_extension": ".py",
   "mimetype": "text/x-python",
   "name": "python",
   "nbconvert_exporter": "python",
   "pygments_lexer": "ipython3",
   "version": "3.12.10"
  }
 },
 "nbformat": 4,
 "nbformat_minor": 5
}
