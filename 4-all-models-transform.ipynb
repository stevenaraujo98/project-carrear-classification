{
 "cells": [
  {
   "cell_type": "code",
   "execution_count": 1,
   "id": "e6f9d991",
   "metadata": {
    "colab": {
     "base_uri": "https://localhost:8080/"
    },
    "execution": {
     "iopub.execute_input": "2025-07-22T16:28:16.574663Z",
     "iopub.status.busy": "2025-07-22T16:28:16.574369Z",
     "iopub.status.idle": "2025-07-22T16:28:16.600695Z",
     "shell.execute_reply": "2025-07-22T16:28:16.600186Z",
     "shell.execute_reply.started": "2025-07-22T16:28:16.574641Z"
    },
    "id": "e6f9d991",
    "outputId": "a0ec0b25-734e-41d1-c07f-39e6fc43efab",
    "trusted": true
   },
   "outputs": [],
   "source": [
    "# Mount Google Drive if using Colab\n",
    "try:\n",
    "    from google.colab import drive\n",
    "    drive.mount('/content/drive')\n",
    "    USING_COLAB = True\n",
    "\n",
    "    # !git clone https://github.com/Xtra-Computing/thundersvm.git\n",
    "    # %cd thundersvm\n",
    "    # !mkdir build && cd build && cmake .. && make -j8 && cd ../python && python setup.py install\n",
    "\n",
    "except:\n",
    "    USING_COLAB = False"
   ]
  },
  {
   "cell_type": "code",
   "execution_count": 2,
   "id": "38f079a6",
   "metadata": {
    "execution": {
     "iopub.execute_input": "2025-07-22T16:28:16.601886Z",
     "iopub.status.busy": "2025-07-22T16:28:16.601660Z",
     "iopub.status.idle": "2025-07-22T16:28:17.591251Z",
     "shell.execute_reply": "2025-07-22T16:28:17.590601Z",
     "shell.execute_reply.started": "2025-07-22T16:28:16.601871Z"
    },
    "id": "38f079a6",
    "trusted": true
   },
   "outputs": [],
   "source": [
    "import os\n",
    "import sys\n",
    "import json\n",
    "import glob\n",
    "import time\n",
    "import pandas as pd\n",
    "import numpy as np\n",
    "import matplotlib.pyplot as plt\n",
    "import seaborn as sns\n",
    "from pathlib import Path\n",
    "# import warnings\n",
    "# warnings.filterwarnings('ignore')\n",
    "from typing import Dict, List, Tuple, Optional, Any"
   ]
  },
  {
   "cell_type": "code",
   "execution_count": null,
   "id": "55d2efda",
   "metadata": {},
   "outputs": [],
   "source": [
    "!pip install scikit-learn==1.7.0"
   ]
  },
  {
   "cell_type": "code",
   "execution_count": 3,
   "id": "42b23db6",
   "metadata": {
    "execution": {
     "iopub.execute_input": "2025-07-22T16:28:17.592418Z",
     "iopub.status.busy": "2025-07-22T16:28:17.592024Z",
     "iopub.status.idle": "2025-07-22T16:28:21.779077Z",
     "shell.execute_reply": "2025-07-22T16:28:21.778293Z",
     "shell.execute_reply.started": "2025-07-22T16:28:17.592364Z"
    },
    "id": "42b23db6",
    "trusted": true
   },
   "outputs": [],
   "source": [
    "import joblib\n",
    "import psutil\n",
    "import torch\n",
    "from collections import Counter\n",
    "from sklearn.model_selection import train_test_split\n",
    "from sklearn.metrics import (\n",
    "    accuracy_score, f1_score, precision_recall_fscore_support, confusion_matrix,\n",
    "    classification_report, roc_auc_score, roc_curve, precision_recall_curve,\n",
    "    average_precision_score\n",
    ")\n",
    "from datetime import datetime"
   ]
  },
  {
   "cell_type": "code",
   "execution_count": 4,
   "id": "a2e210d8",
   "metadata": {
    "execution": {
     "iopub.execute_input": "2025-07-22T16:28:21.780869Z",
     "iopub.status.busy": "2025-07-22T16:28:21.780547Z",
     "iopub.status.idle": "2025-07-22T16:28:21.784451Z",
     "shell.execute_reply": "2025-07-22T16:28:21.783903Z",
     "shell.execute_reply.started": "2025-07-22T16:28:21.780852Z"
    },
    "id": "a2e210d8",
    "trusted": true
   },
   "outputs": [],
   "source": [
    "# pip install xgboost"
   ]
  },
  {
   "cell_type": "code",
   "execution_count": 5,
   "id": "93f4ecc4",
   "metadata": {
    "execution": {
     "iopub.execute_input": "2025-07-22T16:28:21.785404Z",
     "iopub.status.busy": "2025-07-22T16:28:21.785168Z",
     "iopub.status.idle": "2025-07-22T16:28:21.880052Z",
     "shell.execute_reply": "2025-07-22T16:28:21.879374Z",
     "shell.execute_reply.started": "2025-07-22T16:28:21.785367Z"
    },
    "id": "93f4ecc4",
    "trusted": true
   },
   "outputs": [],
   "source": [
    "# if USING_COLAB:\n",
    "#     from thundersvm import SVC  # ThunderSVM\n",
    "#     print(\"ThunderSVM importado correctamente.\")\n",
    "# else:\n",
    "#     from sklearn.svm import SVC  # Fallback a scikit-learn\n",
    "#     print(\"ThunderSVM no disponible, usando sklearn SVC.\")\n",
    "from sklearn.svm import SVC  # Fallback a scikit-learn"
   ]
  },
  {
   "cell_type": "code",
   "execution_count": 6,
   "id": "92552a1f",
   "metadata": {
    "execution": {
     "iopub.execute_input": "2025-07-22T16:28:21.880908Z",
     "iopub.status.busy": "2025-07-22T16:28:21.880731Z",
     "iopub.status.idle": "2025-07-22T16:28:22.428640Z",
     "shell.execute_reply": "2025-07-22T16:28:22.428084Z",
     "shell.execute_reply.started": "2025-07-22T16:28:21.880893Z"
    },
    "id": "92552a1f",
    "trusted": true
   },
   "outputs": [],
   "source": [
    "from sklearn.preprocessing import LabelEncoder\n",
    "from sklearn.feature_extraction.text import TfidfVectorizer\n",
    "from sklearn.linear_model import LogisticRegression\n",
    "from sklearn.ensemble import RandomForestClassifier\n",
    "from sklearn.linear_model import SGDClassifier\n",
    "from xgboost import XGBClassifier\n",
    "from tqdm import tqdm"
   ]
  },
  {
   "cell_type": "code",
   "execution_count": 7,
   "id": "3c49944b",
   "metadata": {
    "execution": {
     "iopub.execute_input": "2025-07-22T16:28:22.429562Z",
     "iopub.status.busy": "2025-07-22T16:28:22.429287Z",
     "iopub.status.idle": "2025-07-22T16:28:22.433439Z",
     "shell.execute_reply": "2025-07-22T16:28:22.432765Z",
     "shell.execute_reply.started": "2025-07-22T16:28:22.429539Z"
    },
    "id": "3c49944b",
    "trusted": true
   },
   "outputs": [],
   "source": [
    "from torch.utils.data import Dataset\n",
    "from torch.nn.parallel import DataParallel"
   ]
  },
  {
   "cell_type": "code",
   "execution_count": 8,
   "id": "64762489",
   "metadata": {
    "execution": {
     "iopub.execute_input": "2025-07-22T16:28:22.434667Z",
     "iopub.status.busy": "2025-07-22T16:28:22.434158Z",
     "iopub.status.idle": "2025-07-22T16:28:44.744750Z",
     "shell.execute_reply": "2025-07-22T16:28:44.743942Z",
     "shell.execute_reply.started": "2025-07-22T16:28:22.434641Z"
    },
    "id": "64762489",
    "trusted": true
   },
   "outputs": [
    {
     "name": "stderr",
     "output_type": "stream",
     "text": [
      "c:\\Users\\saraujo\\AppData\\Local\\Programs\\Python\\Python312\\Lib\\site-packages\\tqdm\\auto.py:21: TqdmWarning: IProgress not found. Please update jupyter and ipywidgets. See https://ipywidgets.readthedocs.io/en/stable/user_install.html\n",
      "  from .autonotebook import tqdm as notebook_tqdm\n"
     ]
    },
    {
     "name": "stdout",
     "output_type": "stream",
     "text": [
      "WARNING:tensorflow:From c:\\Users\\saraujo\\AppData\\Local\\Programs\\Python\\Python312\\Lib\\site-packages\\tf_keras\\src\\losses.py:2976: The name tf.losses.sparse_softmax_cross_entropy is deprecated. Please use tf.compat.v1.losses.sparse_softmax_cross_entropy instead.\n",
      "\n"
     ]
    }
   ],
   "source": [
    "from transformers import (\n",
    "    AutoTokenizer, AutoModelForSequenceClassification,\n",
    "    TrainingArguments, Trainer, EarlyStoppingCallback,\n",
    "    get_linear_schedule_with_warmup\n",
    ")"
   ]
  },
  {
   "cell_type": "code",
   "execution_count": 9,
   "id": "684c66fc",
   "metadata": {
    "execution": {
     "iopub.execute_input": "2025-07-22T16:28:44.746425Z",
     "iopub.status.busy": "2025-07-22T16:28:44.745808Z",
     "iopub.status.idle": "2025-07-22T16:28:44.750320Z",
     "shell.execute_reply": "2025-07-22T16:28:44.749604Z",
     "shell.execute_reply.started": "2025-07-22T16:28:44.746395Z"
    },
    "id": "684c66fc",
    "trusted": true
   },
   "outputs": [],
   "source": [
    "# Configuración de logging\n",
    "import logging\n",
    "logging.basicConfig(\n",
    "    level=logging.INFO,\n",
    "    format='%(asctime)s - %(levelname)s - %(message)s',\n",
    "    handlers=[\n",
    "        logging.FileHandler('training.log'),\n",
    "        logging.StreamHandler(sys.stdout)\n",
    "    ]\n",
    ")\n",
    "logger = logging.getLogger(__name__)"
   ]
  },
  {
   "cell_type": "code",
   "execution_count": null,
   "id": "08737452",
   "metadata": {
    "execution": {
     "iopub.execute_input": "2025-07-22T16:28:44.753437Z",
     "iopub.status.busy": "2025-07-22T16:28:44.753199Z",
     "iopub.status.idle": "2025-07-22T16:28:44.777035Z",
     "shell.execute_reply": "2025-07-22T16:28:44.776342Z",
     "shell.execute_reply.started": "2025-07-22T16:28:44.753417Z"
    },
    "id": "08737452",
    "trusted": true
   },
   "outputs": [],
   "source": [
    "if USING_COLAB:\n",
    "    results_dir = \"/content/drive/My Drive/GTSI/Codigos_proyectos_carrera/results\"\n",
    "    plots_dir = \"/content/drive/My Drive/GTSI/Codigos_proyectos_carrera/plots\"\n",
    "    data_dir = \"/content/drive/My Drive/GTSI/Codigos_proyectos_carrera/data\"\n",
    "    models_dir = \"/content/drive/My Drive/GTSI/Codigos_proyectos_carrera/models\"\n",
    "else:\n",
    "    results_dir = \"/kaggle/working/results\"\n",
    "    plots_dir = \"/kaggle/working/plots\"\n",
    "    data_dir = \"/kaggle/input/carreras\"\n",
    "    models_dir = \"/kaggle/working/models\"\n",
    "sufix = \"colab\""
   ]
  },
  {
   "cell_type": "markdown",
   "id": "cac2c96e",
   "metadata": {
    "id": "cac2c96e"
   },
   "source": [
    "# 1. Análisis del sistema"
   ]
  },
  {
   "cell_type": "code",
   "execution_count": 11,
   "id": "6169f5a9",
   "metadata": {
    "execution": {
     "iopub.execute_input": "2025-07-22T16:28:44.778003Z",
     "iopub.status.busy": "2025-07-22T16:28:44.777759Z",
     "iopub.status.idle": "2025-07-22T16:28:44.793535Z",
     "shell.execute_reply": "2025-07-22T16:28:44.792932Z",
     "shell.execute_reply.started": "2025-07-22T16:28:44.777981Z"
    },
    "id": "6169f5a9",
    "trusted": true
   },
   "outputs": [],
   "source": [
    "def get_system_info():\n",
    "    \"\"\"Obtener información del sistema\"\"\"\n",
    "    info = {\n",
    "        'cpu_count': psutil.cpu_count(),\n",
    "        'cpu_count_logical': psutil.cpu_count(logical=True),\n",
    "        'memory_total_gb': psutil.virtual_memory().total / (1024**3),\n",
    "        'memory_available_gb': psutil.virtual_memory().available / (1024**3),\n",
    "        'gpu_available': torch.cuda.is_available(),\n",
    "        'gpu_count': torch.cuda.device_count() if torch.cuda.is_available() else 0,\n",
    "    }\n",
    "\n",
    "    if info['gpu_available']:\n",
    "        gpu_info = []\n",
    "        for i in range(info['gpu_count']):\n",
    "            gpu_props = torch.cuda.get_device_properties(i)\n",
    "            gpu_info.append({\n",
    "                'name': gpu_props.name,\n",
    "                'memory_total_gb': gpu_props.total_memory / (1024**3),\n",
    "                'compute_capability': f\"{gpu_props.major}.{gpu_props.minor}\"\n",
    "            })\n",
    "        info['gpu_details'] = gpu_info\n",
    "\n",
    "    return info"
   ]
  },
  {
   "cell_type": "code",
   "execution_count": 12,
   "id": "19e0a881",
   "metadata": {
    "execution": {
     "iopub.execute_input": "2025-07-22T16:28:44.794447Z",
     "iopub.status.busy": "2025-07-22T16:28:44.794151Z",
     "iopub.status.idle": "2025-07-22T16:28:44.806955Z",
     "shell.execute_reply": "2025-07-22T16:28:44.806439Z",
     "shell.execute_reply.started": "2025-07-22T16:28:44.794428Z"
    },
    "id": "19e0a881",
    "trusted": true
   },
   "outputs": [],
   "source": [
    "def recommend_batch_size(model_name: str = 'roberta-base') -> int:\n",
    "    \"\"\"Recomendar tamaño de batch basado en recursos disponibles\"\"\"\n",
    "    if not torch.cuda.is_available():\n",
    "        return 8  # CPU\n",
    "\n",
    "    # gpu_memory = torch.cuda.get_device_properties(0).total_memory / (1024**3)\n",
    "\n",
    "    # # Recomendaciones basadas en memoria GPU\n",
    "    # if gpu_memory >= 24:  # RTX 4090, A100, etc.\n",
    "    #     return 32 if 'large' not in model_name else 16\n",
    "    # elif gpu_memory >= 16:  # RTX 4080, V100, etc.\n",
    "    #     return 24 if 'large' not in model_name else 12\n",
    "    # elif gpu_memory >= 12:  # RTX 4070 Ti, RTX 3080 Ti, etc.\n",
    "    #     return 16 if 'large' not in model_name else 8\n",
    "    # elif gpu_memory >= 8:   # RTX 4060 Ti, RTX 3070, etc.\n",
    "    #     return 12 if 'large' not in model_name else 6\n",
    "    # else:  # GPUs más pequeñas\n",
    "    #     return 8 if 'large' not in model_name else 4\n",
    "    return 64 # 128 # 96 # 64 # 32"
   ]
  },
  {
   "cell_type": "code",
   "execution_count": 13,
   "id": "b3b8d3d1",
   "metadata": {
    "colab": {
     "base_uri": "https://localhost:8080/"
    },
    "execution": {
     "iopub.execute_input": "2025-07-22T16:28:44.807809Z",
     "iopub.status.busy": "2025-07-22T16:28:44.807575Z",
     "iopub.status.idle": "2025-07-22T16:28:44.825897Z",
     "shell.execute_reply": "2025-07-22T16:28:44.825223Z",
     "shell.execute_reply.started": "2025-07-22T16:28:44.807787Z"
    },
    "id": "b3b8d3d1",
    "outputId": "5ba0c913-60e9-43a9-a545-d609e5b5293b",
    "trusted": true
   },
   "outputs": [
    {
     "name": "stdout",
     "output_type": "stream",
     "text": [
      "============================================================\n",
      "REPORTE DEL SISTEMA\n",
      "============================================================\n",
      "CPU: 12 cores físicos, 12 lógicos\n",
      "RAM: 15.6 GB total, 2.6 GB disponible\n",
      "\n",
      "No hay GPUs disponibles\n",
      "\n",
      "Batch size recomendado: 8\n",
      "============================================================\n"
     ]
    }
   ],
   "source": [
    "\"\"\"Imprimir reporte del sistema\"\"\"\n",
    "info = get_system_info()\n",
    "\n",
    "print(\"=\"*60)\n",
    "print(\"REPORTE DEL SISTEMA\")\n",
    "print(\"=\"*60)\n",
    "print(f\"CPU: {info['cpu_count']} cores físicos, {info['cpu_count_logical']} lógicos\")\n",
    "print(f\"RAM: {info['memory_total_gb']:.1f} GB total, {info['memory_available_gb']:.1f} GB disponible\")\n",
    "\n",
    "if info['gpu_available']:\n",
    "    print(f\"\\nGPUs disponibles: {info['gpu_count']}\")\n",
    "    for i, gpu in enumerate(info['gpu_details']):\n",
    "        print(f\"  GPU {i}: {gpu['name']}\")\n",
    "        print(f\"    Memoria: {gpu['memory_total_gb']:.1f} GB\")\n",
    "        print(f\"    Compute Capability: {gpu['compute_capability']}\")\n",
    "else:\n",
    "    print(\"\\nNo hay GPUs disponibles\")\n",
    "\n",
    "print(f\"\\nBatch size recomendado: {recommend_batch_size()}\")\n",
    "print(\"=\"*60)"
   ]
  },
  {
   "cell_type": "markdown",
   "id": "c9c61151",
   "metadata": {
    "id": "c9c61151"
   },
   "source": [
    "# 2. Crear directorios en caso de no existir"
   ]
  },
  {
   "cell_type": "code",
   "execution_count": 14,
   "id": "457c3ffd",
   "metadata": {
    "colab": {
     "base_uri": "https://localhost:8080/"
    },
    "execution": {
     "iopub.execute_input": "2025-07-22T16:28:44.826940Z",
     "iopub.status.busy": "2025-07-22T16:28:44.826610Z",
     "iopub.status.idle": "2025-07-22T16:28:44.843146Z",
     "shell.execute_reply": "2025-07-22T16:28:44.842623Z",
     "shell.execute_reply.started": "2025-07-22T16:28:44.826924Z"
    },
    "id": "457c3ffd",
    "outputId": "155df84d-8b89-4dda-82c2-f47820115b05",
    "trusted": true
   },
   "outputs": [
    {
     "name": "stdout",
     "output_type": "stream",
     "text": [
      "✓ ./data\n",
      "✓ ./models\n",
      "✓ ./results\n",
      "✓ ./plots\n"
     ]
    }
   ],
   "source": [
    "directories = [data_dir, models_dir, results_dir, plots_dir]\n",
    "for dir_path in directories:\n",
    "    Path(dir_path).mkdir(exist_ok=True)\n",
    "    print(f\"✓ {dir_path}\")"
   ]
  },
  {
   "cell_type": "markdown",
   "id": "01c262b9",
   "metadata": {
    "id": "01c262b9"
   },
   "source": [
    "# 3. Dataset"
   ]
  },
  {
   "cell_type": "code",
   "execution_count": 16,
   "id": "130d563b",
   "metadata": {
    "colab": {
     "base_uri": "https://localhost:8080/"
    },
    "execution": {
     "iopub.execute_input": "2025-07-22T16:28:44.844061Z",
     "iopub.status.busy": "2025-07-22T16:28:44.843812Z",
     "iopub.status.idle": "2025-07-22T16:29:18.122301Z",
     "shell.execute_reply": "2025-07-22T16:29:18.121646Z",
     "shell.execute_reply.started": "2025-07-22T16:28:44.844044Z"
    },
    "id": "130d563b",
    "outputId": "556f8dee-aaee-4b7e-ce20-41a23b52443b",
    "trusted": true
   },
   "outputs": [
    {
     "name": "stdout",
     "output_type": "stream",
     "text": [
      "✓ Datos cargados: 170000 muestras\n",
      "✓ SDGs únicos: 34\n",
      "✓ Distribución por SDG:\n",
      "value\n",
      "Ingeniería Química        5000\n",
      "Logistica y Transporte    5000\n",
      "Diseño Gráfico            5000\n",
      "Ingeniería  Civil         5000\n",
      "Economía                  5000\n",
      "Name: count, dtype: int64\n"
     ]
    },
    {
     "name": "stderr",
     "output_type": "stream",
     "text": [
      "C:\\Users\\saraujo\\AppData\\Local\\Temp\\ipykernel_28556\\210891862.py:1: DtypeWarning: Columns (5,6) have mixed types. Specify dtype option on import or set low_memory=False.\n",
      "  df = pd.read_csv(data_dir + \"/projects_processed_colab.csv\")\n"
     ]
    }
   ],
   "source": [
    "df = pd.read_csv(data_dir + \"/projects_processed_colab.csv\")\n",
    "df.rename(columns={'CARRERA': 'value'}, inplace=True)\n",
    "print(f\"✓ Datos cargados: {len(df)} muestras\")\n",
    "print(f\"✓ SDGs únicos: {df['value'].nunique()}\") # Sistema de Gestión de Datos\n",
    "print(f\"✓ Distribución por SDG:\") # Stochastic Gradient Descent\n",
    "print(df['value'].value_counts().head())"
   ]
  },
  {
   "cell_type": "code",
   "execution_count": 17,
   "id": "2a1057b8",
   "metadata": {
    "colab": {
     "base_uri": "https://localhost:8080/"
    },
    "execution": {
     "iopub.execute_input": "2025-07-22T16:29:18.123434Z",
     "iopub.status.busy": "2025-07-22T16:29:18.123141Z",
     "iopub.status.idle": "2025-07-22T16:29:18.173170Z",
     "shell.execute_reply": "2025-07-22T16:29:18.172447Z",
     "shell.execute_reply.started": "2025-07-22T16:29:18.123401Z"
    },
    "id": "2a1057b8",
    "outputId": "fd018aad-43ca-412e-f166-cbb50539f6b8",
    "trusted": true
   },
   "outputs": [
    {
     "name": "stdout",
     "output_type": "stream",
     "text": [
      "Index(['text', 'FACULTAD', 'value', 'NOMBREPROYEC', 'counts', 'URL', 'ESTADO',\n",
      "       'gpu_used', 'batch_id', 'CORPUS'],\n",
      "      dtype='object')\n",
      "Corpus cambiado a la columna text y text almacenado en text_cp, CORPUS se mantiene para almacenamiento.\n",
      "Index(['text', 'FACULTAD', 'value', 'NOMBREPROYEC', 'counts', 'URL', 'ESTADO',\n",
      "       'gpu_used', 'batch_id', 'CORPUS', 'text_cp'],\n",
      "      dtype='object')\n"
     ]
    }
   ],
   "source": [
    "if \"CORPUS\" in df.keys():\n",
    "    print(df.keys())\n",
    "    df[\"text_cp\"] = df[\"text\"]\n",
    "    df[\"text\"] = df[\"CORPUS\"]\n",
    "    print(\"Corpus cambiado a la columna text y text almacenado en text_cp, CORPUS se mantiene para almacenamiento.\")\n",
    "    print(df.keys())\n",
    "else:\n",
    "    print(\"Solo existe text, se mantiene la columna de text.\")"
   ]
  },
  {
   "cell_type": "code",
   "execution_count": 18,
   "id": "3033ab91",
   "metadata": {
    "colab": {
     "base_uri": "https://localhost:8080/"
    },
    "execution": {
     "iopub.execute_input": "2025-07-22T16:29:18.174176Z",
     "iopub.status.busy": "2025-07-22T16:29:18.173926Z",
     "iopub.status.idle": "2025-07-22T16:29:18.205039Z",
     "shell.execute_reply": "2025-07-22T16:29:18.204514Z",
     "shell.execute_reply.started": "2025-07-22T16:29:18.174155Z"
    },
    "id": "3033ab91",
    "outputId": "f5cd1a24-93dc-4b1f-d428-e047110b47f6",
    "trusted": true
   },
   "outputs": [
    {
     "data": {
      "text/plain": [
       "text            preparación nano celulós utilización material ...\n",
       "FACULTAD             Facultad de Ciencias Naturales y Matemáticas\n",
       "value                                          Ingeniería Química\n",
       "NOMBREPROYEC    Preparación de nano celulosa y su utilización ...\n",
       "counts                                                       72.0\n",
       "URL                                                             0\n",
       "ESTADO                                                     Activa\n",
       "gpu_used                                                      NaN\n",
       "batch_id                                                      NaN\n",
       "CORPUS          preparación nano celulós utilización material ...\n",
       "text_cp         preparación de nano celulosa y su utilización ...\n",
       "Name: 0, dtype: object"
      ]
     },
     "execution_count": 18,
     "metadata": {},
     "output_type": "execute_result"
    }
   ],
   "source": [
    "df.iloc[0]"
   ]
  },
  {
   "cell_type": "markdown",
   "id": "e6ca22f1",
   "metadata": {
    "id": "e6ca22f1"
   },
   "source": [
    "# 4. Análisis exploratorio"
   ]
  },
  {
   "cell_type": "code",
   "execution_count": null,
   "id": "bc43eb80-3d5f-4e02-9bf5-f9f4b1d54ead",
   "metadata": {
    "execution": {
     "iopub.execute_input": "2025-07-22T16:29:18.222496Z",
     "iopub.status.busy": "2025-07-22T16:29:18.222264Z",
     "iopub.status.idle": "2025-07-22T16:29:18.240860Z",
     "shell.execute_reply": "2025-07-22T16:29:18.240108Z",
     "shell.execute_reply.started": "2025-07-22T16:29:18.222471Z"
    },
    "trusted": true
   },
   "outputs": [],
   "source": [
    "# !rm -rf /kaggle/working/models\n",
    "# !rm -rf /kaggle/working/plots\n",
    "# !rm -rf /kaggle/working/results"
   ]
  },
  {
   "cell_type": "code",
   "execution_count": 19,
   "id": "711264e0",
   "metadata": {
    "colab": {
     "base_uri": "https://localhost:8080/"
    },
    "execution": {
     "iopub.execute_input": "2025-07-22T16:29:19.689719Z",
     "iopub.status.busy": "2025-07-22T16:29:19.689486Z",
     "iopub.status.idle": "2025-07-22T16:29:19.936728Z",
     "shell.execute_reply": "2025-07-22T16:29:19.936151Z",
     "shell.execute_reply.started": "2025-07-22T16:29:19.689692Z"
    },
    "id": "711264e0",
    "outputId": "dc9740e6-662e-4ae9-9883-bc7f577c3928",
    "trusted": true
   },
   "outputs": [
    {
     "name": "stdout",
     "output_type": "stream",
     "text": [
      "✓ Longitud promedio de texto: 84.3 caracteres\n",
      "✓ Longitud mínima: 1.0\n",
      "✓ Longitud máxima: 364.0\n"
     ]
    }
   ],
   "source": [
    "# Estadísticas básicas\n",
    "text_lengths = df['text'].str.len()\n",
    "print(f\"✓ Longitud promedio de texto: {text_lengths.mean():.1f} caracteres\")\n",
    "print(f\"✓ Longitud mínima: {text_lengths.min()}\")\n",
    "print(f\"✓ Longitud máxima: {text_lengths.max()}\")"
   ]
  },
  {
   "cell_type": "code",
   "execution_count": 20,
   "id": "f4241318",
   "metadata": {
    "colab": {
     "base_uri": "https://localhost:8080/"
    },
    "execution": {
     "iopub.execute_input": "2025-07-22T16:29:19.937532Z",
     "iopub.status.busy": "2025-07-22T16:29:19.937287Z",
     "iopub.status.idle": "2025-07-22T16:29:19.973587Z",
     "shell.execute_reply": "2025-07-22T16:29:19.972888Z",
     "shell.execute_reply.started": "2025-07-22T16:29:19.937514Z"
    },
    "id": "f4241318",
    "outputId": "4907c206-c13c-4b32-eeee-eb546bb3209f",
    "trusted": true
   },
   "outputs": [
    {
     "data": {
      "text/plain": [
       "(value\n",
       " Ingeniería Química                            5000\n",
       " Logistica y Transporte                        5000\n",
       " Diseño Gráfico                                5000\n",
       " Ingeniería  Civil                             5000\n",
       " Economía                                      5000\n",
       " Alimentos                                     5000\n",
       " Electricidad                                  5000\n",
       " Computación                                   5000\n",
       " Electrónica y Automatización                  5000\n",
       " Tecnología Superior en Mecatrónica            5000\n",
       " Telemática                                    5000\n",
       " Mecánica                                      5000\n",
       " Nutrición y Dietética                         5000\n",
       " Producción para Medios de Comunicación        5000\n",
       " Geología                                      5000\n",
       " Mecatrónica                                   5000\n",
       " Turismo                                       5000\n",
       " Biología                                      5000\n",
       " Administración de Empresas                    5000\n",
       " Minas                                         5000\n",
       " Oceanografía                                  5000\n",
       " Ingeniería Industrial                         5000\n",
       " Acuicultura                                   5000\n",
       " Ingeniería Agrícola y Biológica               5000\n",
       " Ingeniería Naval                              5000\n",
       " Auditoría y Control de Gestión                5000\n",
       " Telecomunicaciones                            5000\n",
       " Tecnología Superior en Logistica Portuaria    5000\n",
       " Estadística                                   5000\n",
       " Petróleos                                     5000\n",
       " Diseño de Productos                           5000\n",
       " Matemática                                    5000\n",
       " Arqueología                                   5000\n",
       " Materiales                                    5000\n",
       " Name: count, dtype: int64,\n",
       " (170000,))"
      ]
     },
     "execution_count": 20,
     "metadata": {},
     "output_type": "execute_result"
    }
   ],
   "source": [
    "df[\"value\"].value_counts(), df[\"value\"].shape"
   ]
  },
  {
   "cell_type": "code",
   "execution_count": 21,
   "id": "eceb6d4d",
   "metadata": {
    "execution": {
     "iopub.execute_input": "2025-07-22T16:29:19.974827Z",
     "iopub.status.busy": "2025-07-22T16:29:19.974288Z",
     "iopub.status.idle": "2025-07-22T16:29:21.148127Z",
     "shell.execute_reply": "2025-07-22T16:29:21.147342Z",
     "shell.execute_reply.started": "2025-07-22T16:29:19.974799Z"
    },
    "id": "eceb6d4d",
    "trusted": true
   },
   "outputs": [],
   "source": [
    "info = {\n",
    "    'total_samples': len(df),\n",
    "    'unique_labels': df['value'].nunique(),\n",
    "    'label_distribution': df['value'].value_counts().to_dict(),\n",
    "    'text_lengths': {\n",
    "        'mean': df['text'].str.len().mean(),\n",
    "        'std': df['text'].str.len().std(),\n",
    "        'min': df['text'].str.len().min(),\n",
    "        'max': df['text'].str.len().max()\n",
    "    },\n",
    "    'missing_values': df.isnull().sum().to_dict()\n",
    "}\n",
    "\n",
    "# Guardar información\n",
    "with open(os.path.join(results_dir, 'data_analysis.json'), 'w') as f:\n",
    "    json.dump(info, f, indent=2, default=str)\n"
   ]
  },
  {
   "cell_type": "code",
   "execution_count": 24,
   "id": "e1049bb3",
   "metadata": {
    "colab": {
     "base_uri": "https://localhost:8080/",
     "height": 557
    },
    "execution": {
     "iopub.execute_input": "2025-07-22T16:29:21.149262Z",
     "iopub.status.busy": "2025-07-22T16:29:21.149035Z",
     "iopub.status.idle": "2025-07-22T16:29:31.091677Z",
     "shell.execute_reply": "2025-07-22T16:29:31.090895Z",
     "shell.execute_reply.started": "2025-07-22T16:29:21.149245Z"
    },
    "id": "e1049bb3",
    "outputId": "cbc5d1cd-d503-47c5-eb44-a9c87cc279a6",
    "trusted": true
   },
   "outputs": [
    {
     "data": {
      "image/png": "[encoded data removed]",
      "text/plain": [
       "<Figure size 1500x1200 with 5 Axes>"
      ]
     },
     "metadata": {},
     "output_type": "display_data"
    },
    {
     "name": "stdout",
     "output_type": "stream",
     "text": [
      "✓ Visualizaciones guardadas en ./plots\\data_analysis.png\n"
     ]
    }
   ],
   "source": [
    "fig, axes = plt.subplots(2, 2, figsize=(15, 12))\n",
    "\n",
    "# Distribución de etiquetas\n",
    "label_counts = pd.Series(info['label_distribution'])\n",
    "axes[0, 0].bar(label_counts.index, label_counts.values)\n",
    "axes[0, 0].set_title('Distribución de Etiquetas SDG')\n",
    "axes[0, 0].set_xlabel('SDG')\n",
    "axes[0, 0].set_ylabel('Frecuencia')\n",
    "axes[0, 0].tick_params(axis='x', rotation=90)\n",
    "\n",
    "# Distribución de longitudes de texto\n",
    "text_lengths_chars = df['text'].str.len() # cantidad de caracteres\n",
    "text_lengths_words = df['text'].str.split().str.len() # cantidad de palabras\n",
    "\n",
    "sns.histplot(text_lengths_chars, bins=50, color='blue', alpha=0.5, label='Caracteres', ax=axes[0, 1])\n",
    "sns.histplot(text_lengths_words, bins=50, color='orange', alpha=0.5, label='Palabras', ax=axes[0, 1])\n",
    "axes[0, 1].set_title('Distribución de Longitudes de Texto')\n",
    "axes[0, 1].set_xlabel('Longitud')\n",
    "axes[0, 1].set_ylabel('Frecuencia')\n",
    "axes[0, 1].legend()\n",
    "\n",
    "# Boxplot de longitudes por SDG\n",
    "df_plot = df.copy()\n",
    "df_plot['text_length'] = df_plot['text'].str.len()\n",
    "sns.boxplot(data=df_plot, x='value', y='text_length', ax=axes[1, 0])\n",
    "axes[1, 0].set_title('Longitud de Texto por SDG')\n",
    "axes[1, 0].set_xlabel('SDG')\n",
    "axes[1, 0].set_ylabel('Longitud de Texto')\n",
    "axes[1, 0].tick_params(axis='x', rotation=90)\n",
    "\n",
    "# Heatmap de correlación (si hay más columnas numéricas)\n",
    "numeric_cols = df.select_dtypes(include=[np.number]).columns\n",
    "if len(numeric_cols) > 1:\n",
    "    corr_matrix = df[numeric_cols].corr()\n",
    "    sns.heatmap(corr_matrix, annot=True, cmap='coolwarm', center=0, ax=axes[1, 1])\n",
    "    axes[1, 1].set_title('Matriz de Correlación')\n",
    "else:\n",
    "    axes[1, 1].text(0.5, 0.5, 'No hay suficientes\\nvariables numéricas\\npara correlación',\n",
    "                    ha='center', va='center', transform=axes[1, 1].transAxes)\n",
    "    axes[1, 1].set_title('Matriz de Correlación')\n",
    "\n",
    "plt.tight_layout()\n",
    "plt.savefig(os.path.join(plots_dir, 'data_analysis.png'), dpi=300, bbox_inches='tight')\n",
    "plt.show()\n",
    "plt.close()\n",
    "print(\"✓ Visualizaciones guardadas en\", os.path.join(plots_dir, 'data_analysis.png'))\n"
   ]
  },
  {
   "cell_type": "code",
   "execution_count": 25,
   "id": "77dd990a-4f0f-45bf-99ef-4f22ba128c8f",
   "metadata": {
    "execution": {
     "iopub.execute_input": "2025-07-22T16:29:31.092873Z",
     "iopub.status.busy": "2025-07-22T16:29:31.092592Z",
     "iopub.status.idle": "2025-07-22T16:29:31.113626Z",
     "shell.execute_reply": "2025-07-22T16:29:31.113072Z",
     "shell.execute_reply.started": "2025-07-22T16:29:31.092850Z"
    },
    "trusted": true
   },
   "outputs": [
    {
     "name": "stdout",
     "output_type": "stream",
     "text": [
      "Análisis de datos completado.\n",
      "Cantidad de muestras: 170000\n",
      "Cantidad de palabras *********\n",
      "Minimo: 1.0\n",
      "Máximo: 40.0\n",
      "Media: 9.788919758899981\n",
      "Mediana 9.0\n",
      "Cantidad de caracteres *********\n",
      "Minimo: 1.0\n",
      "Máximo: 364.0\n",
      "Media: 84.2984495667734\n",
      "Mediana 80.0\n"
     ]
    }
   ],
   "source": [
    "print(\"Análisis de datos completado.\")\n",
    "print(\"Cantidad de muestras:\", len(df))\n",
    "print(\"Cantidad de palabras *********\")\n",
    "print(\"Minimo:\", text_lengths_words.min())\n",
    "print(\"Máximo:\", text_lengths_words.max())\n",
    "print(\"Media:\", text_lengths_words.mean())\n",
    "print(\"Mediana\", text_lengths_words.median())\n",
    "print(\"Cantidad de caracteres *********\")\n",
    "print(\"Minimo:\", text_lengths_chars.min())\n",
    "print(\"Máximo:\", text_lengths_chars.max())\n",
    "print(\"Media:\", text_lengths_chars.mean())\n",
    "print(\"Mediana\", text_lengths_chars.median())"
   ]
  },
  {
   "cell_type": "markdown",
   "id": "de70a144",
   "metadata": {
    "id": "de70a144"
   },
   "source": [
    "# 5. Optimización de configuración"
   ]
  },
  {
   "cell_type": "code",
   "execution_count": 26,
   "id": "e7e97263",
   "metadata": {
    "execution": {
     "iopub.execute_input": "2025-07-22T16:29:31.114540Z",
     "iopub.status.busy": "2025-07-22T16:29:31.114250Z",
     "iopub.status.idle": "2025-07-22T16:29:31.120284Z",
     "shell.execute_reply": "2025-07-22T16:29:31.119527Z",
     "shell.execute_reply.started": "2025-07-22T16:29:31.114522Z"
    },
    "id": "e7e97263",
    "trusted": true
   },
   "outputs": [],
   "source": [
    "def optimize_config(base_config):\n",
    "    \"\"\"Optimizar configuración basada en recursos disponibles\"\"\"\n",
    "    system_info = get_system_info()\n",
    "    optimized = base_config.copy()\n",
    "\n",
    "    # Optimizar batch size\n",
    "    if system_info['gpu_available']:\n",
    "        gpu_memory = system_info['gpu_details'][0]['memory_total_gb']\n",
    "        optimized['batch_size'] = recommend_batch_size()\n",
    "\n",
    "        # Ajustar número de workers\n",
    "        optimized['num_workers'] = min(system_info['cpu_count'], 8)\n",
    "\n",
    "        # Habilitar optimizaciones GPU\n",
    "        optimized['fp16'] = True\n",
    "        optimized['dataloader_pin_memory'] = True\n",
    "\n",
    "        # Multi-GPU\n",
    "        if system_info['gpu_count'] > 1:\n",
    "            optimized['multi_gpu'] = True\n",
    "            optimized['batch_size'] *= system_info['gpu_count']\n",
    "    else:\n",
    "        # Configuración para CPU\n",
    "        optimized['batch_size'] = 8\n",
    "        optimized['num_workers'] = system_info['cpu_count']\n",
    "        optimized['fp16'] = False\n",
    "        optimized['dataloader_pin_memory'] = False\n",
    "\n",
    "    # Ajustar épocas basado en tamaño del dataset\n",
    "    if 'dataset_size' in base_config:\n",
    "        if base_config['dataset_size'] < 10000:\n",
    "            optimized['num_epochs'] = 15\n",
    "        elif base_config['dataset_size'] < 5000:\n",
    "            optimized['num_epochs'] = 10\n",
    "        else:\n",
    "            optimized['num_epochs'] = 5\n",
    "\n",
    "    return optimized"
   ]
  },
  {
   "cell_type": "code",
   "execution_count": 27,
   "id": "53f1aa53",
   "metadata": {
    "execution": {
     "iopub.execute_input": "2025-07-22T16:29:31.121216Z",
     "iopub.status.busy": "2025-07-22T16:29:31.120976Z",
     "iopub.status.idle": "2025-07-22T16:29:31.140969Z",
     "shell.execute_reply": "2025-07-22T16:29:31.140424Z",
     "shell.execute_reply.started": "2025-07-22T16:29:31.121192Z"
    },
    "id": "53f1aa53",
    "trusted": true
   },
   "outputs": [],
   "source": [
    "def get_device():\n",
    "    \"\"\"Detecta el mejor dispositivo disponible\"\"\"\n",
    "    if torch.cuda.is_available():\n",
    "        return f\"cuda:{torch.cuda.current_device()}\"\n",
    "    elif torch.backends.mps.is_available():\n",
    "        return \"mps\"\n",
    "    else:\n",
    "        return \"cpu\""
   ]
  },
  {
   "cell_type": "code",
   "execution_count": 28,
   "id": "bf0cff36",
   "metadata": {
    "colab": {
     "base_uri": "https://localhost:8080/"
    },
    "execution": {
     "iopub.execute_input": "2025-07-22T16:29:31.144702Z",
     "iopub.status.busy": "2025-07-22T16:29:31.144505Z",
     "iopub.status.idle": "2025-07-22T16:29:31.160441Z",
     "shell.execute_reply": "2025-07-22T16:29:31.159803Z",
     "shell.execute_reply.started": "2025-07-22T16:29:31.144687Z"
    },
    "id": "bf0cff36",
    "outputId": "3daba1ea-6b1a-496c-8f2a-1e6c67ba40e7",
    "trusted": true
   },
   "outputs": [
    {
     "name": "stdout",
     "output_type": "stream",
     "text": [
      "Configuración optimizada:\n",
      "  dataset_size: 170000\n",
      "  test_size: 0.2\n",
      "  val_size: 0.2\n",
      "  random_state: 42\n",
      "  warmup_steps: 500\n",
      "  weight_decay: 0.01\n",
      "  early_stopping_patience: 3\n",
      "  device: cpu\n",
      "  use_gpu: False\n",
      "  multi_gpu: False\n",
      "  traditional_use_gpu: False\n",
      "  transformer_use_gpu: False\n",
      "  max_length: 512\n",
      "  batch_size: 8\n",
      "  num_epochs: 5\n",
      "  learning_rate: 1e-05\n",
      "  use_wandb: False\n",
      "  save_plots: True\n",
      "  verbose: True\n",
      "  models_to_train: {'distilbert': 'distilbert-base-uncased'}\n",
      "  num_gpus: 0\n",
      "  num_workers: 12\n",
      "  fp16: False\n",
      "  dataloader_pin_memory: False\n"
     ]
    }
   ],
   "source": [
    "base_config = {\n",
    "    'dataset_size': len(df),\n",
    "    'test_size': 0.2,\n",
    "    'val_size': 0.2,  # Del conjunto de entrenamiento\n",
    "    'random_state': 42,  # Fijar semilla para reproducibilidad\n",
    "    'warmup_steps': 500,\n",
    "    'weight_decay': 0.01,\n",
    "    'early_stopping_patience': 3,\n",
    "\n",
    "    # Configuración de GPU\n",
    "    \"device\": get_device(),\n",
    "    \"use_gpu\": torch.cuda.is_available(),\n",
    "    \"multi_gpu\": torch.cuda.device_count() > 1,\n",
    "\n",
    "    # Configuración de modelos tradicionales\n",
    "    \"traditional_use_gpu\": False,\n",
    "\n",
    "    # Configuración de transformers\n",
    "    \"transformer_use_gpu\": torch.cuda.is_available(),\n",
    "    'max_length': 512,\n",
    "    'batch_size': 32 if torch.cuda.is_available() else 8,\n",
    "    'num_epochs': 3,\n",
    "    'learning_rate': 1e-5, # Probar: 1e-5, 2e-5, 3e-5, 5e-5\n",
    "\n",
    "    # Logging\n",
    "    'use_wandb': False,  # Cambiar a True para usar Weights & Biases\n",
    "    'save_plots': True,\n",
    "    'verbose': True,\n",
    "\n",
    "    # MODELS TRANSFORMERS\n",
    "    \"models_to_train\": {\n",
    "        # 'roberta': 'roberta-base',\n",
    "        # 'bert': 'bert-base-uncased',\n",
    "        'distilbert': 'distilbert-base-uncased'\n",
    "    }\n",
    "}\n",
    "base_config['num_gpus'] = torch.cuda.device_count() if base_config['use_gpu'] else 0\n",
    "\n",
    "optimized_config = optimize_config(base_config)\n",
    "print(\"Configuración optimizada:\")\n",
    "for key, value in optimized_config.items():\n",
    "    print(f\"  {key}: {value}\")"
   ]
  },
  {
   "cell_type": "markdown",
   "id": "e9c23a72",
   "metadata": {
    "id": "e9c23a72"
   },
   "source": [
    "# 6. Procesamiento"
   ]
  },
  {
   "cell_type": "code",
   "execution_count": 29,
   "id": "430e46b0",
   "metadata": {
    "execution": {
     "iopub.execute_input": "2025-07-22T16:29:31.161877Z",
     "iopub.status.busy": "2025-07-22T16:29:31.161230Z",
     "iopub.status.idle": "2025-07-22T16:29:31.179152Z",
     "shell.execute_reply": "2025-07-22T16:29:31.178650Z",
     "shell.execute_reply.started": "2025-07-22T16:29:31.161860Z"
    },
    "id": "430e46b0",
    "trusted": true
   },
   "outputs": [],
   "source": [
    "def clean_data(df):\n",
    "    count_prev = len(df)\n",
    "    print(f\"Limpiando y preprocesando datos {count_prev} muestras\")\n",
    "    \n",
    "    \"\"\"Limpiar y preprocesar datos\"\"\"\n",
    "    print(\"Limpiando datos...\")\n",
    "\n",
    "    # Eliminar filas con valores nulos\n",
    "    df['text'] = df['text'].dropna()\n",
    "\n",
    "    # Convertir texto a string\n",
    "    df['text'] = df['text'].astype(str)\n",
    "\n",
    "    # minusculas\n",
    "    df['text'] = df['text'].str.lower()\n",
    "\n",
    "    # Filtrar textos muy cortos\n",
    "    df = df[df['text'].str.len() >= 10]\n",
    "\n",
    "    count_final = len(df)\n",
    "    print(f\"Datos después de limpieza: {len(df)} muestras\")\n",
    "    print(f\"Datos limpiados: {count_prev} -> {count_final} muestras {count_prev - count_final}\")\n",
    "    return df"
   ]
  },
  {
   "cell_type": "code",
   "execution_count": 30,
   "id": "367a654f",
   "metadata": {
    "colab": {
     "base_uri": "https://localhost:8080/"
    },
    "execution": {
     "iopub.execute_input": "2025-07-22T16:29:31.180171Z",
     "iopub.status.busy": "2025-07-22T16:29:31.179908Z",
     "iopub.status.idle": "2025-07-22T16:29:31.825715Z",
     "shell.execute_reply": "2025-07-22T16:29:31.824884Z",
     "shell.execute_reply.started": "2025-07-22T16:29:31.180149Z"
    },
    "id": "367a654f",
    "outputId": "60f765e3-39fd-4d61-b54c-6bcfaad78c53",
    "trusted": true
   },
   "outputs": [
    {
     "name": "stdout",
     "output_type": "stream",
     "text": [
      "Limpiando y preprocesando datos 170000 muestras\n",
      "Limpiando datos...\n",
      "Datos después de limpieza: 169600 muestras\n",
      "Datos limpiados: 170000 -> 169600 muestras 400\n"
     ]
    }
   ],
   "source": [
    "df = clean_data(df)"
   ]
  },
  {
   "cell_type": "code",
   "execution_count": 31,
   "id": "54dff69c",
   "metadata": {
    "colab": {
     "base_uri": "https://localhost:8080/"
    },
    "execution": {
     "iopub.execute_input": "2025-07-22T16:29:31.826774Z",
     "iopub.status.busy": "2025-07-22T16:29:31.826552Z",
     "iopub.status.idle": "2025-07-22T16:29:32.127494Z",
     "shell.execute_reply": "2025-07-22T16:29:32.126843Z",
     "shell.execute_reply.started": "2025-07-22T16:29:31.826759Z"
    },
    "id": "54dff69c",
    "outputId": "f6008f72-23a2-4ab6-bf33-20429529e929",
    "trusted": true
   },
   "outputs": [
    {
     "name": "stdout",
     "output_type": "stream",
     "text": [
      "<class 'pandas.core.frame.DataFrame'>\n",
      "Index: 169600 entries, 0 to 169999\n",
      "Data columns (total 11 columns):\n",
      " #   Column        Non-Null Count   Dtype  \n",
      "---  ------        --------------   -----  \n",
      " 0   text          169600 non-null  object \n",
      " 1   FACULTAD      169600 non-null  object \n",
      " 2   value         169600 non-null  object \n",
      " 3   NOMBREPROYEC  169600 non-null  object \n",
      " 4   counts        19399 non-null   float64\n",
      " 5   URL           19399 non-null   object \n",
      " 6   ESTADO        19399 non-null   object \n",
      " 7   gpu_used      150201 non-null  float64\n",
      " 8   batch_id      150201 non-null  object \n",
      " 9   CORPUS        169600 non-null  object \n",
      " 10  text_cp       169600 non-null  object \n",
      "dtypes: float64(2), object(9)\n",
      "memory usage: 15.5+ MB\n"
     ]
    }
   ],
   "source": [
    "df.info()"
   ]
  },
  {
   "cell_type": "code",
   "execution_count": 32,
   "id": "7f380562",
   "metadata": {
    "execution": {
     "iopub.execute_input": "2025-07-22T16:29:32.128451Z",
     "iopub.status.busy": "2025-07-22T16:29:32.128238Z",
     "iopub.status.idle": "2025-07-22T16:29:32.134691Z",
     "shell.execute_reply": "2025-07-22T16:29:32.133893Z",
     "shell.execute_reply.started": "2025-07-22T16:29:32.128433Z"
    },
    "id": "7f380562",
    "trusted": true
   },
   "outputs": [],
   "source": [
    "def split_data(df):\n",
    "    \"\"\"Dividir datos en entrenamiento, validación y prueba\"\"\"\n",
    "    print(\"Dividiendo datos...\")\n",
    "\n",
    "    # Primera división: train+val vs test\n",
    "    X = df['text'].values\n",
    "    y = df['value'].values\n",
    "\n",
    "    X_temp, X_test, y_temp, y_test = train_test_split(\n",
    "        X, y, test_size=base_config[\"test_size\"],\n",
    "        random_state=base_config[\"random_state\"],\n",
    "        stratify=y\n",
    "    )\n",
    "\n",
    "    # Segunda división: train vs val\n",
    "    X_train, X_val, y_train, y_val = train_test_split(\n",
    "        X_temp, y_temp, test_size=base_config[\"val_size\"],\n",
    "        random_state=base_config[\"random_state\"],\n",
    "        stratify=y_temp\n",
    "    )\n",
    "\n",
    "    # Crear DataFrames\n",
    "    train_df = pd.DataFrame({'text': X_train, 'value': y_train})\n",
    "    val_df = pd.DataFrame({'text': X_val, 'value': y_val})\n",
    "    test_df = pd.DataFrame({'text': X_test, 'value': y_test})\n",
    "\n",
    "    print(f\"División de datos - Train: {len(train_df)}, Val: {len(val_df)}, Test: {len(test_df)}\")\n",
    "\n",
    "    return train_df, val_df, test_df"
   ]
  },
  {
   "cell_type": "code",
   "execution_count": 33,
   "id": "8d27489a",
   "metadata": {
    "colab": {
     "base_uri": "https://localhost:8080/"
    },
    "execution": {
     "iopub.execute_input": "2025-07-22T16:29:32.135679Z",
     "iopub.status.busy": "2025-07-22T16:29:32.135475Z",
     "iopub.status.idle": "2025-07-22T16:29:33.090575Z",
     "shell.execute_reply": "2025-07-22T16:29:33.089870Z",
     "shell.execute_reply.started": "2025-07-22T16:29:32.135659Z"
    },
    "id": "8d27489a",
    "outputId": "67ea67bc-36d6-4b63-a60b-bf93a5b96bce",
    "trusted": true
   },
   "outputs": [
    {
     "name": "stdout",
     "output_type": "stream",
     "text": [
      "Dividiendo datos...\n",
      "División de datos - Train: 108544, Val: 27136, Test: 33920\n"
     ]
    }
   ],
   "source": [
    "train_df, val_df, test_df = split_data(df)"
   ]
  },
  {
   "cell_type": "markdown",
   "id": "5465c760",
   "metadata": {
    "id": "5465c760"
   },
   "source": [
    "# 7. Entrenamiento"
   ]
  },
  {
   "cell_type": "code",
   "execution_count": 34,
   "id": "b3fda63e",
   "metadata": {
    "execution": {
     "iopub.execute_input": "2025-07-22T16:29:33.091432Z",
     "iopub.status.busy": "2025-07-22T16:29:33.091229Z",
     "iopub.status.idle": "2025-07-22T16:29:33.095043Z",
     "shell.execute_reply": "2025-07-22T16:29:33.094437Z",
     "shell.execute_reply.started": "2025-07-22T16:29:33.091409Z"
    },
    "id": "b3fda63e",
    "trusted": true
   },
   "outputs": [
    {
     "name": "stdout",
     "output_type": "stream",
     "text": [
      "2025-08-05 14:05:49,648 - INFO - Iniciando pipeline de entrenamiento...\n"
     ]
    }
   ],
   "source": [
    "logger.info(\"Iniciando pipeline de entrenamiento...\")\n",
    "start_time = time.time()"
   ]
  },
  {
   "cell_type": "markdown",
   "id": "f9f51742",
   "metadata": {
    "id": "f9f51742"
   },
   "source": [
    "### Entrenar modelos transformer"
   ]
  },
  {
   "cell_type": "code",
   "execution_count": 38,
   "id": "1e0d03be",
   "metadata": {
    "execution": {
     "iopub.execute_input": "2025-07-22T16:29:33.158639Z",
     "iopub.status.busy": "2025-07-22T16:29:33.158408Z",
     "iopub.status.idle": "2025-07-22T16:29:33.178088Z",
     "shell.execute_reply": "2025-07-22T16:29:33.177430Z",
     "shell.execute_reply.started": "2025-07-22T16:29:33.158609Z"
    },
    "id": "1e0d03be",
    "trusted": true
   },
   "outputs": [],
   "source": [
    "class SDGDataset(Dataset):\n",
    "    \"\"\"Dataset personalizado para clasificación de SDG\"\"\"\n",
    "\n",
    "    def __init__(self, texts: List[str], labels: List[int], tokenizer, max_length: int = 512):\n",
    "        self.texts = texts\n",
    "        self.labels = labels\n",
    "        self.tokenizer = tokenizer\n",
    "        self.max_length = max_length\n",
    "\n",
    "    def __len__(self):\n",
    "        return len(self.texts)\n",
    "\n",
    "    def __getitem__(self, idx):\n",
    "        text = str(self.texts[idx])\n",
    "        label = self.labels[idx]\n",
    "\n",
    "        encoding = self.tokenizer(\n",
    "            text,\n",
    "            truncation=True,\n",
    "            padding='max_length',\n",
    "            max_length=self.max_length,\n",
    "            return_tensors='pt'\n",
    "        )\n",
    "\n",
    "        return {\n",
    "            'input_ids': encoding['input_ids'].flatten(),\n",
    "            'attention_mask': encoding['attention_mask'].flatten(),\n",
    "            'labels': torch.tensor(label, dtype=torch.long)\n",
    "        }\n"
   ]
  },
  {
   "cell_type": "code",
   "execution_count": null,
   "id": "ccf11154",
   "metadata": {
    "execution": {
     "iopub.execute_input": "2025-07-22T16:29:33.179002Z",
     "iopub.status.busy": "2025-07-22T16:29:33.178754Z",
     "iopub.status.idle": "2025-07-22T16:29:33.191983Z",
     "shell.execute_reply": "2025-07-22T16:29:33.191284Z",
     "shell.execute_reply.started": "2025-07-22T16:29:33.178977Z"
    },
    "id": "ccf11154",
    "trusted": true
   },
   "outputs": [],
   "source": [
    "def save_transformer_model(model, tokenizer, trainer, model_name, results_dict, label_encoder):\n",
    "    \"\"\"Guarda modelo transformer y sus componentes\"\"\"\n",
    "    timestamp = datetime.now().strftime(\"%Y%m%d_%H%M%S\")\n",
    "    model_dir = f\"{models_dir}/transformers/{model_name.replace('/', '_')}_{timestamp}\"\n",
    "    os.makedirs(model_dir, exist_ok=True)\n",
    "\n",
    "    # Guardar modelo y tokenizer usando transformers\n",
    "    if hasattr(model, 'module'):  # Si es DataParallel\n",
    "        model.module.save_pretrained(model_dir)\n",
    "    else:\n",
    "        model.save_pretrained(model_dir)\n",
    "\n",
    "    tokenizer.save_pretrained(model_dir)\n",
    "\n",
    "    # Guardar trainer state\n",
    "    trainer_dir = f\"{model_dir}/trainer\"\n",
    "    trainer.save_model(trainer_dir)\n",
    "\n",
    "    joblib.dump(label_encoder, model_dir + '/label_encoder.pkl')\n",
    "\n",
    "    # Guardar metadatos\n",
    "    metadata = {\n",
    "        'model_name': model_name,\n",
    "        'timestamp': timestamp,\n",
    "        'val_accuracy': results_dict['val_accuracy'],\n",
    "        'test_accuracy': results_dict['test_accuracy'],\n",
    "        'val_f1': results_dict['val_f1'],\n",
    "        'test_f1': results_dict['test_f1'],\n",
    "        'gpu_used': results_dict['gpu_used'],\n",
    "        'multi_gpu_used': results_dict['multi_gpu_used'],\n",
    "        'device': results_dict['device'],\n",
    "        'model_dir': model_dir,\n",
    "        'trainer_dir': trainer_dir\n",
    "    }\n",
    "\n",
    "    metadata_path = f\"{model_dir}/metadata.json\"\n",
    "    with open(metadata_path, 'w') as f:\n",
    "        json.dump(metadata, f, indent=2)\n",
    "\n",
    "    print(f\"     💾 Modelo transformer guardado en: {model_dir}\")\n",
    "    return model_dir"
   ]
  },
  {
   "cell_type": "code",
   "execution_count": null,
   "id": "4dafcbbc",
   "metadata": {
    "execution": {
     "iopub.execute_input": "2025-07-22T16:29:33.193053Z",
     "iopub.status.busy": "2025-07-22T16:29:33.192765Z",
     "iopub.status.idle": "2025-07-22T16:29:33.212940Z",
     "shell.execute_reply": "2025-07-22T16:29:33.212430Z",
     "shell.execute_reply.started": "2025-07-22T16:29:33.193033Z"
    },
    "id": "4dafcbbc",
    "trusted": true
   },
   "outputs": [],
   "source": [
    "def train_transformer_model(model_name: str, train_df: pd.DataFrame,\n",
    "                              val_df: pd.DataFrame, test_df: pd.DataFrame,\n",
    "                              use_gpu=None, multi_gpu=None, save_model=True) -> Dict[str, Any]:\n",
    "        \"\"\"Entrenar modelo transformer\"\"\"\n",
    "        logger.info(f\"Entrenando modelo {model_name}...\")\n",
    "\n",
    "        # Configuración de GPU\n",
    "        if use_gpu is None:\n",
    "            use_gpu_final = optimized_config[\"transformer_use_gpu\"]\n",
    "        else:\n",
    "            use_gpu_final = use_gpu and optimized_config[\"use_gpu\"]\n",
    "\n",
    "        if multi_gpu is None:\n",
    "            multi_gpu_final = optimized_config[\"multi_gpu\"] and use_gpu_final\n",
    "        else:\n",
    "            multi_gpu_final = multi_gpu and optimized_config[\"multi_gpu\"] and use_gpu_final\n",
    "\n",
    "        # Configurar dispositivo\n",
    "        if use_gpu_final:\n",
    "            device = optimized_config[\"device\"]\n",
    "            print(f\"   - Usando GPU: {device}\")\n",
    "            if multi_gpu_final:\n",
    "                print(f\"   - Multi-GPU activado: {torch.cuda.device_count()} GPUs\")\n",
    "        else:\n",
    "            device = \"cpu\"\n",
    "            print(\"   - Usando CPU\")\n",
    "\n",
    "        print(f\"   - Guardar modelo: {save_model}\")\n",
    "\n",
    "        # LabelEncoder \n",
    "        label_encoder = LabelEncoder()\n",
    "        all_labels = pd.concat([train_df['value'], val_df['value'], test_df['value']])\n",
    "        label_encoder.fit(all_labels)\n",
    "\n",
    "        train_labels = label_encoder.transform(train_df['value'])\n",
    "        val_labels = label_encoder.transform(val_df['value'])\n",
    "        test_labels = label_encoder.transform(test_df['value'])\n",
    "\n",
    "        # Tokenizer y modelo\n",
    "        tokenizer = AutoTokenizer.from_pretrained(optimized_config[\"models_to_train\"][model_name])\n",
    "        model = AutoModelForSequenceClassification.from_pretrained(\n",
    "            optimized_config[\"models_to_train\"][model_name],\n",
    "            num_labels=len(label_encoder.classes_),\n",
    "            ignore_mismatched_sizes=True\n",
    "        )\n",
    "\n",
    "        # Mover a GPU si está disponible\n",
    "        if use_gpu_final:\n",
    "            model = model.to(device)\n",
    "\n",
    "            # Configurar multi-GPU si está disponible\n",
    "            if multi_gpu_final:\n",
    "                model = DataParallel(model)\n",
    "\n",
    "        # Crear datasets\n",
    "        train_dataset = SDGDataset(\n",
    "            train_df['text'].tolist(), train_labels.tolist(),\n",
    "            tokenizer, optimized_config[\"max_length\"]\n",
    "        )\n",
    "        val_dataset = SDGDataset(\n",
    "            val_df['text'].tolist(), val_labels.tolist(),\n",
    "            tokenizer, optimized_config[\"max_length\"]\n",
    "        )\n",
    "        test_dataset = SDGDataset(\n",
    "            test_df['text'].tolist(), test_labels.tolist(),\n",
    "            tokenizer, optimized_config[\"max_length\"]\n",
    "        )\n",
    "\n",
    "        print(\"Epochs\", optimized_config[\"num_epochs\"], \"Batch\", optimized_config[\"batch_size\"])\n",
    "        training_args = TrainingArguments(\n",
    "            output_dir=os.path.join(models_dir, f'{model_name}_checkpoints'),\n",
    "            num_train_epochs=optimized_config[\"num_epochs\"],\n",
    "            per_device_train_batch_size=optimized_config[\"batch_size\"],\n",
    "            per_device_eval_batch_size=optimized_config[\"batch_size\"],\n",
    "            learning_rate=optimized_config[\"learning_rate\"],\n",
    "            warmup_ratio=0.1,\n",
    "            warmup_steps=optimized_config[\"warmup_steps\"],\n",
    "            weight_decay=optimized_config[\"weight_decay\"],\n",
    "            logging_dir=os.path.join(results_dir, f'{model_name}_logs'),\n",
    "            logging_steps=10,\n",
    "            eval_strategy=\"epoch\",\n",
    "            eval_steps=500,\n",
    "            save_strategy=\"epoch\",\n",
    "            save_steps=500,\n",
    "            load_best_model_at_end=True,\n",
    "            metric_for_best_model=\"eval_accuracy\",\n",
    "            greater_is_better=True,\n",
    "            dataloader_num_workers=(4 if multi_gpu_final else 2) if use_gpu_final else 0,\n",
    "            fp16=use_gpu_final,  # Usar precisión mixta si hay GPU\n",
    "            max_grad_norm=1.0,  # Gradient clipping\n",
    "            lr_scheduler_type=\"cosine\",  # Scheduler más suave\n",
    "            report_to=\"none\",           # Desactivar wandb\n",
    "            run_name=\"sdg_classifier\",\n",
    "        )\n",
    "\n",
    "        # Función de métricas\n",
    "        def compute_metrics(eval_pred):\n",
    "            predictions, labels = eval_pred\n",
    "            predictions = np.argmax(predictions, axis=1)\n",
    "\n",
    "            accuracy = accuracy_score(labels, predictions)\n",
    "            precision, recall, f1, _ = precision_recall_fscore_support(\n",
    "                labels, predictions, average='weighted'\n",
    "            )\n",
    "\n",
    "            return {\n",
    "                'accuracy': accuracy,\n",
    "                'precision': precision,\n",
    "                'recall': recall,\n",
    "                'f1': f1\n",
    "            }\n",
    "\n",
    "        # Trainer\n",
    "        trainer = Trainer(\n",
    "            model=model,\n",
    "            args=training_args,\n",
    "            train_dataset=train_dataset,\n",
    "            eval_dataset=val_dataset,\n",
    "            compute_metrics=compute_metrics,\n",
    "            callbacks=[EarlyStoppingCallback(early_stopping_patience=optimized_config[\"early_stopping_patience\"])]\n",
    "        )\n",
    "\n",
    "        # Entrenar\n",
    "        start_time = time.time()\n",
    "        trainer.train()\n",
    "        training_time = time.time() - start_time\n",
    "\n",
    "        # Evaluación\n",
    "        train_results = trainer.evaluate(train_dataset)\n",
    "        val_results = trainer.evaluate(val_dataset)\n",
    "        test_results = trainer.evaluate(test_dataset)\n",
    "\n",
    "        # Predicciones en validación\n",
    "        val_predictions = trainer.predict(val_dataset)\n",
    "        val_preds = np.argmax(val_predictions.predictions, axis=1)\n",
    "\n",
    "        # Predicciones detalladas\n",
    "        test_predictions = trainer.predict(test_dataset)\n",
    "        test_pred_labels = np.argmax(test_predictions.predictions, axis=1)\n",
    "\n",
    "        # Guardar modelo\n",
    "        model_save_path = os.path.join(models_dir, f'{model_name}_final')\n",
    "        trainer.save_model(model_save_path)\n",
    "        tokenizer.save_pretrained(model_save_path)\n",
    "\n",
    "        results = {\n",
    "            'model': model,\n",
    "            'tokenizer': tokenizer,\n",
    "            'trainer': trainer,\n",
    "            'train_accuracy': train_results['eval_accuracy'],\n",
    "            'val_accuracy': val_results['eval_accuracy'],\n",
    "            'test_accuracy': test_results['eval_accuracy'],\n",
    "            'train_f1': train_results['eval_f1'],\n",
    "            'val_f1': val_results['eval_f1'],\n",
    "            'test_f1': test_results['eval_f1'],\n",
    "            'training_time': training_time,\n",
    "            'model_path': model_save_path,\n",
    "            'true_labels': test_labels,\n",
    "            'label_encoder': label_encoder,\n",
    "            'val_predictions': val_preds,\n",
    "            'test_predictions': test_pred_labels,\n",
    "            'gpu_used': use_gpu_final,\n",
    "            'multi_gpu_used': multi_gpu_final,\n",
    "            'device': device\n",
    "        }\n",
    "\n",
    "        # Guardar modelo si se solicita\n",
    "        saved_model_dir = None\n",
    "        if save_model:\n",
    "            saved_model_dir = save_transformer_model(model, tokenizer, trainer, model_name, results, label_encoder)\n",
    "\n",
    "        joblib.dump(label_encoder, os.path.join(models_dir, 'label_encoder.pkl'))\n",
    "        print(f\"✓ Val Accuracy: {val_results['eval_accuracy']:.4f}, Test Accuracy: {test_results['eval_accuracy']:.4f}\")\n",
    "\n",
    "        return results, saved_model_dir"
   ]
  },
  {
   "cell_type": "code",
   "execution_count": null,
   "id": "093bd077",
   "metadata": {
    "colab": {
     "base_uri": "https://localhost:8080/",
     "height": 471,
     "referenced_widgets": [
      "805d86f445b54a2d98b5054c96da5d5d",
      "8dc389f266da4222b4210d48168b62df",
      "1fe436cad56447d8bc0e477395f8e0f7",
      "05c988559daf4d2b83357d3c4f550152",
      "250d6cc3c7f646e8a6339c0c4e46944b",
      "bac9a4fcd4b9423cbd99358efa94eaa8",
      "5dab5db9f82e467d828a08522a7f64f0",
      "f721132728d542c6ab8c896d504fb137",
      "49dfe419e9234007a548f119f2673df2",
      "21daa779fd1746cd9c1bfa8314feb753",
      "be770ae74f0b49bda79cc5c7a55dd450",
      "fec764cf0cf746d5b4f8dcb938562d66",
      "bfb530d9174743ffb7108ed28957b2a8",
      "1212fa54e2d7496687b717d98c6cedcc",
      "3ecfe45d723d4cc0ae6548b2740f341d",
      "2e49427e91ec4ea0897eb10a32bc8090",
      "f9e5f9daae1144b8ac778583a0caf821",
      "619939d861914d9a97a6bc43420609d7",
      "b064b7618461461285a1299d05779912",
      "d26192b4c4eb4b88be275a322e024781",
      "98e177e0701546409f1daf3f464b2d6b",
      "d6e22c550dea43d4a62d20257d5878e4",
      "0f49ee94dcdb4681949ec33b4ac98154",
      "736385d0bbb1496ebc53c54583376515",
      "f6b1952c2fd744fb9170044714afe97a",
      "41f4cfac519d4747a4cc3f1873c16072",
      "78e3bf6853a542be8f035dad519cf514",
      "32975601887c425e857fc5fc42b100ab",
      "a820249a23b84e0b8f93aeef940822a7",
      "2bf24c7c669d41e68b2cbb271b0c25df",
      "6eae9b3ee729423ca95e70bc54979673",
      "2aef7f82055243c49bee68a75d9c9d08",
      "7b0d905c1f5741e69be9e6997e608143",
      "f252461fd5314c278bba7fac65bfeea4",
      "8b2886cf21fb4ac0ae3ed1da3fb3a619",
      "3e53f550aaaf4254970c5d45f70656f8",
      "82797e77badd44038c8104871bc95d3c",
      "5f654eebeb1447c39298d47863217ad6",
      "f56bdcea1e5e496faebf5aa007b0fce7",
      "4fe46e94d84e4ae2aca45e2bcb773b5a",
      "5cbd6d25f519428582a26e07a77ea31c",
      "3c50dffd87c4474ab76749b2a0401225",
      "6004c836ae4c4a9788e14039c1607094",
      "38be75db46e94dd3ab394b00fd0864a4",
      "b595aed1eaa74557b881de829cb26903",
      "74a82ff81f7549b6b49e50516b2db715",
      "76695b1f973d40bbb0c3002871c38209",
      "0143d6051b9f4ec989a8f1dd6a25db1f",
      "2d3ca94965fc41568a5730be22aa277d",
      "84180016609d45278d0a6e2b36b27794",
      "1e8b0e65fa914a8891b1a1f255e99d10",
      "ed1c8b25ffc74298904d5d2671107085",
      "883ba394361d476580d5b8b8186b9d1f",
      "24bae8ea7e63482a89d775fc280c2c39",
      "dffd3655346b42ef9344649b024b0786"
     ]
    },
    "execution": {
     "execution_failed": "2025-07-22T20:33:23.332Z",
     "iopub.execute_input": "2025-07-22T16:29:33.213941Z",
     "iopub.status.busy": "2025-07-22T16:29:33.213681Z"
    },
    "id": "093bd077",
    "outputId": "c9ea40aa-0829-4851-8113-5adce86d36d2",
    "trusted": true
   },
   "outputs": [
    {
     "name": "stdout",
     "output_type": "stream",
     "text": [
      "   - Usando GPU: cuda:0\n",
      "   - Guardar modelo: True\n"
     ]
    },
    {
     "data": {
      "application/vnd.jupyter.widget-view+json": {
       "model_id": "0cdcad5f62cb4f0bb971468c1662b268",
       "version_major": 2,
       "version_minor": 0
      },
      "text/plain": [
       "tokenizer_config.json:   0%|          | 0.00/48.0 [00:00<?, ?B/s]"
      ]
     },
     "metadata": {},
     "output_type": "display_data"
    },
    {
     "data": {
      "application/vnd.jupyter.widget-view+json": {
       "model_id": "d4a3fe7b09da4c919733e27ed57f8f11",
       "version_major": 2,
       "version_minor": 0
      },
      "text/plain": [
       "config.json:   0%|          | 0.00/570 [00:00<?, ?B/s]"
      ]
     },
     "metadata": {},
     "output_type": "display_data"
    },
    {
     "data": {
      "application/vnd.jupyter.widget-view+json": {
       "model_id": "aeee40529225427baadd524ddecb449c",
       "version_major": 2,
       "version_minor": 0
      },
      "text/plain": [
       "vocab.txt:   0%|          | 0.00/232k [00:00<?, ?B/s]"
      ]
     },
     "metadata": {},
     "output_type": "display_data"
    },
    {
     "data": {
      "application/vnd.jupyter.widget-view+json": {
       "model_id": "8063e5866e144d91bc722e2a69e92b85",
       "version_major": 2,
       "version_minor": 0
      },
      "text/plain": [
       "tokenizer.json:   0%|          | 0.00/466k [00:00<?, ?B/s]"
      ]
     },
     "metadata": {},
     "output_type": "display_data"
    },
    {
     "data": {
      "application/vnd.jupyter.widget-view+json": {
       "model_id": "fdd5b0dd19ae4b0a89d31653ba60727a",
       "version_major": 2,
       "version_minor": 0
      },
      "text/plain": [
       "model.safetensors:   0%|          | 0.00/440M [00:00<?, ?B/s]"
      ]
     },
     "metadata": {},
     "output_type": "display_data"
    },
    {
     "name": "stderr",
     "output_type": "stream",
     "text": [
      "Some weights of BertForSequenceClassification were not initialized from the model checkpoint at bert-base-uncased and are newly initialized: ['classifier.bias', 'classifier.weight']\n",
      "You should probably TRAIN this model on a down-stream task to be able to use it for predictions and inference.\n"
     ]
    },
    {
     "name": "stdout",
     "output_type": "stream",
     "text": [
      "Epochs 5 Batch 64\n"
     ]
    },
    {
     "data": {
      "text/html": [
       "\n",
       "    <div>\n",
       "      \n",
       "      <progress value='3709' max='26000' style='width:300px; height:20px; vertical-align: middle;'></progress>\n",
       "      [ 3709/26000 3:05:47 < 18:37:13, 0.33 it/s, Epoch 0.71/5]\n",
       "    </div>\n",
       "    <table border=\"1\" class=\"dataframe\">\n",
       "  <thead>\n",
       " <tr style=\"text-align: left;\">\n",
       "      <th>Epoch</th>\n",
       "      <th>Training Loss</th>\n",
       "      <th>Validation Loss</th>\n",
       "    </tr>\n",
       "  </thead>\n",
       "  <tbody>\n",
       "  </tbody>\n",
       "</table><p>"
      ],
      "text/plain": [
       "<IPython.core.display.HTML object>"
      ]
     },
     "metadata": {},
     "output_type": "display_data"
    }
   ],
   "source": [
    "transformer_results = {}\n",
    "for model_name in base_config[\"models_to_train\"].keys():\n",
    "   try:\n",
    "       results, transformer_saved = train_transformer_model(model_name, train_df, val_df, test_df)\n",
    "       transformer_results[model_name] = results\n",
    "   except Exception as e:\n",
    "       print(f\"Error entrenando {model_name}: {str(e)}\")\n",
    "       continue"
   ]
  },
  {
   "cell_type": "markdown",
   "id": "2257f5ad-3707-4c72-9e9f-a648f158c12d",
   "metadata": {},
   "source": [
    "### Load previous train"
   ]
  },
  {
   "cell_type": "code",
   "execution_count": null,
   "id": "e8a1483a-8c1f-4cc8-aab1-5f43cc016b92",
   "metadata": {
    "execution": {
     "execution_failed": "2025-07-22T20:33:23.336Z"
    },
    "trusted": true
   },
   "outputs": [],
   "source": [
    "def find_latest_checkpoint(output_dir):\n",
    "    \"\"\"Encuentra el último checkpoint disponible con archivos reales\"\"\"\n",
    "    if not os.path.exists(output_dir):\n",
    "        return None\n",
    "    \n",
    "    # Buscar carpetas de checkpoint\n",
    "    checkpoint_pattern = os.path.join(output_dir, \"checkpoint-*\")\n",
    "    checkpoints = glob.glob(checkpoint_pattern)\n",
    "    \n",
    "    if not checkpoints:\n",
    "        return None\n",
    "    \n",
    "    # Ordenar por número de checkpoint (más alto = más reciente)\n",
    "    checkpoints.sort(key=lambda x: int(x.split('-')[-1]))\n",
    "    \n",
    "    # Verificar que el checkpoint más reciente esté completo\n",
    "    for checkpoint in reversed(checkpoints):  # Empezar por el más reciente\n",
    "        print(f\"🔍 Verificando checkpoint: {checkpoint}\")\n",
    "        \n",
    "        # Archivos requeridos para un checkpoint válido\n",
    "        required_files = [\n",
    "            'config.json',           # Configuración del modelo\n",
    "            'trainer_state.json',    # Estado del entrenador\n",
    "            'training_args.bin'      # Argumentos de entrenamiento\n",
    "        ]\n",
    "        \n",
    "        # Verificar si tiene model.safetensors O pytorch_model.bin\n",
    "        model_files = [\n",
    "            'model.safetensors',     # Formato moderno (preferido)\n",
    "            'pytorch_model.bin'      # Formato legacy\n",
    "        ]\n",
    "        \n",
    "        has_model_file = any(\n",
    "            os.path.exists(os.path.join(checkpoint, model_file)) \n",
    "            for model_file in model_files\n",
    "        )\n",
    "        \n",
    "        # Verificar archivos requeridos\n",
    "        has_required_files = all(\n",
    "            os.path.exists(os.path.join(checkpoint, file)) \n",
    "            for file in required_files\n",
    "        )\n",
    "        \n",
    "        if has_model_file and has_required_files:\n",
    "            # Mostrar archivos encontrados\n",
    "            files_in_checkpoint = os.listdir(checkpoint)\n",
    "            print(f\"✅ Checkpoint válido encontrado: {checkpoint}\")\n",
    "            print(f\"   📁 Archivos: {', '.join(files_in_checkpoint)}\")\n",
    "            return checkpoint\n",
    "        else:\n",
    "            missing_files = []\n",
    "            if not has_model_file:\n",
    "                missing_files.append(\"model.safetensors/pytorch_model.bin\")\n",
    "            missing_files.extend([\n",
    "                file for file in required_files \n",
    "                if not os.path.exists(os.path.join(checkpoint, file))\n",
    "            ])\n",
    "            print(f\"⚠️  Checkpoint incompleto, faltan: {', '.join(missing_files)}\")\n",
    "    \n",
    "    print(\"❌ No se encontraron checkpoints válidos\")\n",
    "    return None\n",
    "\n",
    "def get_checkpoint_info(checkpoint_path):\n",
    "    \"\"\"Obtiene información detallada del checkpoint\"\"\"\n",
    "    if not checkpoint_path:\n",
    "        return None\n",
    "    \n",
    "    try:\n",
    "        # Leer información del trainer state\n",
    "        trainer_state_path = os.path.join(checkpoint_path, 'trainer_state.json')\n",
    "        if os.path.exists(trainer_state_path):\n",
    "            with open(trainer_state_path, 'r') as f:\n",
    "                trainer_state = json.load(f)\n",
    "            \n",
    "            epoch = trainer_state.get('epoch', 0)\n",
    "            global_step = trainer_state.get('global_step', 0)\n",
    "            best_metric = trainer_state.get('best_metric', None)\n",
    "            \n",
    "            print(f\"📊 Información del checkpoint:\")\n",
    "            print(f\"   - Época: {epoch}\")\n",
    "            print(f\"   - Paso global: {global_step}\")\n",
    "            if best_metric:\n",
    "                print(f\"   - Mejor métrica: {best_metric}\")\n",
    "            \n",
    "            # Verificar si hay información de loss\n",
    "            log_history = trainer_state.get('log_history', [])\n",
    "            if log_history:\n",
    "                last_log = log_history[-1]\n",
    "                if 'train_loss' in last_log:\n",
    "                    print(f\"   - Último train_loss: {last_log['train_loss']:.4f}\")\n",
    "                if 'eval_accuracy' in last_log:\n",
    "                    print(f\"   - Última eval_accuracy: {last_log['eval_accuracy']:.4f}\")\n",
    "            \n",
    "            return {\n",
    "                'epoch': epoch,\n",
    "                'global_step': global_step,\n",
    "                'best_metric': best_metric,\n",
    "                'trainer_state': trainer_state,\n",
    "                'log_history': log_history\n",
    "            }\n",
    "    except Exception as e:\n",
    "        print(f\"⚠️  Error leyendo checkpoint info: {e}\")\n",
    "    \n",
    "    return None"
   ]
  },
  {
   "cell_type": "code",
   "execution_count": null,
   "id": "15b0a12d-7264-4748-a60f-0d1e29cb8159",
   "metadata": {
    "execution": {
     "execution_failed": "2025-07-22T20:33:23.336Z"
    },
    "trusted": true
   },
   "outputs": [],
   "source": [
    "def train_transformer_model(model_name: str, train_df: pd.DataFrame,\n",
    "                          val_df: pd.DataFrame, test_df: pd.DataFrame,\n",
    "                          use_gpu=None, multi_gpu=None, save_model=True, \n",
    "                          resume_from_checkpoint=True) -> Dict[str, Any]:\n",
    "    \"\"\"\n",
    "    Entrenar modelo transformer con capacidad de resume\n",
    "    \"\"\"\n",
    "    logger.info(f\"Entrenando modelo {model_name}...\")\n",
    "\n",
    "    # Configuración de GPU\n",
    "    if use_gpu is None:\n",
    "        use_gpu_final = optimized_config[\"transformer_use_gpu\"]\n",
    "    else:\n",
    "        use_gpu_final = use_gpu and optimized_config[\"use_gpu\"]\n",
    "\n",
    "    if multi_gpu is None:\n",
    "        multi_gpu_final = optimized_config[\"multi_gpu\"] and use_gpu_final\n",
    "    else:\n",
    "        multi_gpu_final = multi_gpu and optimized_config[\"multi_gpu\"] and use_gpu_final\n",
    "\n",
    "    # Configurar dispositivo\n",
    "    if use_gpu_final:\n",
    "        device = optimized_config[\"device\"]\n",
    "        print(f\"   - Usando GPU: {device}\")\n",
    "        if multi_gpu_final:\n",
    "            print(f\"   - Multi-GPU activado: {torch.cuda.device_count()} GPUs\")\n",
    "    else:\n",
    "        device = \"cpu\"\n",
    "        print(\"   - Usando CPU\")\n",
    "\n",
    "    print(f\"   - Guardar modelo: {save_model}\")\n",
    "    print(f\"   - Resume desde checkpoint: {resume_from_checkpoint}\")\n",
    "\n",
    "    # Directorios\n",
    "    checkpoint_dir = os.path.join(models_dir, f'{model_name}_checkpoints')\n",
    "    print(checkpoint_dir)\n",
    "    final_model_dir = os.path.join(models_dir, f'{model_name}_final')\n",
    "    \n",
    "    # Buscar checkpoint existente\n",
    "    checkpoint_path = None\n",
    "    if resume_from_checkpoint:\n",
    "        checkpoint_path = find_latest_checkpoint(checkpoint_dir)\n",
    "        if checkpoint_path:\n",
    "            print(checkpoint_path)\n",
    "            checkpoint_info = get_checkpoint_info(checkpoint_path)\n",
    "            if checkpoint_info:\n",
    "                print(f\"✅ Reanudando desde época {checkpoint_info['epoch']}\")\n",
    "            else:\n",
    "                print(\"⚠️  No se pudo leer info del checkpoint, empezando desde cero\")\n",
    "                checkpoint_path = None\n",
    "        else:\n",
    "            print(\"📝 No se encontraron checkpoints, empezando desde cero\")\n",
    "\n",
    "    # LabelEncoder \n",
    "    label_encoder = LabelEncoder()\n",
    "    all_labels = pd.concat([train_df['value'], val_df['value'], test_df['value']])\n",
    "    label_encoder.fit(all_labels)\n",
    "\n",
    "    train_labels = label_encoder.transform(train_df['value'])\n",
    "    val_labels = label_encoder.transform(val_df['value'])\n",
    "    test_labels = label_encoder.transform(test_df['value'])\n",
    "\n",
    "    # Tokenizer y modelo\n",
    "    tokenizer = AutoTokenizer.from_pretrained(optimized_config[\"models_to_train\"][model_name])\n",
    "    if tokenizer.pad_token is None:\n",
    "        tokenizer.pad_token = tokenizer.eos_token\n",
    "\n",
    "    if checkpoint_path:\n",
    "        print(\"   - Cargando desde checkpoint...\")\n",
    "        model = AutoModelForSequenceClassification.from_pretrained(\n",
    "            checkpoint_path,\n",
    "            num_labels=len(label_encoder.classes_)\n",
    "        )\n",
    "    else:\n",
    "        print(\"   - Cargando modelo base...\")\n",
    "        model = AutoModelForSequenceClassification.from_pretrained(\n",
    "            optimized_config[\"models_to_train\"][model_name],\n",
    "            num_labels=len(label_encoder.classes_),\n",
    "            ignore_mismatched_sizes=True\n",
    "        )\n",
    "\n",
    "    # Mover a GPU si está disponible\n",
    "    if use_gpu_final:\n",
    "        model = model.to(device)\n",
    "        if multi_gpu_final:\n",
    "            model = DataParallel(model)\n",
    "\n",
    "    # Crear datasets\n",
    "    train_dataset = SDGDataset(\n",
    "        train_df['text'].tolist(), train_labels.tolist(),\n",
    "        tokenizer, optimized_config[\"max_length\"]\n",
    "    )\n",
    "    val_dataset = SDGDataset(\n",
    "        val_df['text'].tolist(), val_labels.tolist(),\n",
    "        tokenizer, optimized_config[\"max_length\"]\n",
    "    )\n",
    "    test_dataset = SDGDataset(\n",
    "        test_df['text'].tolist(), test_labels.tolist(),\n",
    "        tokenizer, optimized_config[\"max_length\"]\n",
    "    )\n",
    "\n",
    "    print(\"Epochs\", optimized_config[\"num_epochs\"], \"Batch\", optimized_config[\"batch_size\"])\n",
    "    training_args = TrainingArguments(\n",
    "        output_dir=checkpoint_dir,\n",
    "        num_train_epochs=optimized_config[\"num_epochs\"],\n",
    "        per_device_train_batch_size=optimized_config[\"batch_size\"],\n",
    "        per_device_eval_batch_size=optimized_config[\"batch_size\"],\n",
    "        learning_rate=optimized_config[\"learning_rate\"],\n",
    "        warmup_ratio=0.1,\n",
    "        warmup_steps=optimized_config[\"warmup_steps\"],\n",
    "        weight_decay=optimized_config[\"weight_decay\"],\n",
    "        logging_dir=os.path.join(results_dir, f'{model_name}_logs'),\n",
    "        logging_steps=10,\n",
    "        eval_strategy=\"epoch\",\n",
    "        eval_steps=500,\n",
    "        save_strategy=\"epoch\",\n",
    "        save_steps=500,\n",
    "        load_best_model_at_end=True,\n",
    "        metric_for_best_model=\"eval_accuracy\",\n",
    "        greater_is_better=True,\n",
    "        dataloader_num_workers=(4 if multi_gpu_final else 2) if use_gpu_final else 0,\n",
    "        fp16=use_gpu_final,  # Usar precisión mixta si hay GPU\n",
    "        max_grad_norm=1.0,\n",
    "        lr_scheduler_type=\"cosine\",\n",
    "        report_to=\"none\",\n",
    "        run_name=\"sdg_classifier\",\n",
    "        # NO uses gradient_checkpointing, ni save_total_limit, ni dataloader_pin_memory\n",
    "    )\n",
    "\n",
    "    # Función de métricas\n",
    "    def compute_metrics(eval_pred):\n",
    "        predictions, labels = eval_pred\n",
    "        predictions = np.argmax(predictions, axis=1)\n",
    "\n",
    "        accuracy = accuracy_score(labels, predictions)\n",
    "        precision, recall, f1, _ = precision_recall_fscore_support(\n",
    "            labels, predictions, average='weighted'\n",
    "        )\n",
    "\n",
    "        return {\n",
    "            'accuracy': accuracy,\n",
    "            'precision': precision,\n",
    "            'recall': recall,\n",
    "            'f1': f1\n",
    "        }\n",
    "\n",
    "    # Trainer\n",
    "    trainer = Trainer(\n",
    "        model=model,\n",
    "        args=training_args,\n",
    "        train_dataset=train_dataset,\n",
    "        eval_dataset=val_dataset,\n",
    "        compute_metrics=compute_metrics,\n",
    "        callbacks=[EarlyStoppingCallback(early_stopping_patience=optimized_config[\"early_stopping_patience\"])]\n",
    "    )\n",
    "\n",
    "    # Entrenar\n",
    "    start_time = time.time()\n",
    "    if use_gpu_final and torch.cuda.is_available():\n",
    "        torch.cuda.empty_cache()\n",
    "    if checkpoint_path:\n",
    "        print(f\"   - Reanudando entrenamiento desde: {checkpoint_path}\")\n",
    "        trainer.train(resume_from_checkpoint=checkpoint_path)\n",
    "    else:\n",
    "        print(\"   - Iniciando entrenamiento desde cero\")\n",
    "        trainer.train()\n",
    "    training_time = time.time() - start_time\n",
    "\n",
    "    # Evaluación\n",
    "    print(\"   - Evaluando modelo...\")\n",
    "    train_results = trainer.evaluate(train_dataset)\n",
    "    val_results = trainer.evaluate(val_dataset)\n",
    "    test_results = trainer.evaluate(test_dataset)\n",
    "\n",
    "    # Predicciones\n",
    "    print(\"Prediccion de validacion\")\n",
    "    val_predictions = trainer.predict(val_dataset)\n",
    "    val_preds = np.argmax(val_predictions.predictions, axis=1)\n",
    "    test_predictions = trainer.predict(test_dataset)\n",
    "    test_pred_labels = np.argmax(test_predictions.predictions, axis=1)\n",
    "\n",
    "    # Guardar modelo final\n",
    "    print(f\"   - Guardando modelo final en: {final_model_dir}\")\n",
    "    os.makedirs(final_model_dir, exist_ok=True)\n",
    "    if hasattr(model, 'module'):\n",
    "        model.module.save_pretrained(final_model_dir)\n",
    "    else:\n",
    "        model.save_pretrained(final_model_dir)\n",
    "    trainer.save_model(final_model_dir)\n",
    "    tokenizer.save_pretrained(final_model_dir)\n",
    "\n",
    "    # Guardar metadatos\n",
    "    metadata = {\n",
    "        'model_name': model_name,\n",
    "        'timestamp': time.strftime(\"%Y%m%d_%H%M%S\"),\n",
    "        'train_accuracy': float(train_results['eval_accuracy']),\n",
    "        'val_accuracy': float(val_results['eval_accuracy']),\n",
    "        'test_accuracy': float(test_results['eval_accuracy']),\n",
    "        'train_f1': float(train_results['eval_f1']),\n",
    "        'val_f1': float(val_results['eval_f1']),\n",
    "        'test_f1': float(test_results['eval_f1']),\n",
    "        'training_time': training_time,\n",
    "        'resumed_from_checkpoint': checkpoint_path is not None,\n",
    "        'checkpoint_path': checkpoint_path,\n",
    "        'final_model_dir': final_model_dir,\n",
    "        'gpu_used': use_gpu_final,\n",
    "        'multi_gpu_used': multi_gpu_final\n",
    "    }\n",
    "    with open(os.path.join(final_model_dir, 'metadata.json'), 'w') as f:\n",
    "        json.dump(metadata, f, indent=2)\n",
    "\n",
    "    results = {\n",
    "        'model': model,\n",
    "        'tokenizer': tokenizer,\n",
    "        'trainer': trainer,\n",
    "        'train_accuracy': train_results['eval_accuracy'],\n",
    "        'val_accuracy': val_results['eval_accuracy'],\n",
    "        'test_accuracy': test_results['eval_accuracy'],\n",
    "        'train_f1': train_results['eval_f1'],\n",
    "        'val_f1': val_results['eval_f1'],\n",
    "        'test_f1': test_results['eval_f1'],\n",
    "        'training_time': training_time,\n",
    "        'model_path': final_model_dir,\n",
    "        'true_labels': test_labels,\n",
    "        'label_encoder': label_encoder,\n",
    "        'val_predictions': val_preds,\n",
    "        'test_predictions': test_pred_labels,\n",
    "        'gpu_used': use_gpu_final,\n",
    "        'multi_gpu_used': multi_gpu_final,\n",
    "        'device': device,\n",
    "        'resumed_from_checkpoint': checkpoint_path is not None,\n",
    "        'metadata': metadata\n",
    "    }\n",
    "\n",
    "    print(f\"✓ Val Accuracy: {val_results['eval_accuracy']:.4f}, Test Accuracy: {test_results['eval_accuracy']:.4f}\")\n",
    "\n",
    "    if use_gpu_final and torch.cuda.is_available():\n",
    "        torch.cuda.empty_cache()\n",
    "\n",
    "    saved_model_dir = None\n",
    "    if save_model:\n",
    "        saved_model_dir = save_transformer_model(model, tokenizer, trainer, model_name, results, label_encoder)\n",
    "\n",
    "    return results, final_model_dir"
   ]
  },
  {
   "cell_type": "code",
   "execution_count": null,
   "id": "523d52ca-0ae8-4943-9892-15e4f489a587",
   "metadata": {
    "execution": {
     "execution_failed": "2025-07-22T20:33:23.336Z"
    },
    "trusted": true
   },
   "outputs": [],
   "source": [
    "# transformer_results = {}\n",
    "# # model_name = \"roberta\"\n",
    "# model_name = \"bert\"\n",
    "# # model_name = \"distilbert\"\n",
    "# # for model_name in base_config[\"models_to_train\"].keys():\n",
    "# #     try:\n",
    "#         # ✅ Automáticamente buscará y continuará desde época 9\n",
    "# results, transformer_saved = train_transformer_model(\n",
    "#     model_name, train_df, val_df, test_df, use_gpu=True\n",
    "# )\n",
    "# transformer_results[model_name] = results\n",
    "#     # except Exception as e:\n",
    "#     #     print(f\"Error entrenando {model_name}: {str(e)}\")\n",
    "#     #     continue"
   ]
  },
  {
   "cell_type": "markdown",
   "id": "7f0f17ff",
   "metadata": {
    "id": "7f0f17ff"
   },
   "source": [
    "# 8. Análisis de resultados"
   ]
  },
  {
   "cell_type": "code",
   "execution_count": null,
   "id": "ec3a8041",
   "metadata": {
    "execution": {
     "execution_failed": "2025-07-22T20:33:23.337Z"
    },
    "id": "ec3a8041",
    "trusted": true
   },
   "outputs": [],
   "source": [
    "# Combinar resultados\n",
    "all_results = {**transformer_results}#, **traditional_results}"
   ]
  },
  {
   "cell_type": "code",
   "execution_count": null,
   "id": "eb3d5b90",
   "metadata": {
    "execution": {
     "execution_failed": "2025-07-22T20:33:23.337Z"
    },
    "id": "eb3d5b90",
    "trusted": true
   },
   "outputs": [],
   "source": [
    "def create_comparison_plots(summary: Dict[str, Any], all_results: Dict[str, Any], test_df: pd.DataFrame):\n",
    "    \"\"\"Crear gráficos comparativos\"\"\"\n",
    "    fig, axes = plt.subplots(2, 2, figsize=(15, 12))\n",
    "\n",
    "    models = list(summary.keys())\n",
    "    accuracies = [summary[m]['test_accuracy'] for m in models]\n",
    "    f1_scores = [summary[m]['test_f1'] for m in models]\n",
    "    times = [summary[m]['training_time'] for m in models]\n",
    "\n",
    "    # Comparación de accuracy\n",
    "    bars1 = axes[0, 0].bar(models, accuracies, color='skyblue', alpha=0.7)\n",
    "    axes[0, 0].set_title('Comparación de Accuracy en Test')\n",
    "    axes[0, 0].set_ylabel('Accuracy')\n",
    "    axes[0, 0].tick_params(axis='x', rotation=45)\n",
    "\n",
    "    # Añadir valores en las barras\n",
    "    for bar, acc in zip(bars1, accuracies):\n",
    "        axes[0, 0].text(bar.get_x() + bar.get_width()/2, bar.get_height() + 0.01,\n",
    "                        f'{acc:.3f}', ha='center', va='bottom')\n",
    "\n",
    "    # Comparación de F1-Score\n",
    "    bars2 = axes[0, 1].bar(models, f1_scores, color='lightcoral', alpha=0.7)\n",
    "    axes[0, 1].set_title('Comparación de F1-Score en Test')\n",
    "    axes[0, 1].set_ylabel('F1-Score')\n",
    "    axes[0, 1].tick_params(axis='x', rotation=45)\n",
    "\n",
    "    offset = max(f1_scores) * 0.02  # Offset dinámico: 2% del máximo\n",
    "    for bar, f1 in zip(bars2, f1_scores):\n",
    "        axes[0, 1].text(bar.get_x() + bar.get_width()/2, bar.get_height() + offset,\n",
    "                        f'{f1:.3f}', ha='center', va='bottom')\n",
    "\n",
    "    # Tiempo de entrenamiento\n",
    "    bars3 = axes[1, 0].bar(models, times, color='lightgreen', alpha=0.7)\n",
    "    axes[1, 0].set_title('Tiempo de Entrenamiento')\n",
    "    axes[1, 0].set_ylabel('Tiempo (segundos)')\n",
    "    axes[1, 0].tick_params(axis='x', rotation=45)\n",
    "\n",
    "    for bar, time_val in zip(bars3, times):\n",
    "        axes[1, 0].text(bar.get_x() + bar.get_width()/2, bar.get_height() + max(times)*0.01,\n",
    "                        f'{time_val:.1f}s', ha='center', va='bottom')\n",
    "\n",
    "    # Scatter plot: Accuracy vs Tiempo\n",
    "    axes[1, 1].scatter(times, accuracies, s=100, alpha=0.7)\n",
    "    for i, model in enumerate(models):\n",
    "        axes[1, 1].annotate(model, (times[i], accuracies[i]),\n",
    "                            xytext=(5, 5), textcoords='offset points')\n",
    "    axes[1, 1].set_xlabel('Tiempo de Entrenamiento (s)')\n",
    "    axes[1, 1].set_ylabel('Accuracy')\n",
    "    axes[1, 1].set_title('Accuracy vs Tiempo de Entrenamiento')\n",
    "\n",
    "    plt.tight_layout()\n",
    "    plt.savefig(os.path.join(plots_dir, 'model_comparison.png'),\n",
    "                dpi=300, bbox_inches='tight')\n",
    "    plt.show()\n",
    "    plt.close()"
   ]
  },
  {
   "cell_type": "code",
   "execution_count": null,
   "id": "e22665fc",
   "metadata": {
    "execution": {
     "execution_failed": "2025-07-22T20:33:23.337Z"
    },
    "id": "e22665fc",
    "trusted": true
   },
   "outputs": [],
   "source": [
    "def create_confusion_matrix_analysis(best_model_name: str, best_results: Dict[str, Any], test_df: pd.DataFrame):\n",
    "    \"\"\"Crear análisis de matriz de confusión para el mejor modelo\"\"\"\n",
    "    if 'predictions' not in best_results:\n",
    "        return\n",
    "\n",
    "    # LabelEncoder \n",
    "    label_encoder = best_results.get('label_encoder', None)\n",
    "    true_labels = label_encoder.transform(test_df['value'])\n",
    "\n",
    "    # Extraer predicciones\n",
    "    predictions = None\n",
    "    possible_keys = ['test_predictions', 'predictions', 'y_pred', 'test_pred']\n",
    "    for key in possible_keys:\n",
    "        if key in best_results and best_results[key] is not None:\n",
    "            predictions = best_results[key]\n",
    "            break\n",
    "\n",
    "    if predictions is None:\n",
    "        print(f\"❌ No se encontraron predicciones. Claves disponibles: {list(best_results.keys())}\")\n",
    "        return\n",
    "\n",
    "    # Si predictions es un diccionario\n",
    "    if isinstance(predictions, dict):\n",
    "        if 'test' in predictions:\n",
    "            predictions = predictions['test']\n",
    "        else:\n",
    "            print(f\"❌ El diccionario de predicciones no tiene la clave 'test'.\")\n",
    "            return\n",
    "\n",
    "    predictions = np.array(predictions)\n",
    "\n",
    "    # Ajustar si los tamaños no coinciden\n",
    "    if len(true_labels) != len(predictions):\n",
    "        min_size = min(len(true_labels), len(predictions))\n",
    "        true_labels = true_labels[:min_size]\n",
    "        predictions = predictions[:min_size]\n",
    "        print(f\"🔧 Ajustado a {min_size} muestras\")\n",
    "\n",
    "    # Nombres de clases para etiquetas en la matriz de confusión\n",
    "    class_names = label_encoder.classes_\n",
    "\n",
    "    # ===========================================\n",
    "    # 🔷 MATRIZ DE CONFUSIÓN - ABSOLUTA\n",
    "    # ===========================================\n",
    "    cm = confusion_matrix(true_labels, predictions)\n",
    "\n",
    "    plt.figure(figsize=(8, 6))\n",
    "    sns.heatmap(cm, annot=True, fmt='d', cmap='Blues',\n",
    "                xticklabels=class_names, yticklabels=class_names)\n",
    "    plt.title(f'Matriz de Confusión - {best_model_name} (Absoluta)')\n",
    "    plt.xlabel('Predicción')\n",
    "    plt.ylabel('Verdadero')\n",
    "    plt.tight_layout()\n",
    "    plt.savefig(os.path.join(plots_dir, f'confusion_matrix_{best_model_name}.png'),\n",
    "                dpi=300, bbox_inches='tight')\n",
    "    plt.close()\n",
    "\n",
    "    # ===========================================\n",
    "    # 🔷 MATRIZ DE CONFUSIÓN - NORMALIZADA (0 a 1)\n",
    "    # ===========================================\n",
    "    cm_normalized = cm.astype('float') / cm.sum(axis=1, keepdims=True)\n",
    "    cm_normalized = np.round(cm_normalized, 3)  # valores entre 0 y 1\n",
    "\n",
    "    plt.figure(figsize=(8, 6))\n",
    "    sns.heatmap(cm_normalized, annot=True, fmt='.3f', cmap='Greens',\n",
    "                xticklabels=class_names, yticklabels=class_names)\n",
    "    plt.title(f'Matriz de Confusión - {best_model_name} (Normalizada)')\n",
    "    plt.xlabel('Predicción')\n",
    "    plt.ylabel('Verdadero')\n",
    "    plt.tight_layout()\n",
    "    plt.savefig(os.path.join(plots_dir, f'confusion_matrix_{best_model_name}_normalized.png'),\n",
    "                dpi=300, bbox_inches='tight')\n",
    "    plt.show()\n",
    "    plt.close()\n",
    "\n",
    "    # Reporte de clasificación\n",
    "    report = classification_report(true_labels, predictions,\n",
    "                                    target_names=class_names,\n",
    "                                    output_dict=True)\n",
    "\n",
    "    os.makedirs(results_dir, exist_ok=True)\n",
    "    with open(os.path.join(results_dir, f'classification_report_{best_model_name}.json'), 'w') as f:\n",
    "        json.dump(report, f, indent=2)\n",
    "\n",
    "    print(f\"✅ Análisis de matriz de confusión y reporte guardados para {best_model_name}.\")"
   ]
  },
  {
   "cell_type": "code",
   "execution_count": null,
   "id": "861ea9b4",
   "metadata": {
    "execution": {
     "execution_failed": "2025-07-22T20:33:23.337Z"
    },
    "id": "861ea9b4",
    "trusted": true
   },
   "outputs": [],
   "source": [
    "def create_detailed_analysis(all_results: Dict[str, Any], test_df: pd.DataFrame):\n",
    "    \"\"\"Crear análisis detallado de resultados\"\"\"\n",
    "    logger.info(\"Creando análisis detallado de resultados...\")\n",
    "\n",
    "    # Resumen de resultados\n",
    "    summary = {}\n",
    "    for model_name, results in all_results.items():\n",
    "        summary[model_name] = {\n",
    "            'test_accuracy': results.get('test_accuracy', 0),\n",
    "            'test_f1': results.get('f1_score', results.get('test_f1', 0)),\n",
    "            'training_time': results.get('training_time', 0)\n",
    "        }\n",
    "\n",
    "    # Crear visualizaciones comparativas\n",
    "    create_comparison_plots(summary, all_results, test_df)\n",
    "\n",
    "    # Análisis de confusión para el mejor modelo\n",
    "    best_model = max(summary.keys(), key=lambda x: summary[x]['test_accuracy'])\n",
    "    create_confusion_matrix_analysis(best_model, all_results[best_model], test_df)\n",
    "\n",
    "    # Guardar resumen\n",
    "    with open(os.path.join(results_dir, 'results_summary.json'), 'w') as f:\n",
    "        json.dump(summary, f, indent=2, default=str)\n",
    "\n",
    "    return summary"
   ]
  },
  {
   "cell_type": "code",
   "execution_count": null,
   "id": "a0930d22",
   "metadata": {
    "execution": {
     "execution_failed": "2025-07-22T20:33:23.337Z"
    },
    "id": "a0930d22",
    "trusted": true
   },
   "outputs": [],
   "source": [
    "summary = create_detailed_analysis(all_results, test_df)"
   ]
  },
  {
   "cell_type": "code",
   "execution_count": null,
   "id": "bdd5aed8",
   "metadata": {
    "execution": {
     "execution_failed": "2025-07-22T20:33:23.338Z"
    },
    "id": "bdd5aed8",
    "trusted": true
   },
   "outputs": [],
   "source": [
    "# all_results[best_model]"
   ]
  },
  {
   "cell_type": "markdown",
   "id": "34af4057",
   "metadata": {
    "id": "34af4057"
   },
   "source": [
    "# 9. Reporte final"
   ]
  },
  {
   "cell_type": "code",
   "execution_count": null,
   "id": "742563bb",
   "metadata": {
    "execution": {
     "execution_failed": "2025-07-22T20:33:23.338Z"
    },
    "id": "742563bb",
    "trusted": true
   },
   "outputs": [],
   "source": [
    "# Tiempo total\n",
    "total_time = time.time() - start_time\n",
    "logger.info(f\"Entrenamiento completado en {total_time:.2f} segundos\")\n",
    "\n",
    "# Mostrar mejores resultados\n",
    "# el accuracy mas grande y da como resultado el key\n",
    "best_model = max(summary.keys(), key=lambda x: summary[x]['test_accuracy'])\n",
    "logger.info(f\"Mejor modelo: {best_model} con accuracy: {summary[best_model]['test_accuracy']:.4f}\")"
   ]
  },
  {
   "cell_type": "code",
   "execution_count": null,
   "id": "303da456",
   "metadata": {
    "execution": {
     "execution_failed": "2025-07-22T20:33:23.338Z"
    },
    "id": "303da456",
    "jupyter": {
     "source_hidden": true
    },
    "trusted": true
   },
   "outputs": [],
   "source": [
    "print(\"\\n\" + \"=\"*50)\n",
    "print(\"RESUMEN DE RESULTADOS\")\n",
    "print(\"=\"*50)\n",
    "for model_name, metrics in summary.items():\n",
    "    print(f\"{model_name}:\")\n",
    "    print(f\"  - Test Accuracy: {metrics['test_accuracy']:.4f}\")\n",
    "    print(f\"  - Test F1-Score: {metrics['test_f1']:.4f}\")\n",
    "    print(f\"  - Tiempo de entrenamiento: {metrics['training_time']:.2f}s\")\n",
    "    print()"
   ]
  }
 ],
 "metadata": {
  "accelerator": "GPU",
  "colab": {
   "gpuType": "T4",
   "provenance": []
  },
  "kaggle": {
   "accelerator": "gpu",
   "dataSources": [
    {
     "datasetId": 7774051,
     "sourceId": 12411126,
     "sourceType": "datasetVersion"
    }
   ],
   "dockerImageVersionId": 31090,
   "isGpuEnabled": true,
   "isInternetEnabled": true,
   "language": "python",
   "sourceType": "notebook"
  },
  "kernelspec": {
   "display_name": "Python 3",
   "language": "python",
   "name": "python3"
  },
  "language_info": {
   "codemirror_mode": {
    "name": "ipython",
    "version": 3
   },
   "file_extension": ".py",
   "mimetype": "text/x-python",
   "name": "python",
   "nbconvert_exporter": "python",
   "pygments_lexer": "ipython3",
   "version": "3.12.10"
  },
  "widgets": {
   "application/vnd.jupyter.widget-state+json": {
    "0143d6051b9f4ec989a8f1dd6a25db1f": {
     "model_module": "@jupyter-widgets/controls",
     "model_module_version": "1.5.0",
     "model_name": "HTMLModel",
     "state": {
      "_dom_classes": [],
      "_model_module": "@jupyter-widgets/controls",
      "_model_module_version": "1.5.0",
      "_model_name": "HTMLModel",
      "_view_count": null,
      "_view_module": "@jupyter-widgets/controls",
      "_view_module_version": "1.5.0",
      "_view_name": "HTMLView",
      "description": "",
      "description_tooltip": null,
      "layout": "IPY_MODEL_24bae8ea7e63482a89d775fc280c2c39",
      "placeholder": "​",
      "style": "IPY_MODEL_dffd3655346b42ef9344649b024b0786",
      "value": " 440M/440M [00:05&lt;00:00, 120MB/s]"
     }
    },
    "05c988559daf4d2b83357d3c4f550152": {
     "model_module": "@jupyter-widgets/controls",
     "model_module_version": "1.5.0",
     "model_name": "HTMLModel",
     "state": {
      "_dom_classes": [],
      "_model_module": "@jupyter-widgets/controls",
      "_model_module_version": "1.5.0",
      "_model_name": "HTMLModel",
      "_view_count": null,
      "_view_module": "@jupyter-widgets/controls",
      "_view_module_version": "1.5.0",
      "_view_name": "HTMLView",
      "description": "",
      "description_tooltip": null,
      "layout": "IPY_MODEL_21daa779fd1746cd9c1bfa8314feb753",
      "placeholder": "​",
      "style": "IPY_MODEL_be770ae74f0b49bda79cc5c7a55dd450",
      "value": " 48.0/48.0 [00:00&lt;00:00, 5.08kB/s]"
     }
    },
    "0f49ee94dcdb4681949ec33b4ac98154": {
     "model_module": "@jupyter-widgets/controls",
     "model_module_version": "1.5.0",
     "model_name": "HBoxModel",
     "state": {
      "_dom_classes": [],
      "_model_module": "@jupyter-widgets/controls",
      "_model_module_version": "1.5.0",
      "_model_name": "HBoxModel",
      "_view_count": null,
      "_view_module": "@jupyter-widgets/controls",
      "_view_module_version": "1.5.0",
      "_view_name": "HBoxView",
      "box_style": "",
      "children": [
       "IPY_MODEL_736385d0bbb1496ebc53c54583376515",
       "IPY_MODEL_f6b1952c2fd744fb9170044714afe97a",
       "IPY_MODEL_41f4cfac519d4747a4cc3f1873c16072"
      ],
      "layout": "IPY_MODEL_78e3bf6853a542be8f035dad519cf514"
     }
    },
    "1212fa54e2d7496687b717d98c6cedcc": {
     "model_module": "@jupyter-widgets/controls",
     "model_module_version": "1.5.0",
     "model_name": "FloatProgressModel",
     "state": {
      "_dom_classes": [],
      "_model_module": "@jupyter-widgets/controls",
      "_model_module_version": "1.5.0",
      "_model_name": "FloatProgressModel",
      "_view_count": null,
      "_view_module": "@jupyter-widgets/controls",
      "_view_module_version": "1.5.0",
      "_view_name": "ProgressView",
      "bar_style": "success",
      "description": "",
      "description_tooltip": null,
      "layout": "IPY_MODEL_b064b7618461461285a1299d05779912",
      "max": 570,
      "min": 0,
      "orientation": "horizontal",
      "style": "IPY_MODEL_d26192b4c4eb4b88be275a322e024781",
      "value": 570
     }
    },
    "1e8b0e65fa914a8891b1a1f255e99d10": {
     "model_module": "@jupyter-widgets/controls",
     "model_module_version": "1.5.0",
     "model_name": "DescriptionStyleModel",
     "state": {
      "_model_module": "@jupyter-widgets/controls",
      "_model_module_version": "1.5.0",
      "_model_name": "DescriptionStyleModel",
      "_view_count": null,
      "_view_module": "@jupyter-widgets/base",
      "_view_module_version": "1.2.0",
      "_view_name": "StyleView",
      "description_width": ""
     }
    },
    "1fe436cad56447d8bc0e477395f8e0f7": {
     "model_module": "@jupyter-widgets/controls",
     "model_module_version": "1.5.0",
     "model_name": "FloatProgressModel",
     "state": {
      "_dom_classes": [],
      "_model_module": "@jupyter-widgets/controls",
      "_model_module_version": "1.5.0",
      "_model_name": "FloatProgressModel",
      "_view_count": null,
      "_view_module": "@jupyter-widgets/controls",
      "_view_module_version": "1.5.0",
      "_view_name": "ProgressView",
      "bar_style": "success",
      "description": "",
      "description_tooltip": null,
      "layout": "IPY_MODEL_f721132728d542c6ab8c896d504fb137",
      "max": 48,
      "min": 0,
      "orientation": "horizontal",
      "style": "IPY_MODEL_49dfe419e9234007a548f119f2673df2",
      "value": 48
     }
    },
    "21daa779fd1746cd9c1bfa8314feb753": {
     "model_module": "@jupyter-widgets/base",
     "model_module_version": "1.2.0",
     "model_name": "LayoutModel",
     "state": {
      "_model_module": "@jupyter-widgets/base",
      "_model_module_version": "1.2.0",
      "_model_name": "LayoutModel",
      "_view_count": null,
      "_view_module": "@jupyter-widgets/base",
      "_view_module_version": "1.2.0",
      "_view_name": "LayoutView",
      "align_content": null,
      "align_items": null,
      "align_self": null,
      "border": null,
      "bottom": null,
      "display": null,
      "flex": null,
      "flex_flow": null,
      "grid_area": null,
      "grid_auto_columns": null,
      "grid_auto_flow": null,
      "grid_auto_rows": null,
      "grid_column": null,
      "grid_gap": null,
      "grid_row": null,
      "grid_template_areas": null,
      "grid_template_columns": null,
      "grid_template_rows": null,
      "height": null,
      "justify_content": null,
      "justify_items": null,
      "left": null,
      "margin": null,
      "max_height": null,
      "max_width": null,
      "min_height": null,
      "min_width": null,
      "object_fit": null,
      "object_position": null,
      "order": null,
      "overflow": null,
      "overflow_x": null,
      "overflow_y": null,
      "padding": null,
      "right": null,
      "top": null,
      "visibility": null,
      "width": null
     }
    },
    "24bae8ea7e63482a89d775fc280c2c39": {
     "model_module": "@jupyter-widgets/base",
     "model_module_version": "1.2.0",
     "model_name": "LayoutModel",
     "state": {
      "_model_module": "@jupyter-widgets/base",
      "_model_module_version": "1.2.0",
      "_model_name": "LayoutModel",
      "_view_count": null,
      "_view_module": "@jupyter-widgets/base",
      "_view_module_version": "1.2.0",
      "_view_name": "LayoutView",
      "align_content": null,
      "align_items": null,
      "align_self": null,
      "border": null,
      "bottom": null,
      "display": null,
      "flex": null,
      "flex_flow": null,
      "grid_area": null,
      "grid_auto_columns": null,
      "grid_auto_flow": null,
      "grid_auto_rows": null,
      "grid_column": null,
      "grid_gap": null,
      "grid_row": null,
      "grid_template_areas": null,
      "grid_template_columns": null,
      "grid_template_rows": null,
      "height": null,
      "justify_content": null,
      "justify_items": null,
      "left": null,
      "margin": null,
      "max_height": null,
      "max_width": null,
      "min_height": null,
      "min_width": null,
      "object_fit": null,
      "object_position": null,
      "order": null,
      "overflow": null,
      "overflow_x": null,
      "overflow_y": null,
      "padding": null,
      "right": null,
      "top": null,
      "visibility": null,
      "width": null
     }
    },
    "250d6cc3c7f646e8a6339c0c4e46944b": {
     "model_module": "@jupyter-widgets/base",
     "model_module_version": "1.2.0",
     "model_name": "LayoutModel",
     "state": {
      "_model_module": "@jupyter-widgets/base",
      "_model_module_version": "1.2.0",
      "_model_name": "LayoutModel",
      "_view_count": null,
      "_view_module": "@jupyter-widgets/base",
      "_view_module_version": "1.2.0",
      "_view_name": "LayoutView",
      "align_content": null,
      "align_items": null,
      "align_self": null,
      "border": null,
      "bottom": null,
      "display": null,
      "flex": null,
      "flex_flow": null,
      "grid_area": null,
      "grid_auto_columns": null,
      "grid_auto_flow": null,
      "grid_auto_rows": null,
      "grid_column": null,
      "grid_gap": null,
      "grid_row": null,
      "grid_template_areas": null,
      "grid_template_columns": null,
      "grid_template_rows": null,
      "height": null,
      "justify_content": null,
      "justify_items": null,
      "left": null,
      "margin": null,
      "max_height": null,
      "max_width": null,
      "min_height": null,
      "min_width": null,
      "object_fit": null,
      "object_position": null,
      "order": null,
      "overflow": null,
      "overflow_x": null,
      "overflow_y": null,
      "padding": null,
      "right": null,
      "top": null,
      "visibility": null,
      "width": null
     }
    },
    "2aef7f82055243c49bee68a75d9c9d08": {
     "model_module": "@jupyter-widgets/base",
     "model_module_version": "1.2.0",
     "model_name": "LayoutModel",
     "state": {
      "_model_module": "@jupyter-widgets/base",
      "_model_module_version": "1.2.0",
      "_model_name": "LayoutModel",
      "_view_count": null,
      "_view_module": "@jupyter-widgets/base",
      "_view_module_version": "1.2.0",
      "_view_name": "LayoutView",
      "align_content": null,
      "align_items": null,
      "align_self": null,
      "border": null,
      "bottom": null,
      "display": null,
      "flex": null,
      "flex_flow": null,
      "grid_area": null,
      "grid_auto_columns": null,
      "grid_auto_flow": null,
      "grid_auto_rows": null,
      "grid_column": null,
      "grid_gap": null,
      "grid_row": null,
      "grid_template_areas": null,
      "grid_template_columns": null,
      "grid_template_rows": null,
      "height": null,
      "justify_content": null,
      "justify_items": null,
      "left": null,
      "margin": null,
      "max_height": null,
      "max_width": null,
      "min_height": null,
      "min_width": null,
      "object_fit": null,
      "object_position": null,
      "order": null,
      "overflow": null,
      "overflow_x": null,
      "overflow_y": null,
      "padding": null,
      "right": null,
      "top": null,
      "visibility": null,
      "width": null
     }
    },
    "2bf24c7c669d41e68b2cbb271b0c25df": {
     "model_module": "@jupyter-widgets/base",
     "model_module_version": "1.2.0",
     "model_name": "LayoutModel",
     "state": {
      "_model_module": "@jupyter-widgets/base",
      "_model_module_version": "1.2.0",
      "_model_name": "LayoutModel",
      "_view_count": null,
      "_view_module": "@jupyter-widgets/base",
      "_view_module_version": "1.2.0",
      "_view_name": "LayoutView",
      "align_content": null,
      "align_items": null,
      "align_self": null,
      "border": null,
      "bottom": null,
      "display": null,
      "flex": null,
      "flex_flow": null,
      "grid_area": null,
      "grid_auto_columns": null,
      "grid_auto_flow": null,
      "grid_auto_rows": null,
      "grid_column": null,
      "grid_gap": null,
      "grid_row": null,
      "grid_template_areas": null,
      "grid_template_columns": null,
      "grid_template_rows": null,
      "height": null,
      "justify_content": null,
      "justify_items": null,
      "left": null,
      "margin": null,
      "max_height": null,
      "max_width": null,
      "min_height": null,
      "min_width": null,
      "object_fit": null,
      "object_position": null,
      "order": null,
      "overflow": null,
      "overflow_x": null,
      "overflow_y": null,
      "padding": null,
      "right": null,
      "top": null,
      "visibility": null,
      "width": null
     }
    },
    "2d3ca94965fc41568a5730be22aa277d": {
     "model_module": "@jupyter-widgets/base",
     "model_module_version": "1.2.0",
     "model_name": "LayoutModel",
     "state": {
      "_model_module": "@jupyter-widgets/base",
      "_model_module_version": "1.2.0",
      "_model_name": "LayoutModel",
      "_view_count": null,
      "_view_module": "@jupyter-widgets/base",
      "_view_module_version": "1.2.0",
      "_view_name": "LayoutView",
      "align_content": null,
      "align_items": null,
      "align_self": null,
      "border": null,
      "bottom": null,
      "display": null,
      "flex": null,
      "flex_flow": null,
      "grid_area": null,
      "grid_auto_columns": null,
      "grid_auto_flow": null,
      "grid_auto_rows": null,
      "grid_column": null,
      "grid_gap": null,
      "grid_row": null,
      "grid_template_areas": null,
      "grid_template_columns": null,
      "grid_template_rows": null,
      "height": null,
      "justify_content": null,
      "justify_items": null,
      "left": null,
      "margin": null,
      "max_height": null,
      "max_width": null,
      "min_height": null,
      "min_width": null,
      "object_fit": null,
      "object_position": null,
      "order": null,
      "overflow": null,
      "overflow_x": null,
      "overflow_y": null,
      "padding": null,
      "right": null,
      "top": null,
      "visibility": null,
      "width": null
     }
    },
    "2e49427e91ec4ea0897eb10a32bc8090": {
     "model_module": "@jupyter-widgets/base",
     "model_module_version": "1.2.0",
     "model_name": "LayoutModel",
     "state": {
      "_model_module": "@jupyter-widgets/base",
      "_model_module_version": "1.2.0",
      "_model_name": "LayoutModel",
      "_view_count": null,
      "_view_module": "@jupyter-widgets/base",
      "_view_module_version": "1.2.0",
      "_view_name": "LayoutView",
      "align_content": null,
      "align_items": null,
      "align_self": null,
      "border": null,
      "bottom": null,
      "display": null,
      "flex": null,
      "flex_flow": null,
      "grid_area": null,
      "grid_auto_columns": null,
      "grid_auto_flow": null,
      "grid_auto_rows": null,
      "grid_column": null,
      "grid_gap": null,
      "grid_row": null,
      "grid_template_areas": null,
      "grid_template_columns": null,
      "grid_template_rows": null,
      "height": null,
      "justify_content": null,
      "justify_items": null,
      "left": null,
      "margin": null,
      "max_height": null,
      "max_width": null,
      "min_height": null,
      "min_width": null,
      "object_fit": null,
      "object_position": null,
      "order": null,
      "overflow": null,
      "overflow_x": null,
      "overflow_y": null,
      "padding": null,
      "right": null,
      "top": null,
      "visibility": null,
      "width": null
     }
    },
    "32975601887c425e857fc5fc42b100ab": {
     "model_module": "@jupyter-widgets/base",
     "model_module_version": "1.2.0",
     "model_name": "LayoutModel",
     "state": {
      "_model_module": "@jupyter-widgets/base",
      "_model_module_version": "1.2.0",
      "_model_name": "LayoutModel",
      "_view_count": null,
      "_view_module": "@jupyter-widgets/base",
      "_view_module_version": "1.2.0",
      "_view_name": "LayoutView",
      "align_content": null,
      "align_items": null,
      "align_self": null,
      "border": null,
      "bottom": null,
      "display": null,
      "flex": null,
      "flex_flow": null,
      "grid_area": null,
      "grid_auto_columns": null,
      "grid_auto_flow": null,
      "grid_auto_rows": null,
      "grid_column": null,
      "grid_gap": null,
      "grid_row": null,
      "grid_template_areas": null,
      "grid_template_columns": null,
      "grid_template_rows": null,
      "height": null,
      "justify_content": null,
      "justify_items": null,
      "left": null,
      "margin": null,
      "max_height": null,
      "max_width": null,
      "min_height": null,
      "min_width": null,
      "object_fit": null,
      "object_position": null,
      "order": null,
      "overflow": null,
      "overflow_x": null,
      "overflow_y": null,
      "padding": null,
      "right": null,
      "top": null,
      "visibility": null,
      "width": null
     }
    },
    "38be75db46e94dd3ab394b00fd0864a4": {
     "model_module": "@jupyter-widgets/controls",
     "model_module_version": "1.5.0",
     "model_name": "DescriptionStyleModel",
     "state": {
      "_model_module": "@jupyter-widgets/controls",
      "_model_module_version": "1.5.0",
      "_model_name": "DescriptionStyleModel",
      "_view_count": null,
      "_view_module": "@jupyter-widgets/base",
      "_view_module_version": "1.2.0",
      "_view_name": "StyleView",
      "description_width": ""
     }
    },
    "3c50dffd87c4474ab76749b2a0401225": {
     "model_module": "@jupyter-widgets/controls",
     "model_module_version": "1.5.0",
     "model_name": "ProgressStyleModel",
     "state": {
      "_model_module": "@jupyter-widgets/controls",
      "_model_module_version": "1.5.0",
      "_model_name": "ProgressStyleModel",
      "_view_count": null,
      "_view_module": "@jupyter-widgets/base",
      "_view_module_version": "1.2.0",
      "_view_name": "StyleView",
      "bar_color": null,
      "description_width": ""
     }
    },
    "3e53f550aaaf4254970c5d45f70656f8": {
     "model_module": "@jupyter-widgets/controls",
     "model_module_version": "1.5.0",
     "model_name": "FloatProgressModel",
     "state": {
      "_dom_classes": [],
      "_model_module": "@jupyter-widgets/controls",
      "_model_module_version": "1.5.0",
      "_model_name": "FloatProgressModel",
      "_view_count": null,
      "_view_module": "@jupyter-widgets/controls",
      "_view_module_version": "1.5.0",
      "_view_name": "ProgressView",
      "bar_style": "success",
      "description": "",
      "description_tooltip": null,
      "layout": "IPY_MODEL_5cbd6d25f519428582a26e07a77ea31c",
      "max": 466062,
      "min": 0,
      "orientation": "horizontal",
      "style": "IPY_MODEL_3c50dffd87c4474ab76749b2a0401225",
      "value": 466062
     }
    },
    "3ecfe45d723d4cc0ae6548b2740f341d": {
     "model_module": "@jupyter-widgets/controls",
     "model_module_version": "1.5.0",
     "model_name": "HTMLModel",
     "state": {
      "_dom_classes": [],
      "_model_module": "@jupyter-widgets/controls",
      "_model_module_version": "1.5.0",
      "_model_name": "HTMLModel",
      "_view_count": null,
      "_view_module": "@jupyter-widgets/controls",
      "_view_module_version": "1.5.0",
      "_view_name": "HTMLView",
      "description": "",
      "description_tooltip": null,
      "layout": "IPY_MODEL_98e177e0701546409f1daf3f464b2d6b",
      "placeholder": "​",
      "style": "IPY_MODEL_d6e22c550dea43d4a62d20257d5878e4",
      "value": " 570/570 [00:00&lt;00:00, 60.2kB/s]"
     }
    },
    "41f4cfac519d4747a4cc3f1873c16072": {
     "model_module": "@jupyter-widgets/controls",
     "model_module_version": "1.5.0",
     "model_name": "HTMLModel",
     "state": {
      "_dom_classes": [],
      "_model_module": "@jupyter-widgets/controls",
      "_model_module_version": "1.5.0",
      "_model_name": "HTMLModel",
      "_view_count": null,
      "_view_module": "@jupyter-widgets/controls",
      "_view_module_version": "1.5.0",
      "_view_name": "HTMLView",
      "description": "",
      "description_tooltip": null,
      "layout": "IPY_MODEL_2aef7f82055243c49bee68a75d9c9d08",
      "placeholder": "​",
      "style": "IPY_MODEL_7b0d905c1f5741e69be9e6997e608143",
      "value": " 232k/232k [00:00&lt;00:00, 15.4MB/s]"
     }
    },
    "49dfe419e9234007a548f119f2673df2": {
     "model_module": "@jupyter-widgets/controls",
     "model_module_version": "1.5.0",
     "model_name": "ProgressStyleModel",
     "state": {
      "_model_module": "@jupyter-widgets/controls",
      "_model_module_version": "1.5.0",
      "_model_name": "ProgressStyleModel",
      "_view_count": null,
      "_view_module": "@jupyter-widgets/base",
      "_view_module_version": "1.2.0",
      "_view_name": "StyleView",
      "bar_color": null,
      "description_width": ""
     }
    },
    "4fe46e94d84e4ae2aca45e2bcb773b5a": {
     "model_module": "@jupyter-widgets/controls",
     "model_module_version": "1.5.0",
     "model_name": "DescriptionStyleModel",
     "state": {
      "_model_module": "@jupyter-widgets/controls",
      "_model_module_version": "1.5.0",
      "_model_name": "DescriptionStyleModel",
      "_view_count": null,
      "_view_module": "@jupyter-widgets/base",
      "_view_module_version": "1.2.0",
      "_view_name": "StyleView",
      "description_width": ""
     }
    },
    "5cbd6d25f519428582a26e07a77ea31c": {
     "model_module": "@jupyter-widgets/base",
     "model_module_version": "1.2.0",
     "model_name": "LayoutModel",
     "state": {
      "_model_module": "@jupyter-widgets/base",
      "_model_module_version": "1.2.0",
      "_model_name": "LayoutModel",
      "_view_count": null,
      "_view_module": "@jupyter-widgets/base",
      "_view_module_version": "1.2.0",
      "_view_name": "LayoutView",
      "align_content": null,
      "align_items": null,
      "align_self": null,
      "border": null,
      "bottom": null,
      "display": null,
      "flex": null,
      "flex_flow": null,
      "grid_area": null,
      "grid_auto_columns": null,
      "grid_auto_flow": null,
      "grid_auto_rows": null,
      "grid_column": null,
      "grid_gap": null,
      "grid_row": null,
      "grid_template_areas": null,
      "grid_template_columns": null,
      "grid_template_rows": null,
      "height": null,
      "justify_content": null,
      "justify_items": null,
      "left": null,
      "margin": null,
      "max_height": null,
      "max_width": null,
      "min_height": null,
      "min_width": null,
      "object_fit": null,
      "object_position": null,
      "order": null,
      "overflow": null,
      "overflow_x": null,
      "overflow_y": null,
      "padding": null,
      "right": null,
      "top": null,
      "visibility": null,
      "width": null
     }
    },
    "5dab5db9f82e467d828a08522a7f64f0": {
     "model_module": "@jupyter-widgets/controls",
     "model_module_version": "1.5.0",
     "model_name": "DescriptionStyleModel",
     "state": {
      "_model_module": "@jupyter-widgets/controls",
      "_model_module_version": "1.5.0",
      "_model_name": "DescriptionStyleModel",
      "_view_count": null,
      "_view_module": "@jupyter-widgets/base",
      "_view_module_version": "1.2.0",
      "_view_name": "StyleView",
      "description_width": ""
     }
    },
    "5f654eebeb1447c39298d47863217ad6": {
     "model_module": "@jupyter-widgets/base",
     "model_module_version": "1.2.0",
     "model_name": "LayoutModel",
     "state": {
      "_model_module": "@jupyter-widgets/base",
      "_model_module_version": "1.2.0",
      "_model_name": "LayoutModel",
      "_view_count": null,
      "_view_module": "@jupyter-widgets/base",
      "_view_module_version": "1.2.0",
      "_view_name": "LayoutView",
      "align_content": null,
      "align_items": null,
      "align_self": null,
      "border": null,
      "bottom": null,
      "display": null,
      "flex": null,
      "flex_flow": null,
      "grid_area": null,
      "grid_auto_columns": null,
      "grid_auto_flow": null,
      "grid_auto_rows": null,
      "grid_column": null,
      "grid_gap": null,
      "grid_row": null,
      "grid_template_areas": null,
      "grid_template_columns": null,
      "grid_template_rows": null,
      "height": null,
      "justify_content": null,
      "justify_items": null,
      "left": null,
      "margin": null,
      "max_height": null,
      "max_width": null,
      "min_height": null,
      "min_width": null,
      "object_fit": null,
      "object_position": null,
      "order": null,
      "overflow": null,
      "overflow_x": null,
      "overflow_y": null,
      "padding": null,
      "right": null,
      "top": null,
      "visibility": null,
      "width": null
     }
    },
    "6004c836ae4c4a9788e14039c1607094": {
     "model_module": "@jupyter-widgets/base",
     "model_module_version": "1.2.0",
     "model_name": "LayoutModel",
     "state": {
      "_model_module": "@jupyter-widgets/base",
      "_model_module_version": "1.2.0",
      "_model_name": "LayoutModel",
      "_view_count": null,
      "_view_module": "@jupyter-widgets/base",
      "_view_module_version": "1.2.0",
      "_view_name": "LayoutView",
      "align_content": null,
      "align_items": null,
      "align_self": null,
      "border": null,
      "bottom": null,
      "display": null,
      "flex": null,
      "flex_flow": null,
      "grid_area": null,
      "grid_auto_columns": null,
      "grid_auto_flow": null,
      "grid_auto_rows": null,
      "grid_column": null,
      "grid_gap": null,
      "grid_row": null,
      "grid_template_areas": null,
      "grid_template_columns": null,
      "grid_template_rows": null,
      "height": null,
      "justify_content": null,
      "justify_items": null,
      "left": null,
      "margin": null,
      "max_height": null,
      "max_width": null,
      "min_height": null,
      "min_width": null,
      "object_fit": null,
      "object_position": null,
      "order": null,
      "overflow": null,
      "overflow_x": null,
      "overflow_y": null,
      "padding": null,
      "right": null,
      "top": null,
      "visibility": null,
      "width": null
     }
    },
    "619939d861914d9a97a6bc43420609d7": {
     "model_module": "@jupyter-widgets/controls",
     "model_module_version": "1.5.0",
     "model_name": "DescriptionStyleModel",
     "state": {
      "_model_module": "@jupyter-widgets/controls",
      "_model_module_version": "1.5.0",
      "_model_name": "DescriptionStyleModel",
      "_view_count": null,
      "_view_module": "@jupyter-widgets/base",
      "_view_module_version": "1.2.0",
      "_view_name": "StyleView",
      "description_width": ""
     }
    },
    "6eae9b3ee729423ca95e70bc54979673": {
     "model_module": "@jupyter-widgets/controls",
     "model_module_version": "1.5.0",
     "model_name": "ProgressStyleModel",
     "state": {
      "_model_module": "@jupyter-widgets/controls",
      "_model_module_version": "1.5.0",
      "_model_name": "ProgressStyleModel",
      "_view_count": null,
      "_view_module": "@jupyter-widgets/base",
      "_view_module_version": "1.2.0",
      "_view_name": "StyleView",
      "bar_color": null,
      "description_width": ""
     }
    },
    "736385d0bbb1496ebc53c54583376515": {
     "model_module": "@jupyter-widgets/controls",
     "model_module_version": "1.5.0",
     "model_name": "HTMLModel",
     "state": {
      "_dom_classes": [],
      "_model_module": "@jupyter-widgets/controls",
      "_model_module_version": "1.5.0",
      "_model_name": "HTMLModel",
      "_view_count": null,
      "_view_module": "@jupyter-widgets/controls",
      "_view_module_version": "1.5.0",
      "_view_name": "HTMLView",
      "description": "",
      "description_tooltip": null,
      "layout": "IPY_MODEL_32975601887c425e857fc5fc42b100ab",
      "placeholder": "​",
      "style": "IPY_MODEL_a820249a23b84e0b8f93aeef940822a7",
      "value": "vocab.txt: 100%"
     }
    },
    "74a82ff81f7549b6b49e50516b2db715": {
     "model_module": "@jupyter-widgets/controls",
     "model_module_version": "1.5.0",
     "model_name": "HTMLModel",
     "state": {
      "_dom_classes": [],
      "_model_module": "@jupyter-widgets/controls",
      "_model_module_version": "1.5.0",
      "_model_name": "HTMLModel",
      "_view_count": null,
      "_view_module": "@jupyter-widgets/controls",
      "_view_module_version": "1.5.0",
      "_view_name": "HTMLView",
      "description": "",
      "description_tooltip": null,
      "layout": "IPY_MODEL_84180016609d45278d0a6e2b36b27794",
      "placeholder": "​",
      "style": "IPY_MODEL_1e8b0e65fa914a8891b1a1f255e99d10",
      "value": "model.safetensors: 100%"
     }
    },
    "76695b1f973d40bbb0c3002871c38209": {
     "model_module": "@jupyter-widgets/controls",
     "model_module_version": "1.5.0",
     "model_name": "FloatProgressModel",
     "state": {
      "_dom_classes": [],
      "_model_module": "@jupyter-widgets/controls",
      "_model_module_version": "1.5.0",
      "_model_name": "FloatProgressModel",
      "_view_count": null,
      "_view_module": "@jupyter-widgets/controls",
      "_view_module_version": "1.5.0",
      "_view_name": "ProgressView",
      "bar_style": "success",
      "description": "",
      "description_tooltip": null,
      "layout": "IPY_MODEL_ed1c8b25ffc74298904d5d2671107085",
      "max": 440449768,
      "min": 0,
      "orientation": "horizontal",
      "style": "IPY_MODEL_883ba394361d476580d5b8b8186b9d1f",
      "value": 440449768
     }
    },
    "78e3bf6853a542be8f035dad519cf514": {
     "model_module": "@jupyter-widgets/base",
     "model_module_version": "1.2.0",
     "model_name": "LayoutModel",
     "state": {
      "_model_module": "@jupyter-widgets/base",
      "_model_module_version": "1.2.0",
      "_model_name": "LayoutModel",
      "_view_count": null,
      "_view_module": "@jupyter-widgets/base",
      "_view_module_version": "1.2.0",
      "_view_name": "LayoutView",
      "align_content": null,
      "align_items": null,
      "align_self": null,
      "border": null,
      "bottom": null,
      "display": null,
      "flex": null,
      "flex_flow": null,
      "grid_area": null,
      "grid_auto_columns": null,
      "grid_auto_flow": null,
      "grid_auto_rows": null,
      "grid_column": null,
      "grid_gap": null,
      "grid_row": null,
      "grid_template_areas": null,
      "grid_template_columns": null,
      "grid_template_rows": null,
      "height": null,
      "justify_content": null,
      "justify_items": null,
      "left": null,
      "margin": null,
      "max_height": null,
      "max_width": null,
      "min_height": null,
      "min_width": null,
      "object_fit": null,
      "object_position": null,
      "order": null,
      "overflow": null,
      "overflow_x": null,
      "overflow_y": null,
      "padding": null,
      "right": null,
      "top": null,
      "visibility": null,
      "width": null
     }
    },
    "7b0d905c1f5741e69be9e6997e608143": {
     "model_module": "@jupyter-widgets/controls",
     "model_module_version": "1.5.0",
     "model_name": "DescriptionStyleModel",
     "state": {
      "_model_module": "@jupyter-widgets/controls",
      "_model_module_version": "1.5.0",
      "_model_name": "DescriptionStyleModel",
      "_view_count": null,
      "_view_module": "@jupyter-widgets/base",
      "_view_module_version": "1.2.0",
      "_view_name": "StyleView",
      "description_width": ""
     }
    },
    "805d86f445b54a2d98b5054c96da5d5d": {
     "model_module": "@jupyter-widgets/controls",
     "model_module_version": "1.5.0",
     "model_name": "HBoxModel",
     "state": {
      "_dom_classes": [],
      "_model_module": "@jupyter-widgets/controls",
      "_model_module_version": "1.5.0",
      "_model_name": "HBoxModel",
      "_view_count": null,
      "_view_module": "@jupyter-widgets/controls",
      "_view_module_version": "1.5.0",
      "_view_name": "HBoxView",
      "box_style": "",
      "children": [
       "IPY_MODEL_8dc389f266da4222b4210d48168b62df",
       "IPY_MODEL_1fe436cad56447d8bc0e477395f8e0f7",
       "IPY_MODEL_05c988559daf4d2b83357d3c4f550152"
      ],
      "layout": "IPY_MODEL_250d6cc3c7f646e8a6339c0c4e46944b"
     }
    },
    "82797e77badd44038c8104871bc95d3c": {
     "model_module": "@jupyter-widgets/controls",
     "model_module_version": "1.5.0",
     "model_name": "HTMLModel",
     "state": {
      "_dom_classes": [],
      "_model_module": "@jupyter-widgets/controls",
      "_model_module_version": "1.5.0",
      "_model_name": "HTMLModel",
      "_view_count": null,
      "_view_module": "@jupyter-widgets/controls",
      "_view_module_version": "1.5.0",
      "_view_name": "HTMLView",
      "description": "",
      "description_tooltip": null,
      "layout": "IPY_MODEL_6004c836ae4c4a9788e14039c1607094",
      "placeholder": "​",
      "style": "IPY_MODEL_38be75db46e94dd3ab394b00fd0864a4",
      "value": " 466k/466k [00:00&lt;00:00, 38.8MB/s]"
     }
    },
    "84180016609d45278d0a6e2b36b27794": {
     "model_module": "@jupyter-widgets/base",
     "model_module_version": "1.2.0",
     "model_name": "LayoutModel",
     "state": {
      "_model_module": "@jupyter-widgets/base",
      "_model_module_version": "1.2.0",
      "_model_name": "LayoutModel",
      "_view_count": null,
      "_view_module": "@jupyter-widgets/base",
      "_view_module_version": "1.2.0",
      "_view_name": "LayoutView",
      "align_content": null,
      "align_items": null,
      "align_self": null,
      "border": null,
      "bottom": null,
      "display": null,
      "flex": null,
      "flex_flow": null,
      "grid_area": null,
      "grid_auto_columns": null,
      "grid_auto_flow": null,
      "grid_auto_rows": null,
      "grid_column": null,
      "grid_gap": null,
      "grid_row": null,
      "grid_template_areas": null,
      "grid_template_columns": null,
      "grid_template_rows": null,
      "height": null,
      "justify_content": null,
      "justify_items": null,
      "left": null,
      "margin": null,
      "max_height": null,
      "max_width": null,
      "min_height": null,
      "min_width": null,
      "object_fit": null,
      "object_position": null,
      "order": null,
      "overflow": null,
      "overflow_x": null,
      "overflow_y": null,
      "padding": null,
      "right": null,
      "top": null,
      "visibility": null,
      "width": null
     }
    },
    "883ba394361d476580d5b8b8186b9d1f": {
     "model_module": "@jupyter-widgets/controls",
     "model_module_version": "1.5.0",
     "model_name": "ProgressStyleModel",
     "state": {
      "_model_module": "@jupyter-widgets/controls",
      "_model_module_version": "1.5.0",
      "_model_name": "ProgressStyleModel",
      "_view_count": null,
      "_view_module": "@jupyter-widgets/base",
      "_view_module_version": "1.2.0",
      "_view_name": "StyleView",
      "bar_color": null,
      "description_width": ""
     }
    },
    "8b2886cf21fb4ac0ae3ed1da3fb3a619": {
     "model_module": "@jupyter-widgets/controls",
     "model_module_version": "1.5.0",
     "model_name": "HTMLModel",
     "state": {
      "_dom_classes": [],
      "_model_module": "@jupyter-widgets/controls",
      "_model_module_version": "1.5.0",
      "_model_name": "HTMLModel",
      "_view_count": null,
      "_view_module": "@jupyter-widgets/controls",
      "_view_module_version": "1.5.0",
      "_view_name": "HTMLView",
      "description": "",
      "description_tooltip": null,
      "layout": "IPY_MODEL_f56bdcea1e5e496faebf5aa007b0fce7",
      "placeholder": "​",
      "style": "IPY_MODEL_4fe46e94d84e4ae2aca45e2bcb773b5a",
      "value": "tokenizer.json: 100%"
     }
    },
    "8dc389f266da4222b4210d48168b62df": {
     "model_module": "@jupyter-widgets/controls",
     "model_module_version": "1.5.0",
     "model_name": "HTMLModel",
     "state": {
      "_dom_classes": [],
      "_model_module": "@jupyter-widgets/controls",
      "_model_module_version": "1.5.0",
      "_model_name": "HTMLModel",
      "_view_count": null,
      "_view_module": "@jupyter-widgets/controls",
      "_view_module_version": "1.5.0",
      "_view_name": "HTMLView",
      "description": "",
      "description_tooltip": null,
      "layout": "IPY_MODEL_bac9a4fcd4b9423cbd99358efa94eaa8",
      "placeholder": "​",
      "style": "IPY_MODEL_5dab5db9f82e467d828a08522a7f64f0",
      "value": "tokenizer_config.json: 100%"
     }
    },
    "98e177e0701546409f1daf3f464b2d6b": {
     "model_module": "@jupyter-widgets/base",
     "model_module_version": "1.2.0",
     "model_name": "LayoutModel",
     "state": {
      "_model_module": "@jupyter-widgets/base",
      "_model_module_version": "1.2.0",
      "_model_name": "LayoutModel",
      "_view_count": null,
      "_view_module": "@jupyter-widgets/base",
      "_view_module_version": "1.2.0",
      "_view_name": "LayoutView",
      "align_content": null,
      "align_items": null,
      "align_self": null,
      "border": null,
      "bottom": null,
      "display": null,
      "flex": null,
      "flex_flow": null,
      "grid_area": null,
      "grid_auto_columns": null,
      "grid_auto_flow": null,
      "grid_auto_rows": null,
      "grid_column": null,
      "grid_gap": null,
      "grid_row": null,
      "grid_template_areas": null,
      "grid_template_columns": null,
      "grid_template_rows": null,
      "height": null,
      "justify_content": null,
      "justify_items": null,
      "left": null,
      "margin": null,
      "max_height": null,
      "max_width": null,
      "min_height": null,
      "min_width": null,
      "object_fit": null,
      "object_position": null,
      "order": null,
      "overflow": null,
      "overflow_x": null,
      "overflow_y": null,
      "padding": null,
      "right": null,
      "top": null,
      "visibility": null,
      "width": null
     }
    },
    "a820249a23b84e0b8f93aeef940822a7": {
     "model_module": "@jupyter-widgets/controls",
     "model_module_version": "1.5.0",
     "model_name": "DescriptionStyleModel",
     "state": {
      "_model_module": "@jupyter-widgets/controls",
      "_model_module_version": "1.5.0",
      "_model_name": "DescriptionStyleModel",
      "_view_count": null,
      "_view_module": "@jupyter-widgets/base",
      "_view_module_version": "1.2.0",
      "_view_name": "StyleView",
      "description_width": ""
     }
    },
    "b064b7618461461285a1299d05779912": {
     "model_module": "@jupyter-widgets/base",
     "model_module_version": "1.2.0",
     "model_name": "LayoutModel",
     "state": {
      "_model_module": "@jupyter-widgets/base",
      "_model_module_version": "1.2.0",
      "_model_name": "LayoutModel",
      "_view_count": null,
      "_view_module": "@jupyter-widgets/base",
      "_view_module_version": "1.2.0",
      "_view_name": "LayoutView",
      "align_content": null,
      "align_items": null,
      "align_self": null,
      "border": null,
      "bottom": null,
      "display": null,
      "flex": null,
      "flex_flow": null,
      "grid_area": null,
      "grid_auto_columns": null,
      "grid_auto_flow": null,
      "grid_auto_rows": null,
      "grid_column": null,
      "grid_gap": null,
      "grid_row": null,
      "grid_template_areas": null,
      "grid_template_columns": null,
      "grid_template_rows": null,
      "height": null,
      "justify_content": null,
      "justify_items": null,
      "left": null,
      "margin": null,
      "max_height": null,
      "max_width": null,
      "min_height": null,
      "min_width": null,
      "object_fit": null,
      "object_position": null,
      "order": null,
      "overflow": null,
      "overflow_x": null,
      "overflow_y": null,
      "padding": null,
      "right": null,
      "top": null,
      "visibility": null,
      "width": null
     }
    },
    "b595aed1eaa74557b881de829cb26903": {
     "model_module": "@jupyter-widgets/controls",
     "model_module_version": "1.5.0",
     "model_name": "HBoxModel",
     "state": {
      "_dom_classes": [],
      "_model_module": "@jupyter-widgets/controls",
      "_model_module_version": "1.5.0",
      "_model_name": "HBoxModel",
      "_view_count": null,
      "_view_module": "@jupyter-widgets/controls",
      "_view_module_version": "1.5.0",
      "_view_name": "HBoxView",
      "box_style": "",
      "children": [
       "IPY_MODEL_74a82ff81f7549b6b49e50516b2db715",
       "IPY_MODEL_76695b1f973d40bbb0c3002871c38209",
       "IPY_MODEL_0143d6051b9f4ec989a8f1dd6a25db1f"
      ],
      "layout": "IPY_MODEL_2d3ca94965fc41568a5730be22aa277d"
     }
    },
    "bac9a4fcd4b9423cbd99358efa94eaa8": {
     "model_module": "@jupyter-widgets/base",
     "model_module_version": "1.2.0",
     "model_name": "LayoutModel",
     "state": {
      "_model_module": "@jupyter-widgets/base",
      "_model_module_version": "1.2.0",
      "_model_name": "LayoutModel",
      "_view_count": null,
      "_view_module": "@jupyter-widgets/base",
      "_view_module_version": "1.2.0",
      "_view_name": "LayoutView",
      "align_content": null,
      "align_items": null,
      "align_self": null,
      "border": null,
      "bottom": null,
      "display": null,
      "flex": null,
      "flex_flow": null,
      "grid_area": null,
      "grid_auto_columns": null,
      "grid_auto_flow": null,
      "grid_auto_rows": null,
      "grid_column": null,
      "grid_gap": null,
      "grid_row": null,
      "grid_template_areas": null,
      "grid_template_columns": null,
      "grid_template_rows": null,
      "height": null,
      "justify_content": null,
      "justify_items": null,
      "left": null,
      "margin": null,
      "max_height": null,
      "max_width": null,
      "min_height": null,
      "min_width": null,
      "object_fit": null,
      "object_position": null,
      "order": null,
      "overflow": null,
      "overflow_x": null,
      "overflow_y": null,
      "padding": null,
      "right": null,
      "top": null,
      "visibility": null,
      "width": null
     }
    },
    "be770ae74f0b49bda79cc5c7a55dd450": {
     "model_module": "@jupyter-widgets/controls",
     "model_module_version": "1.5.0",
     "model_name": "DescriptionStyleModel",
     "state": {
      "_model_module": "@jupyter-widgets/controls",
      "_model_module_version": "1.5.0",
      "_model_name": "DescriptionStyleModel",
      "_view_count": null,
      "_view_module": "@jupyter-widgets/base",
      "_view_module_version": "1.2.0",
      "_view_name": "StyleView",
      "description_width": ""
     }
    },
    "bfb530d9174743ffb7108ed28957b2a8": {
     "model_module": "@jupyter-widgets/controls",
     "model_module_version": "1.5.0",
     "model_name": "HTMLModel",
     "state": {
      "_dom_classes": [],
      "_model_module": "@jupyter-widgets/controls",
      "_model_module_version": "1.5.0",
      "_model_name": "HTMLModel",
      "_view_count": null,
      "_view_module": "@jupyter-widgets/controls",
      "_view_module_version": "1.5.0",
      "_view_name": "HTMLView",
      "description": "",
      "description_tooltip": null,
      "layout": "IPY_MODEL_f9e5f9daae1144b8ac778583a0caf821",
      "placeholder": "​",
      "style": "IPY_MODEL_619939d861914d9a97a6bc43420609d7",
      "value": "config.json: 100%"
     }
    },
    "d26192b4c4eb4b88be275a322e024781": {
     "model_module": "@jupyter-widgets/controls",
     "model_module_version": "1.5.0",
     "model_name": "ProgressStyleModel",
     "state": {
      "_model_module": "@jupyter-widgets/controls",
      "_model_module_version": "1.5.0",
      "_model_name": "ProgressStyleModel",
      "_view_count": null,
      "_view_module": "@jupyter-widgets/base",
      "_view_module_version": "1.2.0",
      "_view_name": "StyleView",
      "bar_color": null,
      "description_width": ""
     }
    },
    "d6e22c550dea43d4a62d20257d5878e4": {
     "model_module": "@jupyter-widgets/controls",
     "model_module_version": "1.5.0",
     "model_name": "DescriptionStyleModel",
     "state": {
      "_model_module": "@jupyter-widgets/controls",
      "_model_module_version": "1.5.0",
      "_model_name": "DescriptionStyleModel",
      "_view_count": null,
      "_view_module": "@jupyter-widgets/base",
      "_view_module_version": "1.2.0",
      "_view_name": "StyleView",
      "description_width": ""
     }
    },
    "dffd3655346b42ef9344649b024b0786": {
     "model_module": "@jupyter-widgets/controls",
     "model_module_version": "1.5.0",
     "model_name": "DescriptionStyleModel",
     "state": {
      "_model_module": "@jupyter-widgets/controls",
      "_model_module_version": "1.5.0",
      "_model_name": "DescriptionStyleModel",
      "_view_count": null,
      "_view_module": "@jupyter-widgets/base",
      "_view_module_version": "1.2.0",
      "_view_name": "StyleView",
      "description_width": ""
     }
    },
    "ed1c8b25ffc74298904d5d2671107085": {
     "model_module": "@jupyter-widgets/base",
     "model_module_version": "1.2.0",
     "model_name": "LayoutModel",
     "state": {
      "_model_module": "@jupyter-widgets/base",
      "_model_module_version": "1.2.0",
      "_model_name": "LayoutModel",
      "_view_count": null,
      "_view_module": "@jupyter-widgets/base",
      "_view_module_version": "1.2.0",
      "_view_name": "LayoutView",
      "align_content": null,
      "align_items": null,
      "align_self": null,
      "border": null,
      "bottom": null,
      "display": null,
      "flex": null,
      "flex_flow": null,
      "grid_area": null,
      "grid_auto_columns": null,
      "grid_auto_flow": null,
      "grid_auto_rows": null,
      "grid_column": null,
      "grid_gap": null,
      "grid_row": null,
      "grid_template_areas": null,
      "grid_template_columns": null,
      "grid_template_rows": null,
      "height": null,
      "justify_content": null,
      "justify_items": null,
      "left": null,
      "margin": null,
      "max_height": null,
      "max_width": null,
      "min_height": null,
      "min_width": null,
      "object_fit": null,
      "object_position": null,
      "order": null,
      "overflow": null,
      "overflow_x": null,
      "overflow_y": null,
      "padding": null,
      "right": null,
      "top": null,
      "visibility": null,
      "width": null
     }
    },
    "f252461fd5314c278bba7fac65bfeea4": {
     "model_module": "@jupyter-widgets/controls",
     "model_module_version": "1.5.0",
     "model_name": "HBoxModel",
     "state": {
      "_dom_classes": [],
      "_model_module": "@jupyter-widgets/controls",
      "_model_module_version": "1.5.0",
      "_model_name": "HBoxModel",
      "_view_count": null,
      "_view_module": "@jupyter-widgets/controls",
      "_view_module_version": "1.5.0",
      "_view_name": "HBoxView",
      "box_style": "",
      "children": [
       "IPY_MODEL_8b2886cf21fb4ac0ae3ed1da3fb3a619",
       "IPY_MODEL_3e53f550aaaf4254970c5d45f70656f8",
       "IPY_MODEL_82797e77badd44038c8104871bc95d3c"
      ],
      "layout": "IPY_MODEL_5f654eebeb1447c39298d47863217ad6"
     }
    },
    "f56bdcea1e5e496faebf5aa007b0fce7": {
     "model_module": "@jupyter-widgets/base",
     "model_module_version": "1.2.0",
     "model_name": "LayoutModel",
     "state": {
      "_model_module": "@jupyter-widgets/base",
      "_model_module_version": "1.2.0",
      "_model_name": "LayoutModel",
      "_view_count": null,
      "_view_module": "@jupyter-widgets/base",
      "_view_module_version": "1.2.0",
      "_view_name": "LayoutView",
      "align_content": null,
      "align_items": null,
      "align_self": null,
      "border": null,
      "bottom": null,
      "display": null,
      "flex": null,
      "flex_flow": null,
      "grid_area": null,
      "grid_auto_columns": null,
      "grid_auto_flow": null,
      "grid_auto_rows": null,
      "grid_column": null,
      "grid_gap": null,
      "grid_row": null,
      "grid_template_areas": null,
      "grid_template_columns": null,
      "grid_template_rows": null,
      "height": null,
      "justify_content": null,
      "justify_items": null,
      "left": null,
      "margin": null,
      "max_height": null,
      "max_width": null,
      "min_height": null,
      "min_width": null,
      "object_fit": null,
      "object_position": null,
      "order": null,
      "overflow": null,
      "overflow_x": null,
      "overflow_y": null,
      "padding": null,
      "right": null,
      "top": null,
      "visibility": null,
      "width": null
     }
    },
    "f6b1952c2fd744fb9170044714afe97a": {
     "model_module": "@jupyter-widgets/controls",
     "model_module_version": "1.5.0",
     "model_name": "FloatProgressModel",
     "state": {
      "_dom_classes": [],
      "_model_module": "@jupyter-widgets/controls",
      "_model_module_version": "1.5.0",
      "_model_name": "FloatProgressModel",
      "_view_count": null,
      "_view_module": "@jupyter-widgets/controls",
      "_view_module_version": "1.5.0",
      "_view_name": "ProgressView",
      "bar_style": "success",
      "description": "",
      "description_tooltip": null,
      "layout": "IPY_MODEL_2bf24c7c669d41e68b2cbb271b0c25df",
      "max": 231508,
      "min": 0,
      "orientation": "horizontal",
      "style": "IPY_MODEL_6eae9b3ee729423ca95e70bc54979673",
      "value": 231508
     }
    },
    "f721132728d542c6ab8c896d504fb137": {
     "model_module": "@jupyter-widgets/base",
     "model_module_version": "1.2.0",
     "model_name": "LayoutModel",
     "state": {
      "_model_module": "@jupyter-widgets/base",
      "_model_module_version": "1.2.0",
      "_model_name": "LayoutModel",
      "_view_count": null,
      "_view_module": "@jupyter-widgets/base",
      "_view_module_version": "1.2.0",
      "_view_name": "LayoutView",
      "align_content": null,
      "align_items": null,
      "align_self": null,
      "border": null,
      "bottom": null,
      "display": null,
      "flex": null,
      "flex_flow": null,
      "grid_area": null,
      "grid_auto_columns": null,
      "grid_auto_flow": null,
      "grid_auto_rows": null,
      "grid_column": null,
      "grid_gap": null,
      "grid_row": null,
      "grid_template_areas": null,
      "grid_template_columns": null,
      "grid_template_rows": null,
      "height": null,
      "justify_content": null,
      "justify_items": null,
      "left": null,
      "margin": null,
      "max_height": null,
      "max_width": null,
      "min_height": null,
      "min_width": null,
      "object_fit": null,
      "object_position": null,
      "order": null,
      "overflow": null,
      "overflow_x": null,
      "overflow_y": null,
      "padding": null,
      "right": null,
      "top": null,
      "visibility": null,
      "width": null
     }
    },
    "f9e5f9daae1144b8ac778583a0caf821": {
     "model_module": "@jupyter-widgets/base",
     "model_module_version": "1.2.0",
     "model_name": "LayoutModel",
     "state": {
      "_model_module": "@jupyter-widgets/base",
      "_model_module_version": "1.2.0",
      "_model_name": "LayoutModel",
      "_view_count": null,
      "_view_module": "@jupyter-widgets/base",
      "_view_module_version": "1.2.0",
      "_view_name": "LayoutView",
      "align_content": null,
      "align_items": null,
      "align_self": null,
      "border": null,
      "bottom": null,
      "display": null,
      "flex": null,
      "flex_flow": null,
      "grid_area": null,
      "grid_auto_columns": null,
      "grid_auto_flow": null,
      "grid_auto_rows": null,
      "grid_column": null,
      "grid_gap": null,
      "grid_row": null,
      "grid_template_areas": null,
      "grid_template_columns": null,
      "grid_template_rows": null,
      "height": null,
      "justify_content": null,
      "justify_items": null,
      "left": null,
      "margin": null,
      "max_height": null,
      "max_width": null,
      "min_height": null,
      "min_width": null,
      "object_fit": null,
      "object_position": null,
      "order": null,
      "overflow": null,
      "overflow_x": null,
      "overflow_y": null,
      "padding": null,
      "right": null,
      "top": null,
      "visibility": null,
      "width": null
     }
    },
    "fec764cf0cf746d5b4f8dcb938562d66": {
     "model_module": "@jupyter-widgets/controls",
     "model_module_version": "1.5.0",
     "model_name": "HBoxModel",
     "state": {
      "_dom_classes": [],
      "_model_module": "@jupyter-widgets/controls",
      "_model_module_version": "1.5.0",
      "_model_name": "HBoxModel",
      "_view_count": null,
      "_view_module": "@jupyter-widgets/controls",
      "_view_module_version": "1.5.0",
      "_view_name": "HBoxView",
      "box_style": "",
      "children": [
       "IPY_MODEL_bfb530d9174743ffb7108ed28957b2a8",
       "IPY_MODEL_1212fa54e2d7496687b717d98c6cedcc",
       "IPY_MODEL_3ecfe45d723d4cc0ae6548b2740f341d"
      ],
      "layout": "IPY_MODEL_2e49427e91ec4ea0897eb10a32bc8090"
     }
    }
   }
  }
 },
 "nbformat": 4,
 "nbformat_minor": 5
}
