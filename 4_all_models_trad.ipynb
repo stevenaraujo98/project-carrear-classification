{
 "cells": [
  {
   "cell_type": "code",
   "execution_count": null,
   "id": "e6f9d991",
   "metadata": {
    "id": "e6f9d991"
   },
   "outputs": [],
   "source": [
    "# Mount Google Drive if using Colab\n",
    "try:\n",
    "    from google.colab import drive\n",
    "    drive.mount('/content/drive')\n",
    "    USING_COLAB = True\n",
    "except:\n",
    "    USING_COLAB = False"
   ]
  },
  {
   "cell_type": "code",
   "execution_count": 2,
   "id": "38f079a6",
   "metadata": {
    "id": "38f079a6"
   },
   "outputs": [],
   "source": [
    "import os\n",
    "import sys\n",
    "import json\n",
    "import time\n",
    "import pandas as pd\n",
    "import numpy as np\n",
    "import matplotlib.pyplot as plt\n",
    "import seaborn as sns\n",
    "from pathlib import Path\n",
    "# import warnings\n",
    "# warnings.filterwarnings('ignore')\n",
    "from typing import Dict, List, Tuple, Optional, Any"
   ]
  },
  {
   "cell_type": "code",
   "execution_count": 3,
   "id": "42b23db6",
   "metadata": {
    "id": "42b23db6"
   },
   "outputs": [],
   "source": [
    "import joblib\n",
    "import psutil\n",
    "import torch\n",
    "from collections import Counter\n",
    "from sklearn.model_selection import train_test_split\n",
    "from sklearn.metrics import (\n",
    "    accuracy_score, f1_score, precision_recall_fscore_support, confusion_matrix,\n",
    "    classification_report, roc_auc_score, roc_curve, precision_recall_curve,\n",
    "    average_precision_score\n",
    ")\n",
    "from datetime import datetime"
   ]
  },
  {
   "cell_type": "code",
   "execution_count": 4,
   "id": "93f4ecc4",
   "metadata": {},
   "outputs": [],
   "source": [
    "# if USING_COLAB:\n",
    "#     from thundersvm import SVC  # ThunderSVM\n",
    "#     print(\"ThunderSVM importado correctamente.\")\n",
    "# else:\n",
    "#     from sklearn.svm import SVC  # Fallback a scikit-learn\n",
    "#     print(\"ThunderSVM no disponible, usando sklearn SVC.\")\n",
    "from sklearn.svm import SVC  # Fallback a scikit-learn"
   ]
  },
  {
   "cell_type": "code",
   "execution_count": 5,
   "id": "800fd15b",
   "metadata": {},
   "outputs": [],
   "source": [
    "import tensorflow as tf\n",
    "from tensorflow import keras\n",
    "from tensorflow.keras import layers"
   ]
  },
  {
   "cell_type": "code",
   "execution_count": 6,
   "id": "92552a1f",
   "metadata": {
    "id": "92552a1f"
   },
   "outputs": [],
   "source": [
    "from sklearn.preprocessing import LabelEncoder\n",
    "from sklearn.feature_extraction.text import TfidfVectorizer\n",
    "from sklearn.linear_model import LogisticRegression\n",
    "from sklearn.ensemble import RandomForestClassifier\n",
    "from sklearn.linear_model import SGDClassifier\n",
    "from xgboost import XGBClassifier\n",
    "from tqdm import tqdm"
   ]
  },
  {
   "cell_type": "code",
   "execution_count": 7,
   "id": "3c49944b",
   "metadata": {
    "id": "3c49944b"
   },
   "outputs": [],
   "source": [
    "from torch.utils.data import Dataset\n",
    "from torch.nn.parallel import DataParallel"
   ]
  },
  {
   "cell_type": "code",
   "execution_count": 9,
   "id": "684c66fc",
   "metadata": {
    "id": "684c66fc"
   },
   "outputs": [],
   "source": [
    "# Configuración de logging\n",
    "import logging\n",
    "logging.basicConfig(\n",
    "    level=logging.INFO,\n",
    "    format='%(asctime)s - %(levelname)s - %(message)s',\n",
    "    handlers=[\n",
    "        logging.FileHandler('training.log'),\n",
    "        logging.StreamHandler(sys.stdout)\n",
    "    ]\n",
    ")\n",
    "logger = logging.getLogger(__name__)"
   ]
  },
  {
   "cell_type": "code",
   "execution_count": null,
   "id": "08737452",
   "metadata": {
    "id": "08737452"
   },
   "outputs": [],
   "source": [
    "if USING_COLAB:\n",
    "    results_dir = \"/content/drive/My Drive/GTSI/Codigos_investigadores/supervised_new_data/results\"\n",
    "    plots_dir = \"/content/drive/My Drive/GTSI/Codigos_investigadores/supervised_new_data/plots\"\n",
    "    path_dataset = \"/content/drive/My Drive/GTSI/Codigos_proyectos_carrera/data\"\n",
    "    sufix = \"colab\"\n",
    "    models_dir = \"/content/drive/My Drive/GTSI/Codigos_investigadores/supervised_new_data/models\"\n",
    "else:\n",
    "    results_dir = \"./results\"\n",
    "    plots_dir = \"./plots\"\n",
    "    data_dir = \"./dataset/local_union\"\n",
    "    path_dataset = \"./data\"\n",
    "    sufix = \"colab\"\n",
    "    models_dir = \"./models\""
   ]
  },
  {
   "cell_type": "markdown",
   "id": "cac2c96e",
   "metadata": {
    "id": "cac2c96e"
   },
   "source": [
    "# 1. Análisis del sistema"
   ]
  },
  {
   "cell_type": "code",
   "execution_count": 11,
   "id": "6169f5a9",
   "metadata": {
    "id": "6169f5a9"
   },
   "outputs": [],
   "source": [
    "def get_system_info():\n",
    "    \"\"\"Obtener información del sistema\"\"\"\n",
    "    info = {\n",
    "        'cpu_count': psutil.cpu_count(),\n",
    "        'cpu_count_logical': psutil.cpu_count(logical=True),\n",
    "        'memory_total_gb': psutil.virtual_memory().total / (1024**3),\n",
    "        'memory_available_gb': psutil.virtual_memory().available / (1024**3),\n",
    "        'gpu_available': torch.cuda.is_available(),\n",
    "        'gpu_count': torch.cuda.device_count() if torch.cuda.is_available() else 0,\n",
    "    }\n",
    "\n",
    "    if info['gpu_available']:\n",
    "        gpu_info = []\n",
    "        for i in range(info['gpu_count']):\n",
    "            gpu_props = torch.cuda.get_device_properties(i)\n",
    "            gpu_info.append({\n",
    "                'name': gpu_props.name,\n",
    "                'memory_total_gb': gpu_props.total_memory / (1024**3),\n",
    "                'compute_capability': f\"{gpu_props.major}.{gpu_props.minor}\"\n",
    "            })\n",
    "        info['gpu_details'] = gpu_info\n",
    "\n",
    "    return info"
   ]
  },
  {
   "cell_type": "code",
   "execution_count": 12,
   "id": "19e0a881",
   "metadata": {
    "id": "19e0a881"
   },
   "outputs": [],
   "source": [
    "def recommend_batch_size(model_name: str = 'roberta-base') -> int:\n",
    "    \"\"\"Recomendar tamaño de batch basado en recursos disponibles\"\"\"\n",
    "    if not torch.cuda.is_available():\n",
    "        return 8  # CPU\n",
    "\n",
    "    gpu_memory = torch.cuda.get_device_properties(0).total_memory / (1024**3)\n",
    "\n",
    "    # Recomendaciones basadas en memoria GPU\n",
    "    # if gpu_memory >= 24:  # RTX 4090, A100, etc.\n",
    "    #     return 32 if 'large' not in model_name else 16\n",
    "    # elif gpu_memory >= 16:  # RTX 4080, V100, etc.\n",
    "    #     return 24 if 'large' not in model_name else 12\n",
    "    # elif gpu_memory >= 12:  # RTX 4070 Ti, RTX 3080 Ti, etc.\n",
    "    #     return 16 if 'large' not in model_name else 8\n",
    "    # elif gpu_memory >= 8:   # RTX 4060 Ti, RTX 3070, etc.\n",
    "    #     return 12 if 'large' not in model_name else 6\n",
    "    # else:  # GPUs más pequeñas\n",
    "    #     return 8 if 'large' not in model_name else 4\n",
    "    return 8"
   ]
  },
  {
   "cell_type": "code",
   "execution_count": 13,
   "id": "b3b8d3d1",
   "metadata": {
    "id": "b3b8d3d1",
    "outputId": "24a14197-525d-4cfc-ab21-dbb0527db624"
   },
   "outputs": [
    {
     "name": "stdout",
     "output_type": "stream",
     "text": [
      "============================================================\n",
      "REPORTE DEL SISTEMA\n",
      "============================================================\n",
      "CPU: 12 cores físicos, 12 lógicos\n",
      "RAM: 15.6 GB total, 7.0 GB disponible\n",
      "\n",
      "No hay GPUs disponibles\n",
      "\n",
      "Batch size recomendado: 8\n",
      "============================================================\n"
     ]
    }
   ],
   "source": [
    "\"\"\"Imprimir reporte del sistema\"\"\"\n",
    "info = get_system_info()\n",
    "\n",
    "print(\"=\"*60)\n",
    "print(\"REPORTE DEL SISTEMA\")\n",
    "print(\"=\"*60)\n",
    "print(f\"CPU: {info['cpu_count']} cores físicos, {info['cpu_count_logical']} lógicos\")\n",
    "print(f\"RAM: {info['memory_total_gb']:.1f} GB total, {info['memory_available_gb']:.1f} GB disponible\")\n",
    "\n",
    "if info['gpu_available']:\n",
    "    print(f\"\\nGPUs disponibles: {info['gpu_count']}\")\n",
    "    for i, gpu in enumerate(info['gpu_details']):\n",
    "        print(f\"  GPU {i}: {gpu['name']}\")\n",
    "        print(f\"    Memoria: {gpu['memory_total_gb']:.1f} GB\")\n",
    "        print(f\"    Compute Capability: {gpu['compute_capability']}\")\n",
    "else:\n",
    "    print(\"\\nNo hay GPUs disponibles\")\n",
    "\n",
    "print(f\"\\nBatch size recomendado: {recommend_batch_size()}\")\n",
    "print(\"=\"*60)"
   ]
  },
  {
   "cell_type": "markdown",
   "id": "c9c61151",
   "metadata": {
    "id": "c9c61151"
   },
   "source": [
    "# 2. Crear directorios en caso de no existir"
   ]
  },
  {
   "cell_type": "code",
   "execution_count": 14,
   "id": "457c3ffd",
   "metadata": {
    "id": "457c3ffd",
    "outputId": "413df54b-4c96-466d-8730-d6543c2ca962"
   },
   "outputs": [
    {
     "name": "stdout",
     "output_type": "stream",
     "text": [
      "✓ ./dataset/local_union\n",
      "✓ ./models\n",
      "✓ ./results\n",
      "✓ ./plots\n"
     ]
    }
   ],
   "source": [
    "directories = [data_dir, models_dir, results_dir, plots_dir]\n",
    "for dir_path in directories:\n",
    "    Path(dir_path).mkdir(exist_ok=True)\n",
    "    print(f\"✓ {dir_path}\")"
   ]
  },
  {
   "cell_type": "markdown",
   "id": "01c262b9",
   "metadata": {
    "id": "01c262b9"
   },
   "source": [
    "# 3. Dataset"
   ]
  },
  {
   "cell_type": "code",
   "execution_count": 15,
   "id": "130d563b",
   "metadata": {
    "id": "130d563b",
    "outputId": "84174e05-868f-42a0-dc28-a3a1d1f92d78"
   },
   "outputs": [
    {
     "name": "stderr",
     "output_type": "stream",
     "text": [
      "C:\\Users\\saraujo\\AppData\\Local\\Temp\\ipykernel_37332\\784705393.py:2: DtypeWarning: Columns (0,4,5) have mixed types. Specify dtype option on import or set low_memory=False.\n",
      "  df = pd.read_csv(data_dir + \"/patentes_target_union.csv\")\n"
     ]
    },
    {
     "name": "stdout",
     "output_type": "stream",
     "text": [
      "✓ Datos cargados: 1006502 muestras\n",
      "✓ SDGs únicos: 2\n",
      "✓ Distribución por SDG:\n",
      "value\n",
      "ACCEPTED    530501\n",
      "REJECTED    476001\n",
      "Name: count, dtype: int64\n"
     ]
    }
   ],
   "source": [
    "# df = pd.read_csv(data_dir + \"/dataset_balansed.csv\")\n",
    "df = pd.read_csv(data_dir + \"/patentes_target_union.csv\")\n",
    "print(f\"✓ Datos cargados: {len(df)} muestras\")\n",
    "print(f\"✓ SDGs únicos: {df['value'].nunique()}\") # Sistema de Gestión de Datos\n",
    "print(f\"✓ Distribución por SDG:\") # Stochastic Gradient Descent\n",
    "print(df['value'].value_counts().head())"
   ]
  },
  {
   "cell_type": "code",
   "execution_count": 16,
   "id": "2a1057b8",
   "metadata": {
    "id": "2a1057b8",
    "outputId": "26cdb9b9-57cc-41ae-ef25-977915d2a575"
   },
   "outputs": [
    {
     "name": "stdout",
     "output_type": "stream",
     "text": [
      "Index(['aplication_number', 'publication_number', 'value', 'text', 'gpu_used',\n",
      "       'batch_id', 'CORPUS'],\n",
      "      dtype='object')\n",
      "Corpus cambiado a la columna text y text almacenado en text_cp, CORPUS se mantiene para almacenamiento.\n",
      "Index(['aplication_number', 'publication_number', 'value', 'text', 'gpu_used',\n",
      "       'batch_id', 'CORPUS', 'text_cp'],\n",
      "      dtype='object')\n"
     ]
    }
   ],
   "source": [
    "if \"CORPUS\" in df.keys():\n",
    "    print(df.keys())\n",
    "    df[\"text_cp\"] = df[\"text\"]\n",
    "    df[\"text\"] = df[\"CORPUS\"]\n",
    "    print(\"Corpus cambiado a la columna text y text almacenado en text_cp, CORPUS se mantiene para almacenamiento.\")\n",
    "    print(df.keys())\n",
    "else:\n",
    "    print(\"Solo existe text, se mantiene la columna de text.\")"
   ]
  },
  {
   "cell_type": "code",
   "execution_count": 17,
   "id": "3033ab91",
   "metadata": {
    "id": "3033ab91",
    "outputId": "99626da3-747f-4936-840f-6fae863c3ef0"
   },
   "outputs": [
    {
     "data": {
      "text/plain": [
       "aplication_number                                              14176610\n",
       "publication_number                             US20140159107A1-20140612\n",
       "value                                                          ACCEPTED\n",
       "text                  semiconductor device aspect invention include ...\n",
       "gpu_used                                                            NaN\n",
       "batch_id                                                            NaN\n",
       "CORPUS                semiconductor device aspect invention include ...\n",
       "text_cp               semiconductor device some aspects of the inven...\n",
       "Name: 0, dtype: object"
      ]
     },
     "execution_count": 17,
     "metadata": {},
     "output_type": "execute_result"
    }
   ],
   "source": [
    "df.iloc[0]"
   ]
  },
  {
   "cell_type": "markdown",
   "id": "e6ca22f1",
   "metadata": {
    "id": "e6ca22f1"
   },
   "source": [
    "# 4. Análisis exploratorio"
   ]
  },
  {
   "cell_type": "code",
   "execution_count": 18,
   "id": "4cf4502f",
   "metadata": {},
   "outputs": [],
   "source": [
    "def equal_size_values(df: pd.DataFrame, column_target: str, target_size: int, column_input: str, n: int, m: int) -> pd.DataFrame:\n",
    "    \"\"\"\n",
    "    Ajusta el DataFrame para que cada valor único en la columna tenga el mismo número de muestras.\n",
    "    Si un valor tiene menos muestras, se repite aleatoriamente hasta alcanzar target_size.\n",
    "    Si tiene más, se reduce aleatoriamente.\n",
    "    Descarta filas si el tamaño de su contenido str no es mayor a n y menor a m.\n",
    "    \"\"\"\n",
    "    df = df[df[column_input].str.len().between(n, m)]\n",
    "    df_balanced = pd.DataFrame()\n",
    "\n",
    "    for value in df[column_target].unique():\n",
    "        subset = df[df[column_target] == value]\n",
    "        if len(subset) < target_size:\n",
    "            # Repetir aleatoriamente hasta alcanzar target_size\n",
    "            # subset = subset.sample(target_size, replace=True, random_state=base_config[\"random_state\"])\n",
    "            subset = subset.sample(target_size, replace=True, random_state=42)\n",
    "        else:\n",
    "            # Reducir aleatoriamente a target_size\n",
    "            # subset = subset.sample(target_size, random_state=base_config[\"random_state\"])\n",
    "            subset = subset.sample(target_size, random_state=42)\n",
    "        \n",
    "        df_balanced = pd.concat([df_balanced, subset], ignore_index=True)\n",
    "\n",
    "    return df_balanced"
   ]
  },
  {
   "cell_type": "code",
   "execution_count": 19,
   "id": "eeb976ad",
   "metadata": {},
   "outputs": [],
   "source": [
    "count_rows = 50000\n",
    "df = equal_size_values(df, 'value', target_size=count_rows, column_input=\"text\", n=100, m=1000)"
   ]
  },
  {
   "cell_type": "code",
   "execution_count": 20,
   "id": "711264e0",
   "metadata": {
    "id": "711264e0",
    "outputId": "cefb1863-672f-4e02-e44b-80b93ed7b59c"
   },
   "outputs": [
    {
     "name": "stdout",
     "output_type": "stream",
     "text": [
      "✓ Longitud promedio de texto: 528.0 caracteres\n",
      "✓ Longitud mínima: 100\n",
      "✓ Longitud máxima: 1000\n"
     ]
    }
   ],
   "source": [
    "# Estadísticas básicas\n",
    "text_lengths = df['text'].str.len()\n",
    "print(f\"✓ Longitud promedio de texto: {text_lengths.mean():.1f} caracteres\")\n",
    "print(f\"✓ Longitud mínima: {text_lengths.min()}\")\n",
    "print(f\"✓ Longitud máxima: {text_lengths.max()}\")"
   ]
  },
  {
   "cell_type": "code",
   "execution_count": 21,
   "id": "f4241318",
   "metadata": {},
   "outputs": [
    {
     "data": {
      "text/plain": [
       "(value\n",
       " ACCEPTED    50000\n",
       " REJECTED    50000\n",
       " Name: count, dtype: int64,\n",
       " 100000,\n",
       " (100000,))"
      ]
     },
     "execution_count": 21,
     "metadata": {},
     "output_type": "execute_result"
    }
   ],
   "source": [
    "df[\"value\"].value_counts(), count_rows * 2, df[\"value\"].shape"
   ]
  },
  {
   "cell_type": "code",
   "execution_count": 22,
   "id": "eceb6d4d",
   "metadata": {
    "id": "eceb6d4d"
   },
   "outputs": [],
   "source": [
    "info = {\n",
    "    'total_samples': len(df),\n",
    "    'unique_labels': df['value'].nunique(),\n",
    "    'label_distribution': df['value'].value_counts().to_dict(),\n",
    "    'text_lengths': {\n",
    "        'mean': df['text'].str.len().mean(),\n",
    "        'std': df['text'].str.len().std(),\n",
    "        'min': df['text'].str.len().min(),\n",
    "        'max': df['text'].str.len().max()\n",
    "    },\n",
    "    'missing_values': df.isnull().sum().to_dict()\n",
    "}\n",
    "\n",
    "# Guardar información\n",
    "with open(os.path.join(results_dir, 'data_analysis.json'), 'w') as f:\n",
    "    json.dump(info, f, indent=2, default=str)\n"
   ]
  },
  {
   "cell_type": "code",
   "execution_count": 23,
   "id": "e1049bb3",
   "metadata": {
    "id": "e1049bb3",
    "outputId": "9d8bfbc9-4eaa-4cd8-a4d9-14e7d19017bf"
   },
   "outputs": [
    {
     "data": {
      "image/png": "[encoded data removed]",
      "text/plain": [
       "<Figure size 1500x1200 with 4 Axes>"
      ]
     },
     "metadata": {},
     "output_type": "display_data"
    },
    {
     "name": "stdout",
     "output_type": "stream",
     "text": [
      "✓ Visualizaciones guardadas en ./plots\\data_analysis.png\n"
     ]
    }
   ],
   "source": [
    "fig, axes = plt.subplots(2, 2, figsize=(15, 12))\n",
    "\n",
    "# Distribución de etiquetas\n",
    "label_counts = pd.Series(info['label_distribution'])\n",
    "axes[0, 0].bar(label_counts.index, label_counts.values)\n",
    "axes[0, 0].set_title('Distribución de Etiquetas SDG')\n",
    "axes[0, 0].set_xlabel('SDG')\n",
    "axes[0, 0].set_ylabel('Frecuencia')\n",
    "axes[0, 0].tick_params(axis='x', rotation=45)\n",
    "\n",
    "# Distribución de longitudes de texto\n",
    "text_lengths_chars = df['text'].str.len() # cantidad de caracteres\n",
    "text_lengths_words = df['text'].str.split().str.len() # cantidad de palabras\n",
    "\n",
    "# axes[0, 1].hist(text_lengths, bins=50, alpha=0.7)\n",
    "# axes[0, 1].set_title('Distribución de Longitudes de Texto (Caracteres)')\n",
    "# axes[0, 1].set_xlabel('Longitud de Texto')\n",
    "# axes[0, 1].set_ylabel('Frecuencia')\n",
    "# axes[0, 1].axvline(text_lengths.mean(), color='red', linestyle='--', label=f'Media: {text_lengths.mean():.0f}')\n",
    "# axes[0, 1].axvline(text_lengths.median(), color='green', linestyle='--', label=f'Mediana: {text_lengths.median():.0f}')\n",
    "# # axes[0, 1].set_xlim(0, text_lengths.max() + 100)\n",
    "# # axes[0, 1].set_ylim(0, text_lengths.value_counts().max() + 100)\n",
    "# axes[0, 1].legend()\n",
    "sns.histplot(text_lengths_chars, bins=50, color='blue', alpha=0.5, label='Caracteres', ax=axes[0, 1])\n",
    "sns.histplot(text_lengths_words, bins=50, color='orange', alpha=0.5, label='Palabras', ax=axes[0, 1])\n",
    "axes[0, 1].set_title('Distribución de Longitudes de Texto')\n",
    "axes[0, 1].set_xlabel('Longitud')\n",
    "axes[0, 1].set_ylabel('Frecuencia')\n",
    "axes[0, 1].legend()\n",
    "\n",
    "# Boxplot de longitudes por SDG\n",
    "df_plot = df.copy()\n",
    "df_plot['text_length'] = df_plot['text'].str.len()\n",
    "sns.boxplot(data=df_plot, x='value', y='text_length', ax=axes[1, 0])\n",
    "axes[1, 0].set_title('Longitud de Texto por SDG')\n",
    "axes[1, 0].set_xlabel('SDG')\n",
    "axes[1, 0].set_ylabel('Longitud de Texto')\n",
    "axes[1, 0].tick_params(axis='x', rotation=45)\n",
    "\n",
    "# Heatmap de correlación (si hay más columnas numéricas)\n",
    "numeric_cols = df.select_dtypes(include=[np.number]).columns\n",
    "if len(numeric_cols) > 1:\n",
    "    corr_matrix = df[numeric_cols].corr()\n",
    "    sns.heatmap(corr_matrix, annot=True, cmap='coolwarm', center=0, ax=axes[1, 1])\n",
    "    axes[1, 1].set_title('Matriz de Correlación')\n",
    "else:\n",
    "    axes[1, 1].text(0.5, 0.5, 'No hay suficientes\\nvariables numéricas\\npara correlación',\n",
    "                    ha='center', va='center', transform=axes[1, 1].transAxes)\n",
    "    axes[1, 1].set_title('Matriz de Correlación')\n",
    "\n",
    "plt.tight_layout()\n",
    "plt.savefig(os.path.join(plots_dir, 'data_analysis.png'), dpi=300, bbox_inches='tight')\n",
    "plt.show()\n",
    "plt.close()\n",
    "print(\"✓ Visualizaciones guardadas en\", os.path.join(plots_dir, 'data_analysis.png'))\n"
   ]
  },
  {
   "cell_type": "code",
   "execution_count": 24,
   "id": "1b1aa91e",
   "metadata": {},
   "outputs": [
    {
     "name": "stdout",
     "output_type": "stream",
     "text": [
      "Análisis de datos completado.\n",
      "Cantidad de muestras: 100000\n",
      "Cantidad de palabras *********\n",
      "Minimo: 10\n",
      "Máximo: 158\n",
      "Media: 69.84686\n",
      "Mediana 71.0\n",
      "Cantidad de caracteres *********\n",
      "Minimo: 100\n",
      "Máximo: 1000\n",
      "Media: 528.0248\n",
      "Mediana 535.0\n"
     ]
    }
   ],
   "source": [
    "print(\"Análisis de datos completado.\")\n",
    "print(\"Cantidad de muestras:\", len(df))\n",
    "print(\"Cantidad de palabras *********\")\n",
    "print(\"Minimo:\", text_lengths_words.min())\n",
    "print(\"Máximo:\", text_lengths_words.max())\n",
    "print(\"Media:\", text_lengths_words.mean())\n",
    "print(\"Mediana\", text_lengths_words.median())\n",
    "print(\"Cantidad de caracteres *********\")\n",
    "print(\"Minimo:\", text_lengths_chars.min())\n",
    "print(\"Máximo:\", text_lengths_chars.max())\n",
    "print(\"Media:\", text_lengths_chars.mean())\n",
    "print(\"Mediana\", text_lengths_chars.median())"
   ]
  },
  {
   "cell_type": "markdown",
   "id": "de70a144",
   "metadata": {
    "id": "de70a144"
   },
   "source": [
    "# 5. Optimización de configuración"
   ]
  },
  {
   "cell_type": "code",
   "execution_count": 25,
   "id": "e7e97263",
   "metadata": {
    "id": "e7e97263"
   },
   "outputs": [],
   "source": [
    "def optimize_config(base_config):\n",
    "    \"\"\"Optimizar configuración basada en recursos disponibles\"\"\"\n",
    "    system_info = get_system_info()\n",
    "    optimized = base_config.copy()\n",
    "\n",
    "    # Optimizar batch size\n",
    "    if system_info['gpu_available']:\n",
    "        gpu_memory = system_info['gpu_details'][0]['memory_total_gb']\n",
    "        optimized['batch_size'] = recommend_batch_size()\n",
    "\n",
    "        # Ajustar número de workers\n",
    "        optimized['num_workers'] = min(system_info['cpu_count'], 8)\n",
    "\n",
    "        # Habilitar optimizaciones GPU\n",
    "        optimized['fp16'] = True\n",
    "        optimized['dataloader_pin_memory'] = True\n",
    "\n",
    "        # Multi-GPU\n",
    "        if system_info['gpu_count'] > 1:\n",
    "            optimized['multi_gpu'] = True\n",
    "            optimized['batch_size'] *= system_info['gpu_count']\n",
    "    else:\n",
    "        # Configuración para CPU\n",
    "        optimized['batch_size'] = 8\n",
    "        optimized['num_workers'] = system_info['cpu_count']\n",
    "        optimized['fp16'] = False\n",
    "        optimized['dataloader_pin_memory'] = False\n",
    "\n",
    "    # Ajustar épocas basado en tamaño del dataset\n",
    "    if 'dataset_size' in base_config:\n",
    "        if base_config['dataset_size'] < 10000:\n",
    "            optimized['num_epochs'] = 15\n",
    "        elif base_config['dataset_size'] < 5000:\n",
    "            optimized['num_epochs'] = 10\n",
    "        else:\n",
    "            optimized['num_epochs'] = 5\n",
    "\n",
    "    return optimized"
   ]
  },
  {
   "cell_type": "code",
   "execution_count": 26,
   "id": "53f1aa53",
   "metadata": {
    "id": "53f1aa53"
   },
   "outputs": [],
   "source": [
    "def get_device():\n",
    "    \"\"\"Detecta el mejor dispositivo disponible\"\"\"\n",
    "    if torch.cuda.is_available():\n",
    "        return f\"cuda:{torch.cuda.current_device()}\"\n",
    "    elif torch.backends.mps.is_available():\n",
    "        return \"mps\"\n",
    "    else:\n",
    "        return \"cpu\""
   ]
  },
  {
   "cell_type": "code",
   "execution_count": 27,
   "id": "bf0cff36",
   "metadata": {
    "id": "bf0cff36",
    "outputId": "52f4e839-2283-43f6-8ef7-45e7129068b5"
   },
   "outputs": [
    {
     "name": "stdout",
     "output_type": "stream",
     "text": [
      "Configuración optimizada:\n",
      "  dataset_size: 100000\n",
      "  test_size: 0.2\n",
      "  val_size: 0.2\n",
      "  random_state: 42\n",
      "  warmup_steps: 500\n",
      "  weight_decay: 0.01\n",
      "  early_stopping_patience: 3\n",
      "  device: cpu\n",
      "  use_gpu: False\n",
      "  multi_gpu: False\n",
      "  traditional_use_gpu: False\n",
      "  transformer_use_gpu: False\n",
      "  max_length: 512\n",
      "  batch_size: 8\n",
      "  num_epochs: 5\n",
      "  learning_rate: 2e-05\n",
      "  use_wandb: False\n",
      "  save_plots: True\n",
      "  verbose: True\n",
      "  models_to_train: {'roberta': 'roberta-base', 'bert': 'bert-base-uncased', 'distilbert': 'distilbert-base-uncased'}\n",
      "  num_gpus: 0\n",
      "  num_workers: 12\n",
      "  fp16: False\n",
      "  dataloader_pin_memory: False\n"
     ]
    }
   ],
   "source": [
    "base_config = {\n",
    "    'dataset_size': len(df),\n",
    "    'test_size': 0.2,\n",
    "    'val_size': 0.2,  # Del conjunto de entrenamiento\n",
    "    'random_state': 42,  # Fijar semilla para reproducibilidad\n",
    "    'warmup_steps': 500,\n",
    "    'weight_decay': 0.01,\n",
    "    'early_stopping_patience': 3,\n",
    "\n",
    "    # Configuración de GPU\n",
    "    \"device\": get_device(),\n",
    "    \"use_gpu\": torch.cuda.is_available(),\n",
    "    \"multi_gpu\": torch.cuda.device_count() > 1,\n",
    "\n",
    "    # Configuración de modelos tradicionales\n",
    "    \"traditional_use_gpu\": False,\n",
    "\n",
    "    # Configuración de transformers\n",
    "    \"transformer_use_gpu\": torch.cuda.is_available(),\n",
    "    'max_length': 512,\n",
    "    'batch_size': 16 if torch.cuda.is_available() else 8,\n",
    "    'num_epochs': 3,\n",
    "    'learning_rate': 2e-5,\n",
    "\n",
    "    # Logging\n",
    "    'use_wandb': False,  # Cambiar a True para usar Weights & Biases\n",
    "    'save_plots': True,\n",
    "    'verbose': True,\n",
    "\n",
    "    # MODELS TRANSFORMERS\n",
    "    \"models_to_train\": {\n",
    "        'roberta': 'roberta-base',\n",
    "        'bert': 'bert-base-uncased',\n",
    "        'distilbert': 'distilbert-base-uncased'\n",
    "    }\n",
    "}\n",
    "base_config['num_gpus'] = torch.cuda.device_count() if base_config['use_gpu'] else 0\n",
    "\n",
    "optimized_config = optimize_config(base_config)\n",
    "print(\"Configuración optimizada:\")\n",
    "for key, value in optimized_config.items():\n",
    "    print(f\"  {key}: {value}\")"
   ]
  },
  {
   "cell_type": "markdown",
   "id": "e9c23a72",
   "metadata": {
    "id": "e9c23a72"
   },
   "source": [
    "# 6. Procesamiento"
   ]
  },
  {
   "cell_type": "code",
   "execution_count": 28,
   "id": "430e46b0",
   "metadata": {
    "id": "430e46b0"
   },
   "outputs": [],
   "source": [
    "def clean_data(df):\n",
    "    \"\"\"Limpiar y preprocesar datos\"\"\"\n",
    "    print(\"Limpiando datos...\")\n",
    "\n",
    "    # Eliminar filas con valores nulos\n",
    "    df['text'] = df['text'].dropna()\n",
    "\n",
    "    # Convertir texto a string\n",
    "    df['text'] = df['text'].astype(str)\n",
    "\n",
    "    # Filtrar textos muy cortos\n",
    "    df = df[df['text'].str.len() >= 10]\n",
    "\n",
    "    print(f\"Datos después de limpieza: {len(df)} muestras\")\n",
    "    return df"
   ]
  },
  {
   "cell_type": "code",
   "execution_count": 29,
   "id": "367a654f",
   "metadata": {
    "id": "367a654f",
    "outputId": "06f53d1b-b772-4822-cf6f-a055eea38a35"
   },
   "outputs": [
    {
     "name": "stdout",
     "output_type": "stream",
     "text": [
      "Limpiando datos...\n",
      "Datos después de limpieza: 100000 muestras\n"
     ]
    }
   ],
   "source": [
    "df = clean_data(df)"
   ]
  },
  {
   "cell_type": "code",
   "execution_count": 30,
   "id": "54dff69c",
   "metadata": {
    "id": "54dff69c",
    "outputId": "478f4e30-b3ce-4d2e-d1ce-3f8ff9fda1f7"
   },
   "outputs": [
    {
     "name": "stdout",
     "output_type": "stream",
     "text": [
      "<class 'pandas.core.frame.DataFrame'>\n",
      "RangeIndex: 100000 entries, 0 to 99999\n",
      "Data columns (total 8 columns):\n",
      " #   Column              Non-Null Count   Dtype \n",
      "---  ------              --------------   ----- \n",
      " 0   aplication_number   100000 non-null  object\n",
      " 1   publication_number  100000 non-null  object\n",
      " 2   value               100000 non-null  object\n",
      " 3   text                100000 non-null  object\n",
      " 4   gpu_used            32305 non-null   object\n",
      " 5   batch_id            32305 non-null   object\n",
      " 6   CORPUS              100000 non-null  object\n",
      " 7   text_cp             100000 non-null  object\n",
      "dtypes: object(8)\n",
      "memory usage: 6.1+ MB\n"
     ]
    }
   ],
   "source": [
    "df.info()"
   ]
  },
  {
   "cell_type": "code",
   "execution_count": 31,
   "id": "7f380562",
   "metadata": {
    "id": "7f380562"
   },
   "outputs": [],
   "source": [
    "def split_data(df):\n",
    "    \"\"\"Dividir datos en entrenamiento, validación y prueba\"\"\"\n",
    "    print(\"Dividiendo datos...\")\n",
    "\n",
    "    # Primera división: train+val vs test\n",
    "    X = df['text'].values\n",
    "    y = df['value'].values\n",
    "\n",
    "    X_temp, X_test, y_temp, y_test = train_test_split(\n",
    "        X, y, test_size=base_config[\"test_size\"],\n",
    "        random_state=base_config[\"random_state\"],\n",
    "        stratify=y\n",
    "    )\n",
    "\n",
    "    # Segunda división: train vs val\n",
    "    X_train, X_val, y_train, y_val = train_test_split(\n",
    "        X_temp, y_temp, test_size=base_config[\"val_size\"],\n",
    "        random_state=base_config[\"random_state\"],\n",
    "        stratify=y_temp\n",
    "    )\n",
    "\n",
    "    # Crear DataFrames\n",
    "    train_df = pd.DataFrame({'text': X_train, 'value': y_train})\n",
    "    val_df = pd.DataFrame({'text': X_val, 'value': y_val})\n",
    "    test_df = pd.DataFrame({'text': X_test, 'value': y_test})\n",
    "\n",
    "    print(f\"División de datos - Train: {len(train_df)}, Val: {len(val_df)}, Test: {len(test_df)}\")\n",
    "\n",
    "    return train_df, val_df, test_df"
   ]
  },
  {
   "cell_type": "code",
   "execution_count": 32,
   "id": "8d27489a",
   "metadata": {
    "id": "8d27489a",
    "outputId": "f3cc8972-c0a4-40df-dea3-40aeba960c94"
   },
   "outputs": [
    {
     "name": "stdout",
     "output_type": "stream",
     "text": [
      "Dividiendo datos...\n",
      "División de datos - Train: 64000, Val: 16000, Test: 20000\n"
     ]
    }
   ],
   "source": [
    "train_df, val_df, test_df = split_data(df)"
   ]
  },
  {
   "cell_type": "markdown",
   "id": "5465c760",
   "metadata": {
    "id": "5465c760"
   },
   "source": [
    "# 7. Entrenamiento"
   ]
  },
  {
   "cell_type": "code",
   "execution_count": 33,
   "id": "b3fda63e",
   "metadata": {
    "id": "b3fda63e",
    "outputId": "47bc25b1-48a7-4012-8266-6f0cfa4bd6b5"
   },
   "outputs": [
    {
     "name": "stdout",
     "output_type": "stream",
     "text": [
      "2025-07-22 13:26:55,090 - INFO - Iniciando pipeline de entrenamiento...\n"
     ]
    }
   ],
   "source": [
    "logger.info(\"Iniciando pipeline de entrenamiento...\")\n",
    "start_time = time.time()"
   ]
  },
  {
   "cell_type": "markdown",
   "id": "8de90c65",
   "metadata": {
    "id": "8de90c65"
   },
   "source": [
    "### Entrenar modelos aprendizaje automatico"
   ]
  },
  {
   "cell_type": "code",
   "execution_count": 34,
   "id": "f4df941a",
   "metadata": {
    "id": "f4df941a"
   },
   "outputs": [],
   "source": [
    "def save_traditional_model(model, vectorizer, model_name, results_dict):\n",
    "    \"\"\"Guarda modelo tradicional y sus componentes\"\"\"\n",
    "    timestamp = datetime.now().strftime(\"%Y%m%d_%H%M%S\")\n",
    "    model_dir = f\"{models_dir}/traditional/{model_name}_{timestamp}\"\n",
    "    os.makedirs(model_dir, exist_ok=True)\n",
    "\n",
    "    # Guardar modelo\n",
    "    model_path = f\"{model_dir}/model.pkl\"\n",
    "    joblib.dump(model, model_path)\n",
    "\n",
    "    # Guardar vectorizador\n",
    "    vectorizer_path = f\"{model_dir}/vectorizer.pkl\"\n",
    "    joblib.dump(vectorizer, vectorizer_path)\n",
    "\n",
    "    # Guardar metadatos\n",
    "    metadata = {\n",
    "        'model_name': model_name,\n",
    "        'timestamp': timestamp,\n",
    "        'val_accuracy': results_dict['val_accuracy'],\n",
    "        'test_accuracy': results_dict['test_accuracy'],\n",
    "        'val_f1': results_dict['val_f1'],\n",
    "        'test_f1': results_dict['f1_score'],\n",
    "        'gpu_used': results_dict['gpu_used'],\n",
    "        'model_path': model_path,\n",
    "        'vectorizer_path': vectorizer_path\n",
    "    }\n",
    "\n",
    "    metadata_path = f\"{model_dir}/metadata.json\"\n",
    "    with open(metadata_path, 'w') as f:\n",
    "        json.dump(metadata, f, indent=2)\n",
    "\n",
    "    print(f\"💾 Modelo guardado en: {model_dir}\")\n",
    "    return model_dir"
   ]
  },
  {
   "cell_type": "code",
   "execution_count": 35,
   "id": "cda7bda8",
   "metadata": {},
   "outputs": [],
   "source": [
    "def train_traditional_models(train_df, val_df, test_df, use_gpu=None, save_models=True):\n",
    "    \"\"\"Entrenar modelos tradicionales de ML\"\"\"\n",
    "    logger.info(\"Entrenando modelos tradicionales...\")\n",
    "\n",
    "    # Configuración de GPU\n",
    "    if use_gpu is None:\n",
    "        use_gpu_final = optimized_config[\"traditional_use_gpu\"]\n",
    "    else:\n",
    "        use_gpu_final = use_gpu and optimized_config[\"use_gpu\"]\n",
    "\n",
    "    print(f\"   - Configuración GPU: {use_gpu_final}\")\n",
    "    print(f\"   - Guardar modelos: {save_models}\")\n",
    "\n",
    "    # Vectorización TF-IDF\n",
    "    vectorizer = TfidfVectorizer(max_features=100000, stop_words='english')\n",
    "    X_train_tfidf = vectorizer.fit_transform(train_df['text'])\n",
    "    X_val_tfidf = vectorizer.transform(val_df['text'])\n",
    "    X_test_tfidf = vectorizer.transform(test_df['text'])\n",
    "\n",
    "\n",
    "    # # LabelEncoder para las etiquetas me asigna 0 para ACCEPTED y 1 para REJECTED\n",
    "    # label_encoder = LabelEncoder()\n",
    "    # y_train = label_encoder.fit_transform(train_df['value'])\n",
    "    # y_val = label_encoder.transform(val_df['value'])\n",
    "    # y_test = label_encoder.transform(test_df['value'])\n",
    "\n",
    "    label_map = {'REJECTED': 0, 'ACCEPTED': 1}\n",
    "    y_train = train_df['value'].map(label_map)\n",
    "    y_val = val_df['value'].map(label_map)\n",
    "    y_test = test_df['value'].map(label_map)\n",
    "\n",
    "\n",
    "    # Modelos a entrenar\n",
    "    models = {\n",
    "        # 'SVM': SVC(kernel='rbf', probability=True, random_state=base_config[\"random_state\"]), # Lento para muchos datos\n",
    "        'LinearSVC': SGDClassifier(loss='hinge', max_iter=100000, random_state=base_config[\"random_state\"], n_jobs=-1),\n",
    "        \n",
    "        'Random_Forest': RandomForestClassifier(n_estimators=100, random_state=base_config[\"random_state\"], n_jobs=-1),\n",
    "        'Logistic_Regression': LogisticRegression(random_state=base_config[\"random_state\"], max_iter=2000, n_jobs=-1),\n",
    "        'XGBoost': XGBClassifier(\n",
    "            eval_metric='mlogloss',\n",
    "            random_state=base_config[\"random_state\"],\n",
    "            tree_method='gpu_hist' if use_gpu_final else 'auto'\n",
    "        ),\n",
    "    }\n",
    "\n",
    "    # models = {\n",
    "    #     # 'SVM': SVC(kernel='rbf', probability=True, random_state=base_config[\"random_state\"]), # Lento para muchos datos\n",
    "    #     'LinearSVC': SGDClassifier(loss='hinge',\n",
    "    #         alpha=0.0001,\n",
    "    #         penalty='l2',\n",
    "    #         max_iter=100000,\n",
    "    #         tol=1e-4,\n",
    "    #         random_state=base_config[\"random_state\"],\n",
    "    #         n_jobs=-1\n",
    "    #     ),\n",
    "    #     'Random_Forest': RandomForestClassifier(n_estimators=200,\n",
    "    #         max_depth=10,\n",
    "    #         min_samples_split=5,\n",
    "    #         min_samples_leaf=2,\n",
    "    #         max_features='sqrt',\n",
    "    #         random_state=base_config[\"random_state\"],\n",
    "    #         n_jobs=-1\n",
    "    #     ),\n",
    "    #     'Logistic_Regression': LogisticRegression(C=0.5,\n",
    "    #         penalty='l2',\n",
    "    #         solver='lbfgs',\n",
    "    #         random_state=base_config[\"random_state\"], max_iter=2000, n_jobs=-1\n",
    "    #     ),\n",
    "    #     'XGBoost': XGBClassifier(\n",
    "    #         n_estimators=200,\n",
    "    #         max_depth=6,\n",
    "    #         learning_rate=0.05,\n",
    "    #         subsample=0.8,\n",
    "    #         colsample_bytree=0.8,\n",
    "    #         eval_metric='mlogloss',\n",
    "    #         random_state=base_config[\"random_state\"],\n",
    "    #         tree_method='gpu_hist' if use_gpu_final else 'auto'\n",
    "    #     ),\n",
    "    # }\n",
    "    \n",
    "    results = {}\n",
    "    saved_models = {}\n",
    "\n",
    "    # Puedes usar tqdm para barra de progreso, o dejarlo como print\n",
    "    for name, model in tqdm(models.items(), desc=\"Entrenando modelos\"):\n",
    "        print(f\"Entrenando {name}...\")\n",
    "        start_time = time.time()\n",
    "\n",
    "        # Entrenar modelo\n",
    "        model.fit(X_train_tfidf, y_train)\n",
    "        print(f\"   - Tiempo de entrenamiento: {(time.time() - start_time)/60:.2f} minutos\")\n",
    "\n",
    "        # Predicciones\n",
    "        train_pred = model.predict(X_train_tfidf)\n",
    "        val_pred = model.predict(X_val_tfidf)\n",
    "        test_pred = model.predict(X_test_tfidf)\n",
    "        print(f\"   - Predicciones completadas: Train: {len(train_pred)}, Val: {len(val_pred)}, Test: {len(test_pred)}\")\n",
    "\n",
    "        # Métricas\n",
    "        results[name] = {\n",
    "            'train_accuracy': accuracy_score(y_train, train_pred),\n",
    "            'val_accuracy': accuracy_score(y_val, val_pred),\n",
    "            'test_accuracy': accuracy_score(y_test, test_pred),\n",
    "            'training_time': time.time() - start_time,\n",
    "            'model': model,\n",
    "            'predictions': {\n",
    "                'train': train_pred,\n",
    "                'val': val_pred,\n",
    "                'test': test_pred\n",
    "            },\n",
    "            'gpu_used': use_gpu_final\n",
    "        }\n",
    "\n",
    "        val_f1 = f1_score(y_val, val_pred, average='weighted')\n",
    "\n",
    "        # Métricas detalladas\n",
    "        precision, recall, f1, _ = precision_recall_fscore_support(\n",
    "            y_test, test_pred, average='weighted'\n",
    "        )\n",
    "        results[name].update({\n",
    "            'precision': precision,\n",
    "            'recall': recall,\n",
    "            'f1_score': f1,\n",
    "            'val_f1': val_f1,\n",
    "        })\n",
    "\n",
    "        if save_models:\n",
    "            model_dir = save_traditional_model(model, vectorizer, name, results[name])\n",
    "            saved_models[name] = model_dir\n",
    "\n",
    "        logger.info(f\"{name} - Test Accuracy: {results[name]['test_accuracy']:.4f}\")\n",
    "\n",
    "    # Guardar vectorizador y label encoder\n",
    "    joblib.dump(vectorizer, os.path.join(models_dir, 'tfidf_vectorizer.pkl'))\n",
    "    # joblib.dump(label_encoder, os.path.join(models_dir, 'label_encoder.pkl'))\n",
    "\n",
    "    return results, saved_models if save_models else {}"
   ]
  },
  {
   "cell_type": "code",
   "execution_count": null,
   "id": "a6f6e2c6",
   "metadata": {
    "id": "a6f6e2c6",
    "outputId": "49457316-b71e-46d5-b42d-ebbb275531ea"
   },
   "outputs": [
    {
     "name": "stdout",
     "output_type": "stream",
     "text": [
      "2025-07-08 13:28:16,152 - INFO - Entrenando modelos tradicionales...\n"
     ]
    },
    {
     "name": "stdout",
     "output_type": "stream",
     "text": [
      "   - Configuración GPU: False\n",
      "   - Guardar modelos: True\n"
     ]
    },
    {
     "name": "stderr",
     "output_type": "stream",
     "text": [
      "Entrenando modelos:   0%|          | 0/4 [00:00<?, ?it/s]"
     ]
    },
    {
     "name": "stdout",
     "output_type": "stream",
     "text": [
      "Entrenando LinearSVC...\n",
      "   - Tiempo de entrenamiento: 0.07 minutos\n",
      "   - Predicciones completadas: Train: 608000, Val: 152000, Test: 190000\n",
      "💾 Modelo guardado en: ./models/traditional/LinearSVC_20250708_132939\n",
      "2025-07-08 13:29:41,536 - INFO - LinearSVC - Test Accuracy: 0.6515\n"
     ]
    },
    {
     "name": "stderr",
     "output_type": "stream",
     "text": [
      "Entrenando modelos:  25%|██▌       | 1/4 [00:06<00:19,  6.54s/it]"
     ]
    },
    {
     "name": "stdout",
     "output_type": "stream",
     "text": [
      "Entrenando Random_Forest...\n",
      "   - Tiempo de entrenamiento: 69.85 minutos\n",
      "   - Predicciones completadas: Train: 608000, Val: 152000, Test: 190000\n",
      "💾 Modelo guardado en: ./models/traditional/Random_Forest_20250708_144028\n",
      "2025-07-08 14:41:04,747 - INFO - Random_Forest - Test Accuracy: 0.8577\n"
     ]
    },
    {
     "name": "stderr",
     "output_type": "stream",
     "text": [
      "Entrenando modelos:  50%|█████     | 2/4 [1:11:29<1:24:04, 2522.23s/it]"
     ]
    },
    {
     "name": "stdout",
     "output_type": "stream",
     "text": [
      "Entrenando Logistic_Regression...\n",
      "   - Tiempo de entrenamiento: 0.38 minutos\n",
      "   - Predicciones completadas: Train: 608000, Val: 152000, Test: 190000\n",
      "💾 Modelo guardado en: ./models/traditional/Logistic_Regression_20250708_144128\n",
      "2025-07-08 14:41:33,489 - INFO - Logistic_Regression - Test Accuracy: 0.6814\n"
     ]
    },
    {
     "name": "stderr",
     "output_type": "stream",
     "text": [
      "Entrenando modelos:  75%|███████▌  | 3/4 [1:11:58<23:03, 1383.65s/it]  "
     ]
    },
    {
     "name": "stdout",
     "output_type": "stream",
     "text": [
      "Entrenando XGBoost...\n",
      "   - Tiempo de entrenamiento: 3.23 minutos\n",
      "   - Predicciones completadas: Train: 608000, Val: 152000, Test: 190000\n",
      "💾 Modelo guardado en: ./models/traditional/XGBoost_20250708_144451\n",
      "2025-07-08 14:44:54,330 - INFO - XGBoost - Test Accuracy: 0.6883\n"
     ]
    },
    {
     "name": "stderr",
     "output_type": "stream",
     "text": [
      "Entrenando modelos: 100%|██████████| 4/4 [1:15:19<00:00, 1129.83s/it]\n"
     ]
    }
   ],
   "source": [
    "# traditional_results, traditional_saved = train_traditional_models(train_df, val_df, test_df)\n",
    "# 15 minutos 20000 muestras (con el SVC)\n",
    "# 2 minutos 100000 muestras\n",
    "# 10 minutos 200000 muestras\n",
    "# 10 minutos 200000-colab muestras\n",
    "# 25 minutos 400000 muestras\n",
    "# 36 minutos 600000 muestras\n",
    "# 66 minutos 800000 muestras\n",
    "# 11 minutos 950000 muestras cambiando parametros de los modelos\n",
    "# 77 minutos 950000 muestras"
   ]
  },
  {
   "cell_type": "markdown",
   "id": "f9f51742",
   "metadata": {
    "id": "f9f51742"
   },
   "source": [
    "### Entrenar modelos aprendizaje profundo"
   ]
  },
  {
   "cell_type": "code",
   "execution_count": 34,
   "id": "b9c22b98",
   "metadata": {},
   "outputs": [],
   "source": [
    "# funcion para crear red neuronal con keras\n",
    "def create_transformer_model():\n",
    "    model = keras.Sequential([\n",
    "        layers.Input(shape=(None,), dtype=tf.int32, name='input_ids'),\n",
    "        layers.Embedding(input_dim=30522, output_dim=768, mask_zero=True, name='embedding_layer'),\n",
    "        layers.GlobalAveragePooling1D(),\n",
    "        layers.Dense(256, activation='relu', name='dense_layer'),\n",
    "        layers.Dense(1, activation='sigmoid', name='output_layer')\n",
    "    ])\n",
    "    return model"
   ]
  },
  {
   "cell_type": "code",
   "execution_count": 35,
   "id": "ff4879f1",
   "metadata": {},
   "outputs": [],
   "source": [
    "start_time = time.time()\n",
    "use_gpu = True\n",
    "# Configuración de GPU\n",
    "if use_gpu is None:\n",
    "    use_gpu_final = optimized_config[\"traditional_use_gpu\"]\n",
    "else:\n",
    "    use_gpu_final = use_gpu and optimized_config[\"use_gpu\"]"
   ]
  },
  {
   "cell_type": "code",
   "execution_count": 36,
   "id": "093bd077",
   "metadata": {
    "id": "093bd077"
   },
   "outputs": [],
   "source": [
    "model = create_transformer_model()\n",
    "\n",
    "model.compile(\n",
    "    optimizer=keras.optimizers.Adam(learning_rate=base_config['learning_rate']),\n",
    "    loss='binary_crossentropy',\n",
    "    metrics=['accuracy']\n",
    ")"
   ]
  },
  {
   "cell_type": "code",
   "execution_count": 37,
   "id": "0108b95a",
   "metadata": {},
   "outputs": [],
   "source": [
    "# Vectorización TF-IDF\n",
    "vectorizer = TfidfVectorizer(max_features=100000, stop_words='english')\n",
    "X_train_tfidf = vectorizer.fit_transform(train_df['text'])\n",
    "X_val_tfidf = vectorizer.transform(val_df['text'])\n",
    "X_test_tfidf = vectorizer.transform(test_df['text'])"
   ]
  },
  {
   "cell_type": "code",
   "execution_count": 38,
   "id": "929b70fa",
   "metadata": {},
   "outputs": [],
   "source": [
    "label_map = {'REJECTED': 0, 'ACCEPTED': 1}\n",
    "y_train = train_df['value'].map(label_map)\n",
    "y_val = val_df['value'].map(label_map)\n",
    "y_test = test_df['value'].map(label_map)"
   ]
  },
  {
   "cell_type": "code",
   "execution_count": null,
   "id": "507a8717",
   "metadata": {},
   "outputs": [],
   "source": [
    "model.fit(\n",
    "    X_train_tfidf,\n",
    "    y_train,\n",
    "    validation_data=(X_val_tfidf, y_val),\n",
    "    epochs=base_config['num_epochs'],\n",
    "    batch_size=base_config['batch_size'],\n",
    "    verbose=1\n",
    ")"
   ]
  },
  {
   "cell_type": "code",
   "execution_count": null,
   "id": "8323b6b2",
   "metadata": {},
   "outputs": [],
   "source": [
    "scores = model.evaluate(\n",
    "    X_test_tfidf,\n",
    "    y_test,\n",
    "    batch_size=base_config['batch_size'],\n",
    "    verbose=1\n",
    ")\n",
    "print(f\"Test Loss: {scores[0]:.4f}, Test Accuracy: {scores[1]:.4f}\")"
   ]
  },
  {
   "cell_type": "code",
   "execution_count": null,
   "id": "7b7fab4b",
   "metadata": {},
   "outputs": [],
   "source": [
    "train_pred = model.predict(X_train_tfidf)\n",
    "val_pred = model.predict(X_val_tfidf)\n",
    "test_pred = model.predict(X_test_tfidf)"
   ]
  },
  {
   "cell_type": "code",
   "execution_count": null,
   "id": "3b79745c",
   "metadata": {},
   "outputs": [],
   "source": [
    "traditional_results = {}"
   ]
  },
  {
   "cell_type": "code",
   "execution_count": null,
   "id": "2d35be9c",
   "metadata": {},
   "outputs": [],
   "source": [
    "# Métricas\n",
    "name = \"red_neuronal\"\n",
    "traditional_results[name] = {\n",
    "    'train_accuracy': accuracy_score(y_train, train_pred),\n",
    "    'val_accuracy': accuracy_score(y_val, val_pred),\n",
    "    'test_accuracy': accuracy_score(y_test, test_pred),\n",
    "    'training_time': time.time() - start_time,\n",
    "    'model': model,\n",
    "    'predictions': {\n",
    "        'train': train_pred,\n",
    "        'val': val_pred,\n",
    "        'test': test_pred\n",
    "    },\n",
    "    'gpu_used': use_gpu_final\n",
    "}\n",
    "\n",
    "val_f1 = f1_score(y_val, val_pred, average='weighted')\n",
    "\n",
    "# Métricas detalladas\n",
    "precision, recall, f1, _ = precision_recall_fscore_support(\n",
    "    y_test, test_pred, average='weighted'\n",
    ")\n",
    "traditional_results[name].update({\n",
    "    'precision': precision,\n",
    "    'recall': recall,\n",
    "    'f1_score': f1,\n",
    "    'val_f1': val_f1,\n",
    "})\n",
    "\n",
    "\n",
    "# model_dir = save_traditional_model(model, vectorizer, name, traditional_results[name])\n",
    "# save model\n",
    "timestamp = datetime.now().strftime(\"%Y%m%d_%H%M%S\")\n",
    "model_dir = f\"{models_dir}/traditional/{name}_{timestamp}\"\n",
    "os.makedirs(model_dir, exist_ok=True)\n",
    "    \n",
    "\n",
    "# Guardar modelo\n",
    "model_path = f\"{model_dir}/model.h5\"\n",
    "model.save(model_path)\n",
    "\n",
    "# Guardar vectorizador\n",
    "vectorizer_path = f\"{model_dir}/vectorizer.pkl\"\n",
    "joblib.dump(vectorizer, vectorizer_path)\n",
    "\n",
    "# Guardar metadatos\n",
    "metadata = {\n",
    "    'model_name': name,\n",
    "    'timestamp': timestamp,\n",
    "    'val_accuracy': traditional_results[name]['val_accuracy'],\n",
    "    'test_accuracy': traditional_results[name]['test_accuracy'],\n",
    "    'val_f1': traditional_results[name]['val_f1'],\n",
    "    'test_f1': traditional_results[name]['f1_score'],\n",
    "    'gpu_used': traditional_results[name]['gpu_used'],\n",
    "    'model_path': model_path,\n",
    "    'vectorizer_path': vectorizer_path\n",
    "}\n",
    "\n",
    "metadata_path = f\"{model_dir}/metadata.json\"\n",
    "with open(metadata_path, 'w') as f:\n",
    "    json.dump(metadata, f, indent=2)\n",
    "\n",
    "print(f\"💾 Modelo guardado en: {model_dir}\")\n",
    "\n",
    "logger.info(f\"{name} - Test Accuracy: {traditional_results[name]['test_accuracy']:.4f}\")\n"
   ]
  },
  {
   "cell_type": "markdown",
   "id": "7f0f17ff",
   "metadata": {
    "id": "7f0f17ff"
   },
   "source": [
    "# 8. Análisis de resultados"
   ]
  },
  {
   "cell_type": "code",
   "execution_count": null,
   "id": "ec3a8041",
   "metadata": {
    "id": "ec3a8041"
   },
   "outputs": [],
   "source": [
    "# Combinar resultados\n",
    "all_results = {**traditional_results}#, **transformer_results}"
   ]
  },
  {
   "cell_type": "code",
   "execution_count": null,
   "id": "eb3d5b90",
   "metadata": {
    "id": "eb3d5b90"
   },
   "outputs": [],
   "source": [
    "def create_comparison_plots(summary: Dict[str, Any], all_results: Dict[str, Any], test_df: pd.DataFrame):\n",
    "    \"\"\"Crear gráficos comparativos\"\"\"\n",
    "    fig, axes = plt.subplots(2, 2, figsize=(15, 12))\n",
    "\n",
    "    models = list(summary.keys())\n",
    "    accuracies = [summary[m]['test_accuracy'] for m in models]\n",
    "    f1_scores = [summary[m]['test_f1'] for m in models]\n",
    "    times = [summary[m]['training_time'] for m in models]\n",
    "\n",
    "    # Comparación de accuracy\n",
    "    bars1 = axes[0, 0].bar(models, accuracies, color='skyblue', alpha=0.7)\n",
    "    axes[0, 0].set_title('Comparación de Accuracy en Test')\n",
    "    axes[0, 0].set_ylabel('Accuracy')\n",
    "    axes[0, 0].tick_params(axis='x', rotation=45)\n",
    "\n",
    "    # Añadir valores en las barras\n",
    "    for bar, acc in zip(bars1, accuracies):\n",
    "        axes[0, 0].text(bar.get_x() + bar.get_width()/2, bar.get_height() + 0.01,\n",
    "                        f'{acc:.3f}', ha='center', va='bottom')\n",
    "\n",
    "    # Comparación de F1-Score\n",
    "    bars2 = axes[0, 1].bar(models, f1_scores, color='lightcoral', alpha=0.7)\n",
    "    axes[0, 1].set_title('Comparación de F1-Score en Test')\n",
    "    axes[0, 1].set_ylabel('F1-Score')\n",
    "    axes[0, 1].tick_params(axis='x', rotation=45)\n",
    "\n",
    "    offset = max(f1_scores) * 0.02  # Offset dinámico: 2% del máximo\n",
    "    for bar, f1 in zip(bars2, f1_scores):\n",
    "        axes[0, 1].text(bar.get_x() + bar.get_width()/2, bar.get_height() + offset,\n",
    "                        f'{f1:.3f}', ha='center', va='bottom')\n",
    "\n",
    "\n",
    "    # Tiempo de entrenamiento\n",
    "    bars3 = axes[1, 0].bar(models, times, color='lightgreen', alpha=0.7)\n",
    "    axes[1, 0].set_title('Tiempo de Entrenamiento')\n",
    "    axes[1, 0].set_ylabel('Tiempo (segundos)')\n",
    "    axes[1, 0].tick_params(axis='x', rotation=45)\n",
    "\n",
    "    for bar, time_val in zip(bars3, times):\n",
    "        axes[1, 0].text(bar.get_x() + bar.get_width()/2, bar.get_height() + max(times)*0.01,\n",
    "                        f'{time_val:.1f}s', ha='center', va='bottom')\n",
    "\n",
    "    # Scatter plot: Accuracy vs Tiempo\n",
    "    axes[1, 1].scatter(times, accuracies, s=100, alpha=0.7)\n",
    "    for i, model in enumerate(models):\n",
    "        axes[1, 1].annotate(model, (times[i], accuracies[i]),\n",
    "                            xytext=(5, 5), textcoords='offset points')\n",
    "    axes[1, 1].set_xlabel('Tiempo de Entrenamiento (s)')\n",
    "    axes[1, 1].set_ylabel('Accuracy')\n",
    "    axes[1, 1].set_title('Accuracy vs Tiempo de Entrenamiento')\n",
    "\n",
    "    plt.tight_layout()\n",
    "    plt.savefig(os.path.join(plots_dir, 'model_comparison.png'),\n",
    "                dpi=300, bbox_inches='tight')\n",
    "    plt.show()\n",
    "    plt.close()"
   ]
  },
  {
   "cell_type": "code",
   "execution_count": null,
   "id": "e22665fc",
   "metadata": {
    "id": "e22665fc"
   },
   "outputs": [],
   "source": [
    "def create_confusion_matrix_analysis(best_model_name: str, best_results: Dict[str, Any], test_df: pd.DataFrame):\n",
    "    \"\"\"Crear análisis de matriz de confusión para el mejor modelo\"\"\"\n",
    "    if 'predictions' not in best_results:\n",
    "        return\n",
    "\n",
    "    # LabelEncoder manual\n",
    "    label_map = {'REJECTED': 0, 'ACCEPTED': 1}\n",
    "\n",
    "    # Extraer etiquetas verdaderas\n",
    "    if 'label' in test_df.columns:\n",
    "        true_labels = test_df['label'].map(label_map).values\n",
    "    elif 'value' in test_df.columns:\n",
    "        true_labels = test_df['value'].map(label_map).values\n",
    "    else:\n",
    "        print(\"❌ No se encontró columna de etiquetas\")\n",
    "        return\n",
    "\n",
    "    # Extraer predicciones\n",
    "    predictions = None\n",
    "    possible_keys = ['test_predictions', 'predictions', 'y_pred', 'test_pred']\n",
    "    for key in possible_keys:\n",
    "        if key in best_results and best_results[key] is not None:\n",
    "            predictions = best_results[key]\n",
    "            break\n",
    "\n",
    "    if predictions is None:\n",
    "        print(f\"❌ No se encontraron predicciones. Claves disponibles: {list(best_results.keys())}\")\n",
    "        return\n",
    "\n",
    "    # Si predictions es un diccionario\n",
    "    if isinstance(predictions, dict):\n",
    "        if 'test' in predictions:\n",
    "            predictions = predictions['test']\n",
    "        else:\n",
    "            print(f\"❌ El diccionario de predicciones no tiene la clave 'test'.\")\n",
    "            return\n",
    "\n",
    "    predictions = np.array(predictions)\n",
    "\n",
    "    # Verificar tamaños\n",
    "    print(f\"📊 Etiquetas: {len(true_labels)}, Predicciones: {len(predictions)}\")\n",
    "\n",
    "    # Ajustar si los tamaños no coinciden\n",
    "    if len(true_labels) != len(predictions):\n",
    "        min_size = min(len(true_labels), len(predictions))\n",
    "        true_labels = true_labels[:min_size]\n",
    "        predictions = predictions[:min_size]\n",
    "        print(f\"🔧 Ajustado a {min_size} muestras\")\n",
    "\n",
    "    # Nombres de clases\n",
    "    if 'label_encoder' in best_results:\n",
    "        class_names = best_results['label_encoder'].classes_\n",
    "    else:\n",
    "        class_names = ['REJECTED', 'ACCEPTED']\n",
    "\n",
    "    # ===========================================\n",
    "    # 🔷 MATRIZ DE CONFUSIÓN - ABSOLUTA\n",
    "    # ===========================================\n",
    "    cm = confusion_matrix(true_labels, predictions)\n",
    "\n",
    "    plt.figure(figsize=(8, 6))\n",
    "    sns.heatmap(cm, annot=True, fmt='d', cmap='Blues',\n",
    "                xticklabels=class_names, yticklabels=class_names)\n",
    "    plt.title(f'Matriz de Confusión - {best_model_name} (Absoluta)')\n",
    "    plt.xlabel('Predicción')\n",
    "    plt.ylabel('Verdadero')\n",
    "    plt.tight_layout()\n",
    "    plt.savefig(os.path.join(plots_dir, f'confusion_matrix_{best_model_name}.png'),\n",
    "                dpi=300, bbox_inches='tight')\n",
    "    plt.close()\n",
    "\n",
    "    # ===========================================\n",
    "    # 🔷 MATRIZ DE CONFUSIÓN - NORMALIZADA (0 a 1)\n",
    "    # ===========================================\n",
    "    cm_normalized = cm.astype('float') / cm.sum(axis=1, keepdims=True)\n",
    "    cm_normalized = np.round(cm_normalized, 3)  # valores entre 0 y 1\n",
    "\n",
    "    plt.figure(figsize=(8, 6))\n",
    "    sns.heatmap(cm_normalized, annot=True, fmt='.3f', cmap='Greens',\n",
    "                xticklabels=class_names, yticklabels=class_names)\n",
    "    plt.title(f'Matriz de Confusión - {best_model_name} (Normalizada)')\n",
    "    plt.xlabel('Predicción')\n",
    "    plt.ylabel('Verdadero')\n",
    "    plt.tight_layout()\n",
    "    plt.savefig(os.path.join(plots_dir, f'confusion_matrix_{best_model_name}_normalized.png'),\n",
    "                dpi=300, bbox_inches='tight')\n",
    "    plt.show()\n",
    "    plt.close()\n",
    "\n",
    "    # Reporte de clasificación\n",
    "    report = classification_report(true_labels, predictions,\n",
    "                                    target_names=class_names,\n",
    "                                    output_dict=True)\n",
    "\n",
    "    with open(os.path.join(results_dir, f'classification_report_{best_model_name}.json'), 'w') as f:\n",
    "        json.dump(report, f, indent=2)\n"
   ]
  },
  {
   "cell_type": "code",
   "execution_count": null,
   "id": "861ea9b4",
   "metadata": {
    "id": "861ea9b4"
   },
   "outputs": [],
   "source": [
    "def create_detailed_analysis(all_results: Dict[str, Any], test_df: pd.DataFrame):\n",
    "    \"\"\"Crear análisis detallado de resultados\"\"\"\n",
    "    logger.info(\"Creando análisis detallado de resultados...\")\n",
    "\n",
    "    # Resumen de resultados\n",
    "    summary = {}\n",
    "    for model_name, results in all_results.items():\n",
    "        summary[model_name] = {\n",
    "            'test_accuracy': results.get('test_accuracy', 0),\n",
    "            'test_f1': results.get('f1_score', results.get('test_f1', 0)),\n",
    "            'training_time': results.get('training_time', 0)\n",
    "        }\n",
    "\n",
    "    # Crear visualizaciones comparativas\n",
    "    create_comparison_plots(summary, all_results, test_df)\n",
    "\n",
    "    # Análisis de confusión para el mejor modelo\n",
    "    best_model = max(summary.keys(), key=lambda x: summary[x]['test_accuracy'])\n",
    "    create_confusion_matrix_analysis(best_model, all_results[best_model], test_df)\n",
    "\n",
    "    # Guardar resumen\n",
    "    with open(os.path.join(results_dir, 'results_summary.json'), 'w') as f:\n",
    "        json.dump(summary, f, indent=2, default=str)\n",
    "\n",
    "    return summary"
   ]
  },
  {
   "cell_type": "code",
   "execution_count": null,
   "id": "a0930d22",
   "metadata": {
    "id": "a0930d22",
    "outputId": "3f57417a-3438-4911-c56e-07e71d663594"
   },
   "outputs": [
    {
     "name": "stdout",
     "output_type": "stream",
     "text": [
      "2025-07-08 14:44:57,155 - INFO - Creando análisis detallado de resultados...\n"
     ]
    },
    {
     "data": {
      "image/png": "[encoded data removed]",
      "text/plain": [
       "<Figure size 1500x1200 with 4 Axes>"
      ]
     },
     "metadata": {},
     "output_type": "display_data"
    },
    {
     "data": {
      "image/png": "[encoded data removed]",
      "text/plain": [
       "<Figure size 800x600 with 2 Axes>"
      ]
     },
     "metadata": {},
     "output_type": "display_data"
    }
   ],
   "source": [
    "summary = create_detailed_analysis(all_results, test_df)"
   ]
  },
  {
   "cell_type": "code",
   "execution_count": null,
   "id": "bdd5aed8",
   "metadata": {},
   "outputs": [],
   "source": [
    "# all_results[best_model]"
   ]
  },
  {
   "cell_type": "markdown",
   "id": "34af4057",
   "metadata": {
    "id": "34af4057"
   },
   "source": [
    "# 9. Reporte final"
   ]
  },
  {
   "cell_type": "code",
   "execution_count": null,
   "id": "742563bb",
   "metadata": {
    "id": "742563bb",
    "outputId": "9302af1c-de08-42c4-d3ff-a8799d0d3c53"
   },
   "outputs": [
    {
     "name": "stdout",
     "output_type": "stream",
     "text": [
      "2025-07-08 14:45:00,815 - INFO - Entrenamiento completado en 4604.84 segundos\n",
      "2025-07-08 14:45:00,815 - INFO - Mejor modelo: Random_Forest con accuracy: 0.8577\n"
     ]
    }
   ],
   "source": [
    "# Tiempo total\n",
    "total_time = time.time() - start_time\n",
    "logger.info(f\"Entrenamiento completado en {total_time:.2f} segundos\")\n",
    "\n",
    "# Mostrar mejores resultados\n",
    "# el accuracy mas grande y da como resultado el key\n",
    "best_model = max(summary.keys(), key=lambda x: summary[x]['test_accuracy'])\n",
    "logger.info(f\"Mejor modelo: {best_model} con accuracy: {summary[best_model]['test_accuracy']:.4f}\")"
   ]
  },
  {
   "cell_type": "code",
   "execution_count": null,
   "id": "303da456",
   "metadata": {
    "id": "303da456",
    "outputId": "0d247f9f-c47d-43ad-e14f-b7efc60ef5c4"
   },
   "outputs": [
    {
     "name": "stdout",
     "output_type": "stream",
     "text": [
      "\n",
      "==================================================\n",
      "RESUMEN DE RESULTADOS\n",
      "==================================================\n",
      "LinearSVC:\n",
      "  - Test Accuracy: 0.6515\n",
      "  - Test F1-Score: 0.6504\n",
      "  - Tiempo de entrenamiento: 4.14s\n",
      "\n",
      "Random_Forest:\n",
      "  - Test Accuracy: 0.8577\n",
      "  - Test F1-Score: 0.8577\n",
      "  - Tiempo de entrenamiento: 4247.06s\n",
      "\n",
      "Logistic_Regression:\n",
      "  - Test Accuracy: 0.6814\n",
      "  - Test F1-Score: 0.6809\n",
      "  - Tiempo de entrenamiento: 23.09s\n",
      "\n",
      "XGBoost:\n",
      "  - Test Accuracy: 0.6883\n",
      "  - Test F1-Score: 0.6871\n",
      "  - Tiempo de entrenamiento: 198.03s\n",
      "\n"
     ]
    }
   ],
   "source": [
    "print(\"\\n\" + \"=\"*50)\n",
    "print(\"RESUMEN DE RESULTADOS\")\n",
    "print(\"=\"*50)\n",
    "for model_name, metrics in summary.items():\n",
    "    print(f\"{model_name}:\")\n",
    "    print(f\"  - Test Accuracy: {metrics['test_accuracy']:.4f}\")\n",
    "    print(f\"  - Test F1-Score: {metrics['test_f1']:.4f}\")\n",
    "    print(f\"  - Tiempo de entrenamiento: {metrics['training_time']:.2f}s\")\n",
    "    print()"
   ]
  }
 ],
 "metadata": {
  "colab": {
   "provenance": []
  },
  "kernelspec": {
   "display_name": "Python 3",
   "language": "python",
   "name": "python3"
  },
  "language_info": {
   "codemirror_mode": {
    "name": "ipython",
    "version": 3
   },
   "file_extension": ".py",
   "mimetype": "text/x-python",
   "name": "python",
   "nbconvert_exporter": "python",
   "pygments_lexer": "ipython3",
   "version": "3.12.10"
  }
 },
 "nbformat": 4,
 "nbformat_minor": 5
}
